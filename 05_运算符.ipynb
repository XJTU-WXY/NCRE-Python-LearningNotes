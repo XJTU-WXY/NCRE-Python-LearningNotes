{
 "cells": [
  {
   "cell_type": "code",
   "execution_count": 1,
   "metadata": {},
   "outputs": [],
   "source": [
    "from IPython.core.interactiveshell import InteractiveShell\n",
    "InteractiveShell.ast_node_interactivity = \"all\""
   ]
  },
  {
   "attachments": {},
   "cell_type": "markdown",
   "metadata": {},
   "source": [
    "# 运算符\n",
    "## 运算符的本质：调用对应数据类型实现的的魔术方法\n",
    "Python 中的**魔术方法**（Magic Methods，或称特殊方法 Special Methods）是以双下划线` __ `包围的特殊方法。这些方法由 Python 解释器自动调用，不需要显式调用。Python 设计时强调\"一切皆对象\"，运算符（如 `+, -, *, /, ==` 等）并不是像 C/C++ 那样的固定符号，而是对应对象上的方法调用。"
   ]
  },
  {
   "cell_type": "markdown",
   "metadata": {},
   "source": [
    "## 运算符优先级"
   ]
  },
  {
   "cell_type": "markdown",
   "metadata": {},
   "source": [
    "优先级从高到低\n",
    "|运算符名称|Python表示|优先级|结合性|对应魔术方法|\n",
    "|---------|----------|------|-----|--------------|\n",
    "|小括号|()|19||（函数调用时调用 `__call__`）|\n",
    "|索引|x[i][j]|18|左|`__getitem__`|\n",
    "|属性访问|x.attr1.attr2|17|左|`__getattr__`, `__getattribute__`|\n",
    "|乘方|**|16|**右**|`__pow__`|\n",
    "|按位取反|~|15|右|`__invert__`|\n",
    "|正负号|+、-|14|右|`__pos__`, `__neg__`|\n",
    "|乘除|*、/、//、%|13|左|`__mul__`, `__truediv__`, `__floordiv__`, `__mod__`|\n",
    "|加减|+、-|12|左|`__add__`, `__sub__`|\n",
    "|移位|>>、<<|11|左|`__rshift__`, `__lshift__`|\n",
    "|按位与|&|10|右|`__and__`|\n",
    "|按位异或|^|9|左|`__xor__`|\n",
    "|按位或|\\||8|左|`__or__`|\n",
    "|比较运算符|==、!=、>、>=、<、<=|7|左|`__eq__`, `__ne__`, `__gt__`, `__ge__`, `__lt__`, `__le__`|\n",
    "|id运算符|is、is not|6|左|（不调用魔术方法，比较对象 id）|\n",
    "|成员运算符|in、not in|5|左|`__contains__`|\n",
    "|逻辑非|not|4|右|`__bool__`, `__len__`（用于判断真假）|\n",
    "|逻辑与|and|3|左|（不调用魔术方法，短路求值）|\n",
    "|逻辑或|or|2|左|（不调用魔术方法，短路求值）|\n",
    "|逗号|exp1, exp2|1|左|（不调用魔术方法，仅用于表达式分隔）|\n",
    "\n"
   ]
  },
  {
   "cell_type": "code",
   "execution_count": 57,
   "metadata": {},
   "outputs": [
    {
     "data": {
      "text/plain": [
       "256"
      ]
     },
     "execution_count": 57,
     "metadata": {},
     "output_type": "execute_result"
    }
   ],
   "source": [
    "2**2**3  # **右结合，先计算2**3=8，再计算2**8=256"
   ]
  },
  {
   "attachments": {},
   "cell_type": "markdown",
   "metadata": {},
   "source": [
    "## 算术运算符（+、-、*、/、%、//、**）\n",
    "| 数据类型 | `+` | `-` | `*` | `/` | `%` | `//` | `**` |\n",
    "|----------|----|----|----|----|----|----|----|\n",
    "| `int`、`float` | ✅加法| ✅减法 | ✅乘法 | ✅浮点除法 | ✅取余 | ✅整除（向下取整） | ✅幂运算 |\n",
    "| `complex` | ✅复数加法 | ✅复数减法 | ✅复数乘法 | ✅复数除法 | ❌ | ❌ | ✅复数幂运算 |\n",
    "| `str`、`list`、 `tuple` | ✅拼接 | ❌ | ✅重复 | ❌ | ❌（仅`str`可用于旧风格格式化） | ❌ | ❌ |\n",
    "| `set` | ❌ | ✅差集 | ❌ | ❌ | ❌ | ❌ | ❌ |\n",
    "| `dict` | ❌ | ❌ | ❌ | ❌ | ❌ | ❌ | ✅（关键字参数展开） |"
   ]
  },
  {
   "cell_type": "code",
   "execution_count": 5,
   "metadata": {},
   "outputs": [],
   "source": [
    "a, b = 21, 10"
   ]
  },
  {
   "cell_type": "code",
   "execution_count": 6,
   "metadata": {},
   "outputs": [
    {
     "data": {
      "text/plain": [
       "31"
      ]
     },
     "execution_count": 6,
     "metadata": {},
     "output_type": "execute_result"
    },
    {
     "data": {
      "text/plain": [
       "11"
      ]
     },
     "execution_count": 6,
     "metadata": {},
     "output_type": "execute_result"
    },
    {
     "data": {
      "text/plain": [
       "210"
      ]
     },
     "execution_count": 6,
     "metadata": {},
     "output_type": "execute_result"
    },
    {
     "data": {
      "text/plain": [
       "2.1"
      ]
     },
     "execution_count": 6,
     "metadata": {},
     "output_type": "execute_result"
    },
    {
     "data": {
      "text/plain": [
       "1"
      ]
     },
     "execution_count": 6,
     "metadata": {},
     "output_type": "execute_result"
    },
    {
     "data": {
      "text/plain": [
       "2"
      ]
     },
     "execution_count": 6,
     "metadata": {},
     "output_type": "execute_result"
    },
    {
     "data": {
      "text/plain": [
       "16679880978201"
      ]
     },
     "execution_count": 6,
     "metadata": {},
     "output_type": "execute_result"
    }
   ],
   "source": [
    "a + b  # 加\n",
    "a - b  # 减\n",
    "a * b  # 乘\n",
    "a / b  # 除以  <- 结果是float类型\n",
    "a % b  # 取余数\n",
    "a // b # 取整除\n",
    "a ** b # 幂（乘方）"
   ]
  },
  {
   "attachments": {},
   "cell_type": "markdown",
   "metadata": {},
   "source": [
    "取模 % 遵循：\n",
    "$$ a \\% b = a - (a // b) \\times b $$"
   ]
  },
  {
   "cell_type": "code",
   "execution_count": 4,
   "metadata": {},
   "outputs": [
    {
     "data": {
      "text/plain": [
       "1"
      ]
     },
     "execution_count": 4,
     "metadata": {},
     "output_type": "execute_result"
    },
    {
     "data": {
      "text/plain": [
       "1"
      ]
     },
     "execution_count": 4,
     "metadata": {},
     "output_type": "execute_result"
    },
    {
     "data": {
      "text/plain": [
       "-1"
      ]
     },
     "execution_count": 4,
     "metadata": {},
     "output_type": "execute_result"
    }
   ],
   "source": [
    "5 % 2\n",
    "# 取模结果始终与除数（%后面的数）符号相同\n",
    "-5 % 2\n",
    "5 % -2"
   ]
  },
  {
   "cell_type": "code",
   "execution_count": 7,
   "metadata": {},
   "outputs": [
    {
     "data": {
      "text/plain": [
       "4"
      ]
     },
     "execution_count": 7,
     "metadata": {},
     "output_type": "execute_result"
    },
    {
     "data": {
      "text/plain": [
       "-5"
      ]
     },
     "execution_count": 7,
     "metadata": {},
     "output_type": "execute_result"
    }
   ],
   "source": [
    "# 其中取整除是向小的方向取整\n",
    "9 // 2\n",
    "-9 // 2"
   ]
  },
  {
   "cell_type": "code",
   "execution_count": 11,
   "metadata": {},
   "outputs": [
    {
     "data": {
      "text/plain": [
       "'HelloWorld'"
      ]
     },
     "execution_count": 11,
     "metadata": {},
     "output_type": "execute_result"
    },
    {
     "data": {
      "text/plain": [
       "'HelloHelloHello'"
      ]
     },
     "execution_count": 11,
     "metadata": {},
     "output_type": "execute_result"
    },
    {
     "data": {
      "text/plain": [
       "(1, 2, 3, 4)"
      ]
     },
     "execution_count": 11,
     "metadata": {},
     "output_type": "execute_result"
    },
    {
     "data": {
      "text/plain": [
       "(1, 2, 1, 2, 1, 2)"
      ]
     },
     "execution_count": 11,
     "metadata": {},
     "output_type": "execute_result"
    },
    {
     "data": {
      "text/plain": [
       "[1, 2, 3, 4]"
      ]
     },
     "execution_count": 11,
     "metadata": {},
     "output_type": "execute_result"
    },
    {
     "data": {
      "text/plain": [
       "[1, 2, 1, 2, 1, 2]"
      ]
     },
     "execution_count": 11,
     "metadata": {},
     "output_type": "execute_result"
    }
   ],
   "source": [
    "# + 和 * 在str、tuple、list中代表连接和重复\n",
    "\"Hello\" + \"World\"\n",
    "\"Hello\" * 3\n",
    "(1, 2) + (3, 4)\n",
    "(1, 2) * 3\n",
    "[1, 2] + [3, 4]\n",
    "[1, 2] * 3"
   ]
  },
  {
   "cell_type": "code",
   "execution_count": 10,
   "metadata": {},
   "outputs": [
    {
     "data": {
      "text/plain": [
       "{'a': 1, 'b': 2, 'c': 3, 'd': 4}"
      ]
     },
     "execution_count": 10,
     "metadata": {},
     "output_type": "execute_result"
    },
    {
     "ename": "TypeError",
     "evalue": "unsupported operand type(s) for +: 'dict' and 'dict'",
     "output_type": "error",
     "traceback": [
      "\u001b[1;31m---------------------------------------------------------------------------\u001b[0m",
      "\u001b[1;31mTypeError\u001b[0m                                 Traceback (most recent call last)",
      "\u001b[1;32m<ipython-input-10-c9c3691e5456>\u001b[0m in \u001b[0;36m<module>\u001b[1;34m\u001b[0m\n\u001b[0;32m      5\u001b[0m \u001b[0md1\u001b[0m\u001b[1;33m\u001b[0m\u001b[0m\n\u001b[0;32m      6\u001b[0m \u001b[1;33m\u001b[0m\u001b[0m\n\u001b[1;32m----> 7\u001b[1;33m \u001b[0md1\u001b[0m \u001b[1;33m+\u001b[0m \u001b[0md2\u001b[0m\u001b[1;33m\u001b[0m\u001b[0m\n\u001b[0m",
      "\u001b[1;31mTypeError\u001b[0m: unsupported operand type(s) for +: 'dict' and 'dict'"
     ]
    }
   ],
   "source": [
    "# + 不能用于dict、set的连接，要用update\n",
    "d1 = {\"a\":1, \"b\":2}\n",
    "d2 = {\"c\":3, \"d\":4}\n",
    "\n",
    "d1.update(d2)  # 正常更新\n",
    "d1\n",
    "\n",
    "d1 + d2  # TypeError"
   ]
  },
  {
   "cell_type": "code",
   "execution_count": 12,
   "metadata": {},
   "outputs": [
    {
     "data": {
      "text/plain": [
       "{1, 2, 3, 4}"
      ]
     },
     "execution_count": 12,
     "metadata": {},
     "output_type": "execute_result"
    },
    {
     "ename": "TypeError",
     "evalue": "unsupported operand type(s) for +: 'set' and 'set'",
     "output_type": "error",
     "traceback": [
      "\u001b[1;31m---------------------------------------------------------------------------\u001b[0m",
      "\u001b[1;31mTypeError\u001b[0m                                 Traceback (most recent call last)",
      "\u001b[1;32m<ipython-input-12-82a44ab02a42>\u001b[0m in \u001b[0;36m<module>\u001b[1;34m\u001b[0m\n\u001b[0;32m      4\u001b[0m \u001b[0mt1\u001b[0m\u001b[1;33m\u001b[0m\u001b[0m\n\u001b[0;32m      5\u001b[0m \u001b[1;33m\u001b[0m\u001b[0m\n\u001b[1;32m----> 6\u001b[1;33m \u001b[0mt1\u001b[0m \u001b[1;33m+\u001b[0m \u001b[0mt2\u001b[0m\u001b[1;33m\u001b[0m\u001b[0m\n\u001b[0m",
      "\u001b[1;31mTypeError\u001b[0m: unsupported operand type(s) for +: 'set' and 'set'"
     ]
    }
   ],
   "source": [
    "t1 = {1, 2}\n",
    "t2 = {3, 4}\n",
    "\n",
    "t1.update(t2)  # 正常更新\n",
    "t1\n",
    "\n",
    "t1 + t2  # TypeError"
   ]
  },
  {
   "attachments": {},
   "cell_type": "markdown",
   "metadata": {},
   "source": [
    "## 赋值运算符（+=、-=、*=、/=、%=、//=、**=）\n",
    "赋值运算符本质上并不能等同于对应的赋值运算，如 `a = a + b` 和 `a += b` 有本质上的不同。\n",
    "- 赋值（`=`）并不会调用魔术方法，只是改变变量名的引用，本质上的过程是：调用`a.__add__(b)`并将返回值的引用赋给`a`，即`a = a.__add__(b)`\n",
    "- 赋值运算符（`+=`）会先尝试调用`a.__iadd__(b)`，若`a`对象实现了该魔术方法，则可以直接**就地修改**，若没有实现，则会退回`a = a.__add__(b)`，**创建新对象**。\n",
    "\n",
    "这样的区别在不可变类型上没有实际的差异，因为不可变类型无法就地修改，没有实现`__iadd__`方法，实际上都是进行了`a = a.__add__(b)`。\n",
    "\n",
    "而部分可变类型会实现`__iadd__`方法，实际行为取决于其具体实现逻辑。如list的+运算要求后面的对象必须为list，而+=运算仅要求后面的对象为可迭代对象。"
   ]
  },
  {
   "cell_type": "code",
   "execution_count": 2,
   "metadata": {},
   "outputs": [],
   "source": [
    "a, b, c= 21, 10, 0"
   ]
  },
  {
   "cell_type": "code",
   "execution_count": 3,
   "metadata": {},
   "outputs": [
    {
     "data": {
      "text/plain": [
       "21"
      ]
     },
     "execution_count": 3,
     "metadata": {},
     "output_type": "execute_result"
    },
    {
     "data": {
      "text/plain": [
       "0"
      ]
     },
     "execution_count": 3,
     "metadata": {},
     "output_type": "execute_result"
    },
    {
     "data": {
      "text/plain": [
       "0"
      ]
     },
     "execution_count": 3,
     "metadata": {},
     "output_type": "execute_result"
    },
    {
     "data": {
      "text/plain": [
       "0.0"
      ]
     },
     "execution_count": 3,
     "metadata": {},
     "output_type": "execute_result"
    },
    {
     "data": {
      "text/plain": [
       "2"
      ]
     },
     "execution_count": 3,
     "metadata": {},
     "output_type": "execute_result"
    },
    {
     "data": {
      "text/plain": [
       "2097152"
      ]
     },
     "execution_count": 3,
     "metadata": {},
     "output_type": "execute_result"
    },
    {
     "data": {
      "text/plain": [
       "99864"
      ]
     },
     "execution_count": 3,
     "metadata": {},
     "output_type": "execute_result"
    }
   ],
   "source": [
    "c += a\n",
    "c\n",
    "c -= a\n",
    "c\n",
    "c *= a\n",
    "c\n",
    "c /= a\n",
    "c\n",
    "\n",
    "c = 2\n",
    "c %= a\n",
    "c\n",
    "c **= a\n",
    "c\n",
    "c //= a\n",
    "c"
   ]
  },
  {
   "cell_type": "code",
   "execution_count": 3,
   "metadata": {},
   "outputs": [
    {
     "data": {
      "text/plain": [
       "'HelloWorld'"
      ]
     },
     "execution_count": 3,
     "metadata": {},
     "output_type": "execute_result"
    },
    {
     "data": {
      "text/plain": [
       "'HelloWorldHelloWorldHelloWorld'"
      ]
     },
     "execution_count": 3,
     "metadata": {},
     "output_type": "execute_result"
    },
    {
     "data": {
      "text/plain": [
       "(1, 2, 3, 4)"
      ]
     },
     "execution_count": 3,
     "metadata": {},
     "output_type": "execute_result"
    },
    {
     "data": {
      "text/plain": [
       "(1, 2, 3, 4, 1, 2, 3, 4, 1, 2, 3, 4)"
      ]
     },
     "execution_count": 3,
     "metadata": {},
     "output_type": "execute_result"
    },
    {
     "ename": "TypeError",
     "evalue": "can only concatenate tuple (not \"list\") to tuple",
     "output_type": "error",
     "traceback": [
      "\u001b[1;31m---------------------------------------------------------------------------\u001b[0m",
      "\u001b[1;31mTypeError\u001b[0m                                 Traceback (most recent call last)",
      "\u001b[1;32m<ipython-input-3-f6f04dbf8d5c>\u001b[0m in \u001b[0;36m<module>\u001b[1;34m\u001b[0m\n\u001b[0;32m     11\u001b[0m \u001b[0ma\u001b[0m \u001b[1;33m*=\u001b[0m \u001b[1;36m3\u001b[0m\u001b[1;33m\u001b[0m\u001b[0m\n\u001b[0;32m     12\u001b[0m \u001b[0ma\u001b[0m\u001b[1;33m\u001b[0m\u001b[0m\n\u001b[1;32m---> 13\u001b[1;33m \u001b[0ma\u001b[0m \u001b[1;33m+=\u001b[0m \u001b[1;33m[\u001b[0m\u001b[1;36m5\u001b[0m\u001b[1;33m,\u001b[0m \u001b[1;36m6\u001b[0m\u001b[1;33m]\u001b[0m\u001b[1;33m\u001b[0m\u001b[0m\n\u001b[0m\u001b[0;32m     14\u001b[0m \u001b[0ma\u001b[0m\u001b[1;33m\u001b[0m\u001b[0m\n",
      "\u001b[1;31mTypeError\u001b[0m: can only concatenate tuple (not \"list\") to tuple"
     ]
    }
   ],
   "source": [
    "# += 和 *= 在str、tuple中代表连接和重复，等效于 a = a + b 或 a = a * b\n",
    "a = \"Hello\"\n",
    "a += \"World\"\n",
    "a\n",
    "a *= 3\n",
    "a\n",
    "\n",
    "a = (1, 2)\n",
    "a += (3, 4)\n",
    "a\n",
    "a *= 3\n",
    "a\n",
    "a += [5, 6]\n",
    "a"
   ]
  },
  {
   "cell_type": "code",
   "execution_count": null,
   "metadata": {},
   "outputs": [
    {
     "data": {
      "text/plain": [
       "2099695167808"
      ]
     },
     "execution_count": 26,
     "metadata": {},
     "output_type": "execute_result"
    },
    {
     "data": {
      "text/plain": [
       "2099695167808"
      ]
     },
     "execution_count": 26,
     "metadata": {},
     "output_type": "execute_result"
    },
    {
     "data": {
      "text/plain": [
       "2099694586496"
      ]
     },
     "execution_count": 26,
     "metadata": {},
     "output_type": "execute_result"
    },
    {
     "data": {
      "text/plain": [
       "[1, 2, 3, 4]"
      ]
     },
     "execution_count": 26,
     "metadata": {},
     "output_type": "execute_result"
    },
    {
     "data": {
      "text/plain": [
       "[1, 2, 3, 4, 5, 6]"
      ]
     },
     "execution_count": 26,
     "metadata": {},
     "output_type": "execute_result"
    },
    {
     "data": {
      "text/plain": [
       "[1, 2, 3, 4, 5, 6, 'H', 'e', 'l', 'l', 'o']"
      ]
     },
     "execution_count": 26,
     "metadata": {},
     "output_type": "execute_result"
    },
    {
     "data": {
      "text/plain": [
       "[1, 2, 3, 4, 5, 6, 'H', 'e', 'l', 'l', 'o', 'a', 'b']"
      ]
     },
     "execution_count": 26,
     "metadata": {},
     "output_type": "execute_result"
    },
    {
     "ename": "TypeError",
     "evalue": "can only concatenate list (not \"tuple\") to list",
     "output_type": "error",
     "traceback": [
      "\u001b[1;31m---------------------------------------------------------------------------\u001b[0m",
      "\u001b[1;31mTypeError\u001b[0m                                 Traceback (most recent call last)",
      "Cell \u001b[1;32mIn[26], line 23\u001b[0m\n\u001b[0;32m     21\u001b[0m \u001b[38;5;66;03m# list中 + 运算符也不能自动转换\u001b[39;00m\n\u001b[0;32m     22\u001b[0m a \u001b[38;5;241m=\u001b[39m [\u001b[38;5;241m1\u001b[39m, \u001b[38;5;241m2\u001b[39m]\n\u001b[1;32m---> 23\u001b[0m a \u001b[38;5;241m=\u001b[39m \u001b[43ma\u001b[49m\u001b[43m \u001b[49m\u001b[38;5;241;43m+\u001b[39;49m\u001b[43m \u001b[49m\u001b[43m(\u001b[49m\u001b[38;5;241;43m3\u001b[39;49m\u001b[43m,\u001b[49m\u001b[43m \u001b[49m\u001b[38;5;241;43m4\u001b[39;49m\u001b[43m)\u001b[49m\n",
      "\u001b[1;31mTypeError\u001b[0m: can only concatenate list (not \"tuple\") to list"
     ]
    }
   ],
   "source": [
    "# list 的 + 和 += 行为有很大差异\n",
    "\n",
    "a = [1, 2]\n",
    "id(a)\n",
    "a += [3, 4]\n",
    "id(a)  # list的+=相当于.expand()，不影响a的id\n",
    "a = a + [5, 6]\n",
    "id(a)  # 而 + 运算符等于创建了一个list再赋值给a，会改变a的id\n",
    "# *=和*的区别与上面的类似\n",
    "\n",
    "# list中 += 与.expand()功能一致，都会把其他组合数据类型自动转换为list再连接，而str和tuple的+=不能自动转换为对应的类型\n",
    "a = [1, 2]\n",
    "a += (3, 4)\n",
    "a\n",
    "a += {5, 6}\n",
    "a\n",
    "a += \"Hello\"\n",
    "a\n",
    "a += {\"a\": 1, \"b\": 2}\n",
    "a\n",
    "\n",
    "# list中 + 运算符也不能自动转换\n",
    "a = [1, 2]\n",
    "a = a + (3, 4)\n"
   ]
  },
  {
   "attachments": {},
   "cell_type": "markdown",
   "metadata": {},
   "source": [
    "## 比较运算符（==、!=、<、>、<=、>=）"
   ]
  },
  {
   "attachments": {},
   "cell_type": "markdown",
   "metadata": {},
   "source": [
    "### 数值类型（int、float、complex）\n",
    "数值类型的比较运算遵循数学上的大小关系。"
   ]
  },
  {
   "cell_type": "code",
   "execution_count": 4,
   "metadata": {},
   "outputs": [
    {
     "data": {
      "text/plain": [
       "True"
      ]
     },
     "execution_count": 4,
     "metadata": {},
     "output_type": "execute_result"
    },
    {
     "data": {
      "text/plain": [
       "True"
      ]
     },
     "execution_count": 4,
     "metadata": {},
     "output_type": "execute_result"
    },
    {
     "data": {
      "text/plain": [
       "True"
      ]
     },
     "execution_count": 4,
     "metadata": {},
     "output_type": "execute_result"
    },
    {
     "data": {
      "text/plain": [
       "True"
      ]
     },
     "execution_count": 4,
     "metadata": {},
     "output_type": "execute_result"
    },
    {
     "data": {
      "text/plain": [
       "True"
      ]
     },
     "execution_count": 4,
     "metadata": {},
     "output_type": "execute_result"
    },
    {
     "data": {
      "text/plain": [
       "True"
      ]
     },
     "execution_count": 4,
     "metadata": {},
     "output_type": "execute_result"
    },
    {
     "data": {
      "text/plain": [
       "True"
      ]
     },
     "execution_count": 4,
     "metadata": {},
     "output_type": "execute_result"
    }
   ],
   "source": [
    "3 > 2\n",
    "2.5 < 3\n",
    "2 == 2\n",
    "2.0 == 2 # int 和 float 进行数值比较，2.0 与 2 相等\n",
    "3 >= 3\n",
    "4 <= 5\n",
    "5 != 6"
   ]
  },
  {
   "attachments": {},
   "cell_type": "markdown",
   "metadata": {},
   "source": [
    "复数不能进行大小比较，只能用 == 和 != 进行相等性判断。"
   ]
  },
  {
   "cell_type": "code",
   "execution_count": 15,
   "metadata": {},
   "outputs": [
    {
     "data": {
      "text/plain": [
       "True"
      ]
     },
     "execution_count": 15,
     "metadata": {},
     "output_type": "execute_result"
    },
    {
     "data": {
      "text/plain": [
       "True"
      ]
     },
     "execution_count": 15,
     "metadata": {},
     "output_type": "execute_result"
    },
    {
     "ename": "TypeError",
     "evalue": "unorderable types: complex() > complex()",
     "output_type": "error",
     "traceback": [
      "\u001b[1;31m---------------------------------------------------------------------------\u001b[0m",
      "\u001b[1;31mTypeError\u001b[0m                                 Traceback (most recent call last)",
      "\u001b[1;32m<ipython-input-15-2ed83d2b4479>\u001b[0m in \u001b[0;36m<module>\u001b[1;34m\u001b[0m\n\u001b[0;32m      1\u001b[0m \u001b[1;36m1\u001b[0m \u001b[1;33m+\u001b[0m \u001b[1;36m2j\u001b[0m \u001b[1;33m==\u001b[0m \u001b[0mcomplex\u001b[0m\u001b[1;33m(\u001b[0m\u001b[1;36m1\u001b[0m\u001b[1;33m,\u001b[0m \u001b[1;36m2\u001b[0m\u001b[1;33m)\u001b[0m\u001b[1;33m\u001b[0m\u001b[0m\n\u001b[0;32m      2\u001b[0m \u001b[1;36m1\u001b[0m \u001b[1;33m+\u001b[0m \u001b[1;36m2j\u001b[0m \u001b[1;33m!=\u001b[0m \u001b[1;36m1\u001b[0m \u001b[1;33m+\u001b[0m \u001b[1;36m3j\u001b[0m\u001b[1;33m\u001b[0m\u001b[0m\n\u001b[1;32m----> 3\u001b[1;33m \u001b[1;36m1\u001b[0m \u001b[1;33m+\u001b[0m \u001b[1;36m2j\u001b[0m \u001b[1;33m>\u001b[0m \u001b[1;36m1\u001b[0m \u001b[1;33m+\u001b[0m \u001b[1;36m3j\u001b[0m  \u001b[1;31m# TypeError: unorderable types\u001b[0m\u001b[1;33m\u001b[0m\u001b[0m\n\u001b[0m\u001b[0;32m      4\u001b[0m \u001b[1;36m1\u001b[0m \u001b[1;33m+\u001b[0m \u001b[1;36m2j\u001b[0m \u001b[1;33m>\u001b[0m \u001b[1;36m1\u001b[0m  \u001b[1;31m# TypeError: unorderable types\u001b[0m\u001b[1;33m\u001b[0m\u001b[0m\n",
      "\u001b[1;31mTypeError\u001b[0m: unorderable types: complex() > complex()"
     ]
    }
   ],
   "source": [
    "1 + 2j == complex(1, 2)\n",
    "1 + 2j != 1 + 3j\n",
    "1 + 2j > 1 + 3j  # TypeError: unorderable types\n",
    "1 + 2j > 1  # TypeError: unorderable types"
   ]
  },
  {
   "attachments": {},
   "cell_type": "markdown",
   "metadata": {},
   "source": [
    "### 字符串（str）\n",
    "Python 通过 **字典序（lexicographical order）** 比较字符串，即按照 **Unicode 码点顺序** 进行逐字符比较：\n",
    "- 逐字符按 Unicode 码点大小进行比较 (ord() 获取字符的 Unicode 码)。\n",
    "- 如果前面的字符相等，则继续比较后续字符，直到比较出差异。\n",
    "- 如果一个字符串是另一个字符串的**前缀**，则**短的字符串更小**。"
   ]
  },
  {
   "cell_type": "code",
   "execution_count": 14,
   "metadata": {},
   "outputs": [
    {
     "data": {
      "text/plain": [
       "True"
      ]
     },
     "execution_count": 14,
     "metadata": {},
     "output_type": "execute_result"
    },
    {
     "data": {
      "text/plain": [
       "True"
      ]
     },
     "execution_count": 14,
     "metadata": {},
     "output_type": "execute_result"
    },
    {
     "data": {
      "text/plain": [
       "True"
      ]
     },
     "execution_count": 14,
     "metadata": {},
     "output_type": "execute_result"
    },
    {
     "data": {
      "text/plain": [
       "True"
      ]
     },
     "execution_count": 14,
     "metadata": {},
     "output_type": "execute_result"
    },
    {
     "data": {
      "text/plain": [
       "True"
      ]
     },
     "execution_count": 14,
     "metadata": {},
     "output_type": "execute_result"
    }
   ],
   "source": [
    "\"A\" < \"a\"           # True，因为 'A' 的 Unicode 值是 65，'a' 的 Unicode 值是 97\n",
    "\"apple\" < \"banana\"  # True，因为 'a' < 'b'\n",
    "\"cat\" > \"apple\"     # True，虽然 'cat' 比 'apple' 长度短，但是 c > a， 比较之后直接返回结果\n",
    "\"abc\" < \"abd\"       # True，因为 'c' < 'd'\n",
    "\"hello\" > \"hell\"    # True，因为 \"hello\" 比 \"hell\" 长"
   ]
  },
  {
   "attachments": {},
   "cell_type": "markdown",
   "metadata": {},
   "source": [
    "### 列表（list）、元组（tuple）\n",
    "逐元素比较，但对应位置的元素必须是可比较的"
   ]
  },
  {
   "cell_type": "code",
   "execution_count": 18,
   "metadata": {},
   "outputs": [
    {
     "data": {
      "text/plain": [
       "True"
      ]
     },
     "execution_count": 18,
     "metadata": {},
     "output_type": "execute_result"
    },
    {
     "data": {
      "text/plain": [
       "True"
      ]
     },
     "execution_count": 18,
     "metadata": {},
     "output_type": "execute_result"
    },
    {
     "data": {
      "text/plain": [
       "True"
      ]
     },
     "execution_count": 18,
     "metadata": {},
     "output_type": "execute_result"
    },
    {
     "data": {
      "text/plain": [
       "True"
      ]
     },
     "execution_count": 18,
     "metadata": {},
     "output_type": "execute_result"
    },
    {
     "ename": "TypeError",
     "evalue": "unorderable types: int() < str()",
     "output_type": "error",
     "traceback": [
      "\u001b[1;31m---------------------------------------------------------------------------\u001b[0m",
      "\u001b[1;31mTypeError\u001b[0m                                 Traceback (most recent call last)",
      "\u001b[1;32m<ipython-input-18-beec655b6276>\u001b[0m in \u001b[0;36m<module>\u001b[1;34m\u001b[0m\n\u001b[0;32m      3\u001b[0m \u001b[1;33m(\u001b[0m\u001b[1;36m1\u001b[0m\u001b[1;33m,\u001b[0m \u001b[1;36m2\u001b[0m\u001b[1;33m,\u001b[0m \u001b[1;36m3\u001b[0m\u001b[1;33m)\u001b[0m \u001b[1;33m>\u001b[0m \u001b[1;33m(\u001b[0m\u001b[1;36m1\u001b[0m\u001b[1;33m,\u001b[0m \u001b[1;36m2\u001b[0m\u001b[1;33m)\u001b[0m  \u001b[1;31m# 对应位相等且前者比后者长\u001b[0m\u001b[1;33m\u001b[0m\u001b[0m\n\u001b[0;32m      4\u001b[0m \u001b[1;33m[\u001b[0m\u001b[1;34m\"apple\"\u001b[0m\u001b[1;33m,\u001b[0m \u001b[1;34m\"banana\"\u001b[0m\u001b[1;33m]\u001b[0m \u001b[1;33m>\u001b[0m \u001b[1;33m[\u001b[0m\u001b[1;34m\"apple\"\u001b[0m\u001b[1;33m,\u001b[0m \u001b[1;34m\"Banana\"\u001b[0m\u001b[1;33m]\u001b[0m  \u001b[1;31m# \"banana\" > \"Banana\"\u001b[0m\u001b[1;33m\u001b[0m\u001b[0m\n\u001b[1;32m----> 5\u001b[1;33m \u001b[1;33m[\u001b[0m\u001b[1;36m1\u001b[0m\u001b[1;33m,\u001b[0m \u001b[1;36m2\u001b[0m\u001b[1;33m]\u001b[0m \u001b[1;33m<\u001b[0m \u001b[1;33m[\u001b[0m\u001b[1;36m1\u001b[0m\u001b[1;33m,\u001b[0m \u001b[1;34m\"2\"\u001b[0m\u001b[1;33m]\u001b[0m  \u001b[1;31m# 对应位置不可比较，报 TypeError\u001b[0m\u001b[1;33m\u001b[0m\u001b[0m\n\u001b[0m",
      "\u001b[1;31mTypeError\u001b[0m: unorderable types: int() < str()"
     ]
    }
   ],
   "source": [
    "[1, 2, 3] < [1, 2, 4]  # 3 < 4\n",
    "[1, 2] < [1, 2, 0]  # 对应位相等且前者比后者短\n",
    "(1, 2, 3) > (1, 2)  # 对应位相等且前者比后者长\n",
    "[\"apple\", \"banana\"] > [\"apple\", \"Banana\"]  # \"banana\" > \"Banana\"\n",
    "\n",
    "[1, 2] < [1, \"2\"]  # 对应位置不可比较，报 TypeError"
   ]
  },
  {
   "attachments": {},
   "cell_type": "markdown",
   "metadata": {},
   "source": [
    "### 集合（set）"
   ]
  },
  {
   "attachments": {},
   "cell_type": "markdown",
   "metadata": {},
   "source": [
    "用于比较集合是否为子集/真子集/超集/真超集"
   ]
  },
  {
   "cell_type": "code",
   "execution_count": 2,
   "metadata": {},
   "outputs": [
    {
     "data": {
      "text/plain": [
       "True"
      ]
     },
     "execution_count": 2,
     "metadata": {},
     "output_type": "execute_result"
    },
    {
     "data": {
      "text/plain": [
       "True"
      ]
     },
     "execution_count": 2,
     "metadata": {},
     "output_type": "execute_result"
    },
    {
     "data": {
      "text/plain": [
       "False"
      ]
     },
     "execution_count": 2,
     "metadata": {},
     "output_type": "execute_result"
    },
    {
     "data": {
      "text/plain": [
       "True"
      ]
     },
     "execution_count": 2,
     "metadata": {},
     "output_type": "execute_result"
    },
    {
     "data": {
      "text/plain": [
       "True"
      ]
     },
     "execution_count": 2,
     "metadata": {},
     "output_type": "execute_result"
    },
    {
     "data": {
      "text/plain": [
       "True"
      ]
     },
     "execution_count": 2,
     "metadata": {},
     "output_type": "execute_result"
    }
   ],
   "source": [
    "(1, 2) < (1, 2, 3)\n",
    "(1, 2) <= (1, 2)\n",
    "(1, 2) > (1, 2, 3)\n",
    "(1, 2) >= (1, 2)\n",
    "(1, 2) == (1, 2)\n",
    "(1, 2) != (1, 2, 3)"
   ]
  },
  {
   "attachments": {},
   "cell_type": "markdown",
   "metadata": {},
   "source": [
    "### 字典（dict）\n",
    "字典仅能判断全等/非全等"
   ]
  },
  {
   "cell_type": "code",
   "execution_count": 24,
   "metadata": {},
   "outputs": [
    {
     "data": {
      "text/plain": [
       "True"
      ]
     },
     "execution_count": 24,
     "metadata": {},
     "output_type": "execute_result"
    },
    {
     "data": {
      "text/plain": [
       "True"
      ]
     },
     "execution_count": 24,
     "metadata": {},
     "output_type": "execute_result"
    }
   ],
   "source": [
    "{\"a\":1, \"b\":2} == {\"a\":1, \"b\":2}\n",
    "{\"a\":1, \"b\":2} != {\"a\":1, \"b\":3}"
   ]
  },
  {
   "attachments": {},
   "cell_type": "markdown",
   "metadata": {},
   "source": [
    "## 逻辑运算符（and、or、not）"
   ]
  },
  {
   "cell_type": "code",
   "execution_count": null,
   "metadata": {},
   "outputs": [
    {
     "data": {
      "text/plain": [
       "False"
      ]
     },
     "execution_count": 33,
     "metadata": {},
     "output_type": "execute_result"
    },
    {
     "data": {
      "text/plain": [
       "False"
      ]
     },
     "execution_count": 33,
     "metadata": {},
     "output_type": "execute_result"
    },
    {
     "data": {
      "text/plain": [
       "False"
      ]
     },
     "execution_count": 33,
     "metadata": {},
     "output_type": "execute_result"
    },
    {
     "data": {
      "text/plain": [
       "False"
      ]
     },
     "execution_count": 33,
     "metadata": {},
     "output_type": "execute_result"
    },
    {
     "data": {
      "text/plain": [
       "False"
      ]
     },
     "execution_count": 33,
     "metadata": {},
     "output_type": "execute_result"
    },
    {
     "data": {
      "text/plain": [
       "False"
      ]
     },
     "execution_count": 33,
     "metadata": {},
     "output_type": "execute_result"
    },
    {
     "data": {
      "text/plain": [
       "False"
      ]
     },
     "execution_count": 33,
     "metadata": {},
     "output_type": "execute_result"
    },
    {
     "data": {
      "text/plain": [
       "False"
      ]
     },
     "execution_count": 33,
     "metadata": {},
     "output_type": "execute_result"
    },
    {
     "data": {
      "text/plain": [
       "False"
      ]
     },
     "execution_count": 33,
     "metadata": {},
     "output_type": "execute_result"
    },
    {
     "data": {
      "text/plain": [
       "False"
      ]
     },
     "execution_count": 33,
     "metadata": {},
     "output_type": "execute_result"
    }
   ],
   "source": [
    "# Python 当中如下值都会被判断为False，除此之外，其他值都会认为是True\n",
    "\n",
    "# 空值\n",
    "bool(None)\n",
    "# 数值类型的0\n",
    "bool(0)  # 整数\n",
    "bool(0.0)  # 浮点数\n",
    "bool(0j)  # 复数\n",
    "# 空的序列和集合\n",
    "bool('')  # 空字符串，完全没有内容的，空格不算\n",
    "bool([])  # 空列表\n",
    "bool(())  # 空元组\n",
    "bool({})  # 空字典\n",
    "bool(set())  # 空集合\n",
    "# 空范围\n",
    "bool(range(0))  # 空范围"
   ]
  },
  {
   "attachments": {},
   "cell_type": "markdown",
   "metadata": {},
   "source": [
    "Python 中 `and` 运算符不直接返回 `True` 或 `False`，而是返回值，并让 `if` 语句来判断真假，`a and b` 的计算方法是：\n",
    "- 先计算 `bool(a)`，如果为假，则直接返回 `a`。（`a` 已经是假了，`and` 不可能真，所以不再计算 `b`，节省运算量）\n",
    "- 如果 `bool(a)` 为真，则直接返回 `b`。（已知 `a` 是真，那么 `and` 的结果只取决于 `b`，`b` 是真那么 `and` 也是真，`b` 是假那么`and`也是假）"
   ]
  },
  {
   "cell_type": "code",
   "execution_count": 34,
   "metadata": {},
   "outputs": [
    {
     "data": {
      "text/plain": [
       "0"
      ]
     },
     "execution_count": 34,
     "metadata": {},
     "output_type": "execute_result"
    }
   ],
   "source": [
    "a , b = 0, 12\n",
    "a and b"
   ]
  },
  {
   "attachments": {},
   "cell_type": "markdown",
   "metadata": {},
   "source": [
    "`a or b` 的计算思路类似：\n",
    "- 先计算 `bool(a)`，如果为真，则直接返回 `a`。（`a` 已经是真了，`or` 一定是真，所以不再计算 `b`，节省运算量）\n",
    "- 如果 `bool(a)` 为假，则直接返回 `b`。（已知 `a` 是假，那么 `or` 的结果只取决于 `b`，`b` 是真那么 `or` 也是真，`b` 是假那么 `or` 也是假）"
   ]
  },
  {
   "cell_type": "code",
   "execution_count": 35,
   "metadata": {},
   "outputs": [
    {
     "data": {
      "text/plain": [
       "12"
      ]
     },
     "execution_count": 35,
     "metadata": {},
     "output_type": "execute_result"
    }
   ],
   "source": [
    "a or b"
   ]
  },
  {
   "attachments": {},
   "cell_type": "markdown",
   "metadata": {},
   "source": [
    "`not` 则是直接返回 `True` 或 `False`"
   ]
  },
  {
   "cell_type": "code",
   "execution_count": 36,
   "metadata": {},
   "outputs": [
    {
     "data": {
      "text/plain": [
       "True"
      ]
     },
     "execution_count": 36,
     "metadata": {},
     "output_type": "execute_result"
    }
   ],
   "source": [
    "not a"
   ]
  },
  {
   "attachments": {},
   "cell_type": "markdown",
   "metadata": {},
   "source": [
    "## 按位运算符（&、|、^、<<、>>）"
   ]
  },
  {
   "cell_type": "code",
   "execution_count": 45,
   "metadata": {},
   "outputs": [],
   "source": [
    "a = 0b_0011_1100\n",
    "b = 0b_0000_1101"
   ]
  },
  {
   "cell_type": "code",
   "execution_count": 53,
   "metadata": {},
   "outputs": [
    {
     "data": {
      "text/plain": [
       "'00001100'"
      ]
     },
     "execution_count": 53,
     "metadata": {},
     "output_type": "execute_result"
    },
    {
     "data": {
      "text/plain": [
       "'00111101'"
      ]
     },
     "execution_count": 53,
     "metadata": {},
     "output_type": "execute_result"
    },
    {
     "data": {
      "text/plain": [
       "'00110001'"
      ]
     },
     "execution_count": 53,
     "metadata": {},
     "output_type": "execute_result"
    },
    {
     "data": {
      "text/plain": [
       "'-0b111101'"
      ]
     },
     "execution_count": 53,
     "metadata": {},
     "output_type": "execute_result"
    },
    {
     "data": {
      "text/plain": [
       "'11110000'"
      ]
     },
     "execution_count": 53,
     "metadata": {},
     "output_type": "execute_result"
    },
    {
     "data": {
      "text/plain": [
       "'00001111'"
      ]
     },
     "execution_count": 53,
     "metadata": {},
     "output_type": "execute_result"
    }
   ],
   "source": [
    "\"{:0>8b}\".format(a & b)  # 按位与\n",
    "\"{:0>8b}\".format(a | b)  # 按位或\n",
    "\"{:0>8b}\".format(a ^ b)  # 按位异或\n",
    "bin(~ a)  # 按位取反\n",
    "\"{:0>8b}\".format(a << 2)  # 左移位\n",
    "\"{:0>8b}\".format(a >> 2)  # 右移位\n"
   ]
  },
  {
   "attachments": {},
   "cell_type": "markdown",
   "metadata": {},
   "source": [
    "## 成员运算符（in、not in）"
   ]
  },
  {
   "cell_type": "code",
   "execution_count": 37,
   "metadata": {},
   "outputs": [],
   "source": [
    "a, b = 1, 6\n",
    "l = [1, 2, 3, 4, 5]"
   ]
  },
  {
   "cell_type": "code",
   "execution_count": 38,
   "metadata": {},
   "outputs": [
    {
     "data": {
      "text/plain": [
       "True"
      ]
     },
     "execution_count": 38,
     "metadata": {},
     "output_type": "execute_result"
    },
    {
     "data": {
      "text/plain": [
       "False"
      ]
     },
     "execution_count": 38,
     "metadata": {},
     "output_type": "execute_result"
    },
    {
     "data": {
      "text/plain": [
       "False"
      ]
     },
     "execution_count": 38,
     "metadata": {},
     "output_type": "execute_result"
    }
   ],
   "source": [
    "a in l\n",
    "a not in l\n",
    "b in l"
   ]
  },
  {
   "attachments": {},
   "cell_type": "markdown",
   "metadata": {},
   "source": [
    "## id运算符（is、is not）"
   ]
  },
  {
   "attachments": {},
   "cell_type": "markdown",
   "metadata": {},
   "source": [
    "id运算符比较两个标识符是否指向同一个对象，即判断其id()是否相等"
   ]
  },
  {
   "cell_type": "code",
   "execution_count": null,
   "metadata": {},
   "outputs": [
    {
     "data": {
      "text/plain": [
       "True"
      ]
     },
     "execution_count": 41,
     "metadata": {},
     "output_type": "execute_result"
    },
    {
     "data": {
      "text/plain": [
       "True"
      ]
     },
     "execution_count": 41,
     "metadata": {},
     "output_type": "execute_result"
    },
    {
     "data": {
      "text/plain": [
       "True"
      ]
     },
     "execution_count": 41,
     "metadata": {},
     "output_type": "execute_result"
    }
   ],
   "source": [
    "# 对于不可变类型，一旦被创建，其值的id就是固定的\n",
    "a = 10\n",
    "b = 10\n",
    "c = [10, 20, 30]\n",
    "d = \"Hello\"\n",
    "e = [\"Hello\", \"World\"]\n",
    "\n",
    "a is b\n",
    "a is c[0]\n",
    "d is e[0]"
   ]
  },
  {
   "cell_type": "code",
   "execution_count": null,
   "metadata": {},
   "outputs": [
    {
     "data": {
      "text/plain": [
       "True"
      ]
     },
     "execution_count": 43,
     "metadata": {},
     "output_type": "execute_result"
    },
    {
     "data": {
      "text/plain": [
       "False"
      ]
     },
     "execution_count": 43,
     "metadata": {},
     "output_type": "execute_result"
    }
   ],
   "source": [
    "# 对于不可变类型，即使两个值一样，也是两个不同的对象\n",
    "a = [\"Hello\", \"World\"]\n",
    "b = [\"Hello\", \"World\"]\n",
    "a == b\n",
    "a is b"
   ]
  },
  {
   "cell_type": "markdown",
   "metadata": {},
   "source": [
    "### is None 和 == None 是有区别的\n",
    "`None` 是 `Python` 的 单例对象，意味着所有的 `None` 值都共享相同的内存地址，`x is None` 是判断 x 是否是 `None` 的最佳方式。\n",
    "\n",
    "而 `== None` 的问题是，某些类可能会重载 `__eq__` 方法，使得 `x == None` 可能返回 `True`，即使 **x 不是 None**。"
   ]
  },
  {
   "cell_type": "code",
   "execution_count": 3,
   "metadata": {},
   "outputs": [
    {
     "name": "stdout",
     "output_type": "stream",
     "text": [
      "True\n",
      "False\n"
     ]
    }
   ],
   "source": [
    "class Custom:\n",
    "    def __eq__(self, other):\n",
    "        return True  # 任何比较都返回 True\n",
    "\n",
    "obj = Custom()\n",
    "print(obj == None)  # ⚠️ True，但 obj 不是 None\n",
    "print(obj is None)  # ✅ False，obj 不是 None"
   ]
  }
 ],
 "metadata": {
  "kernelspec": {
   "display_name": "Python 3",
   "language": "python",
   "name": "python3"
  },
  "language_info": {
   "codemirror_mode": {
    "name": "ipython",
    "version": 3
   },
   "file_extension": ".py",
   "mimetype": "text/x-python",
   "name": "python",
   "nbconvert_exporter": "python",
   "pygments_lexer": "ipython3",
   "version": "3.9.21"
  }
 },
 "nbformat": 4,
 "nbformat_minor": 2
}
