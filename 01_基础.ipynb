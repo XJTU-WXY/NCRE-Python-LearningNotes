{
 "cells": [
  {
   "cell_type": "code",
   "execution_count": 2,
   "metadata": {},
   "outputs": [],
   "source": [
    "from IPython.core.interactiveshell import InteractiveShell\n",
    "InteractiveShell.ast_node_interactivity = \"all\""
   ]
  },
  {
   "attachments": {},
   "cell_type": "markdown",
   "metadata": {},
   "source": [
    "# Python语言的特点\n",
    "- **解释型语言：** 无需编译，直接由解释器逐条执行\n",
    "- **动态类型：** 变量类型可变\n",
    "- **强类型：** 不同类型之间必须转换\n",
    "- **跨平台**\n",
    "- **自动垃圾回收**\n",
    "## 编码\n",
    "默认情况下，Python 3 源码文件以 **UTF-8** 编码，可以通过\n",
    "```\n",
    "# -*- coding: cp-1252 -*-\n",
    "```\n",
    "来指定源码文件的编码\n",
    "## IOP模式\n",
    "- input：输入\n",
    "- output：输出\n",
    "- **process：处理**\n",
    "# 基础语法\n",
    "## 缩进\n",
    "- Python 代码必须严格遵循缩进规则，代码块使用**相同缩进表示逻辑结构**。\n",
    "- 常见缩进方式：\n",
    "  - 四个空格（推荐）\n",
    "  - 制表符（Tab）（不推荐，与空格混用可能导致错误）\n",
    "- Python 解释器会检测不一致缩进，导致 `IndentationError`。\n",
    "## 拆分一行&合并多行\n",
    "当一行代码超出PEP长度限制时，对其合理换行可以提升可读性。\n",
    "- 使用反斜杠`\\`进行显式换行\n",
    "    ```python\n",
    "    with open(\"file1.txt\") as file1, \\\n",
    "        open(\"file2.txt\") as file2:\n",
    "      content1 = file1.read()\n",
    "      content2 = file2.read()\n",
    "    ```\n",
    "- 使用括号 ()、[]、{} 进行隐式换行:Python 允许在括号内换行，无需使用 `\\`，这适用于多种情况：\n",
    "    ```python\n",
    "    result = (\n",
    "        a_long_variable_name + another_variable_name\n",
    "        - yet_another_variable_name + 42\n",
    "    )\n",
    "    ```\n",
    "    ```python\n",
    "    my_list = [\n",
    "        \"apple\",\n",
    "        \"banana\",\n",
    "        \"cherry\",\n",
    "    ]\n",
    "\n",
    "    my_dict = {\n",
    "        \"name\": \"Alice\",\n",
    "        \"age\": 25,\n",
    "        \"city\": \"New York\",\n",
    "    }\n",
    "\n",
    "    my_set = {\n",
    "        \"apple\",\n",
    "        \"banana\",\n",
    "        \"cherry\",\n",
    "    }\n",
    "    ```\n",
    "Python 可以在同一行中使用多条语句，语句之间使用分号`;`分隔（不推荐）：\n",
    "```python\n",
    "a = 1; b = 2; c = a + b; print(c)\n",
    "```\n",
    "## 标识符\n",
    "- 第一个字符必须是字母或下划线``_``，**不能以数字开头**\n",
    "- 其他部分是**字母、数字、下划线**\n",
    "- 对大小写敏感\n",
    "## 保留字\n",
    "| 类别          | 关键字 |\n",
    "|--------------|------------------------------------------------------|\n",
    "| 布尔值       | `True`, `False`, `None`                              |\n",
    "| 逻辑运算     | `and`, `or`, `not`, `is`, `in`                      |\n",
    "| 流程控制     | `if`, `elif`, `else`, `while`, `for`, `break`, `continue`, `pass` |\n",
    "| 异常处理     | `try`, `except`, `finally`, `raise`                 |\n",
    "| 函数与返回值 | `def`, `return`, `lambda`                           |\n",
    "| 类与对象     | `class`                                              |\n",
    "| 模块导入     | `import`, `from`, `as`                              |\n",
    "| 作用域控制   | `global`, `nonlocal`                                |\n",
    "| 上下文管理   | `with`                                               |\n",
    "| 赋值与删除   | `del`                                                |\n",
    "| 并发相关     | `async`, `await`                                    |\n",
    "| 断言与调试   | `assert`                                            |\n",
    "| 解析器相关   | `__peg_parser__`                                     |\n",
    "| 生成器相关         | `yield`                                              |\n"
   ]
  },
  {
   "attachments": {},
   "cell_type": "markdown",
   "metadata": {},
   "source": [
    "## 注释"
   ]
  },
  {
   "cell_type": "code",
   "execution_count": null,
   "metadata": {},
   "outputs": [],
   "source": [
    "# 单行注释\n",
    "\n",
    "\"单行注释\"\n",
    "\n",
    "'单行注释'\n",
    "\n",
    "# 多行注释（一行一个#号）\n",
    "# 多行注释（一行一个#号）\n",
    "\n",
    "'''\n",
    "多行注释\n",
    "多行注释\n",
    "'''\n",
    "\n",
    "\"\"\"\n",
    "多行注释\n",
    "多行注释\n",
    "\"\"\""
   ]
  },
  {
   "attachments": {},
   "cell_type": "markdown",
   "metadata": {},
   "source": [
    "## 赋值"
   ]
  },
  {
   "cell_type": "code",
   "execution_count": null,
   "metadata": {},
   "outputs": [
    {
     "ename": "TypeError",
     "evalue": "cannot unpack non-iterable int object",
     "output_type": "error",
     "traceback": [
      "\u001b[1;31m---------------------------------------------------------------------------\u001b[0m",
      "\u001b[1;31mTypeError\u001b[0m                                 Traceback (most recent call last)",
      "Cell \u001b[1;32mIn[1], line 4\u001b[0m\n\u001b[0;32m      2\u001b[0m a \u001b[38;5;241m=\u001b[39m b \u001b[38;5;241m=\u001b[39m \u001b[38;5;241m1\u001b[39m  \u001b[38;5;66;03m# 多变量连续赋值\u001b[39;00m\n\u001b[0;32m      3\u001b[0m a, b, c \u001b[38;5;241m=\u001b[39m \u001b[38;5;241m1\u001b[39m, \u001b[38;5;241m2\u001b[39m, \u001b[38;5;241m3\u001b[39m  \u001b[38;5;66;03m# 多变量分别赋值（实际是元组省略括号）\u001b[39;00m\n\u001b[1;32m----> 4\u001b[0m a, b, c \u001b[38;5;241m=\u001b[39m \u001b[38;5;241m1\u001b[39m  \u001b[38;5;66;03m# 不能这样赋值\u001b[39;00m\n\u001b[0;32m      5\u001b[0m a, b \u001b[38;5;241m=\u001b[39m b, a  \u001b[38;5;66;03m# 用元组的方式交换两个变量的值\u001b[39;00m\n",
      "\u001b[1;31mTypeError\u001b[0m: cannot unpack non-iterable int object"
     ]
    }
   ],
   "source": [
    "a = 1  # 单变量赋值\n",
    "a = b = 1  # 多变量连续赋值\n",
    "a, b, c = 1, 2, 3  # 多变量分别赋值（实际是元组省略括号）\n",
    "a, b, c = 1  # ❌不能这样赋值\n",
    "a, b = b, a  # 用元组的方式交换两个变量的值"
   ]
  },
  {
   "cell_type": "markdown",
   "metadata": {},
   "source": [
    "### 从“一切皆对象”的思想理解赋值语句（=）的本质\n",
    "Python 的 **\"一切皆对象\"（Everything is an object）** 思想意味着：\n",
    "- **所有的数据**（整数、字符串、列表、字典等）都是对象。\n",
    "- **所有的对象** 都有唯一的 **标识**、**类型** 和 **值**。\n",
    "    1. **标识（Identity）**：每个对象都有唯一的标识，可以通过 `id(obj)` 获取。\n",
    "    2. **类型（Type）**：对象的类型可以通过 `type(obj)` 获取。\n",
    "    3. **值（Value）**：对象存储的数据内容，可以通过直接访问或方法获取。\n",
    "- **即使是函数、类、模块等** 也都是对象，可以作为参数传递或赋值。\n",
    "\n",
    "在 Python 中，**赋值语句（`=`）的本质**并不是 **“拷贝数据”**，而是**创建对象的引用关系**。这与传统语言（如 C/C++）的赋值机制不同。在 Python 的 **“一切皆对象”** 思想下，变量只是一个**对象的标签**，而赋值语句 `=` 只是让变量指向某个对象，并不会真正复制对象。 \n",
    "#### Python 变量的本质：标签 vs. 盒子\n",
    "许多编程语言（如 C/C++）把变量理解为 **“盒子”**，即变量存储数据本身：\n",
    "```c\n",
    "int a = 10; // 变量 a 存储 10\n",
    "```\n",
    "但 **Python 的变量更像是“标签”**，变量本身并不存储数据，而是 **指向（引用）某个对象**：\n",
    "```python\n",
    "a = 10  # a 只是 10 这个对象的一个引用\n",
    "```\n",
    "- `10` 是一个 `int` 对象，存储在内存中。\n",
    "- `a` 是一个 **引用**，指向 `10` 这个对象。"
   ]
  },
  {
   "cell_type": "code",
   "execution_count": 4,
   "metadata": {},
   "outputs": [
    {
     "name": "stdout",
     "output_type": "stream",
     "text": [
      "3122354219600 3122354219600\n"
     ]
    }
   ],
   "source": [
    "a = 10\n",
    "b = a  # b 只是引用了 a 指向的对象\n",
    "print(id(a), id(b))  # 二者 ID 相同，说明是同一个对象"
   ]
  },
  {
   "cell_type": "markdown",
   "metadata": {},
   "source": [
    "#### 赋值语句 `=` 改变标签（变量名）的引用"
   ]
  },
  {
   "cell_type": "markdown",
   "metadata": {},
   "source": [
    "任何时候，Python的赋值语句`=`都不对实际的对象产生修改，仅仅是将`=`左边的标识符（变量名）指向右边的对象。"
   ]
  },
  {
   "cell_type": "code",
   "execution_count": 5,
   "metadata": {},
   "outputs": [
    {
     "name": "stdout",
     "output_type": "stream",
     "text": [
      "3122354219600 3122354219600\n",
      "3122354219920 3122354219600\n"
     ]
    }
   ],
   "source": [
    "a = 10\n",
    "b = a  # 变量 b 也指向 10\n",
    "print(id(a), id(b))  # 相同\n",
    "\n",
    "a = 20  # 变量 a 现在指向 20，b 仍然指向 10\n",
    "print(id(a), id(b))  # a 的 id 变化了，但 b 仍指向旧的 10"
   ]
  },
  {
   "attachments": {},
   "cell_type": "markdown",
   "metadata": {},
   "source": [
    "## 基本输入输出"
   ]
  },
  {
   "attachments": {},
   "cell_type": "markdown",
   "metadata": {},
   "source": [
    "### print()\n",
    "```python\n",
    "print(*objects, sep=' ', end='\\n', file=sys.stdout, flush=False)\n",
    "```\n",
    "|参数名|作用|\n",
    "|------|----|\n",
    "| `objects` | 需要打印的内容，可以是多个值 |\n",
    "| `sep` | 设定多个对象间的分隔符，默认是 `\" \"`（空格） |\n",
    "| `end` | 设定输出内容的结尾，默认是 `\"\\n\"`（换行） |\n",
    "| `file` | 指定输出目标，默认为标准输出（`sys.stdout`） |\n",
    "| `flush` | 是否强制刷新流，默认 `False` |\n"
   ]
  },
  {
   "cell_type": "code",
   "execution_count": 2,
   "metadata": {},
   "outputs": [
    {
     "name": "stdout",
     "output_type": "stream",
     "text": [
      "Python is awesome\n",
      "Python-is-awesome\n",
      "HelloWorld!\n"
     ]
    }
   ],
   "source": [
    "print(\"Python\", \"is\", \"awesome\")  # 多参数打印，默认以空格分隔\n",
    "print(\"Python\", \"is\", \"awesome\", sep=\"-\")  # 自定义分隔符\n",
    "print(\"Hello\", end=\"\");print(\"World!\")  # 不换行输出\n",
    "\n",
    "with open(\"output.txt\", \"w\") as f:\n",
    "    print(\"This is a test.\", file=f)  # 打印到文件"
   ]
  },
  {
   "cell_type": "code",
   "execution_count": 4,
   "metadata": {},
   "outputs": [
    {
     "name": "stdout",
     "output_type": "stream",
     "text": [
      "I am 24 years old.\n",
      "{'b': 2, 'a': 1}\n"
     ]
    }
   ],
   "source": [
    "print(\"I am\", 24, \"years old.\")  # print()会自动调用对象的__str__方法将其转换为可读字符串，而不必手动显式转换\n",
    "\n",
    "a = {\"a\": 1, \"b\": 2}\n",
    "print(a)"
   ]
  },
  {
   "attachments": {},
   "cell_type": "markdown",
   "metadata": {},
   "source": [
    "### input()\n",
    "```python\n",
    "input(提示字符串)\n",
    "```\n",
    "注意：input()返回所有用户输入为一整个str，如果期望用户同时输入多个值，需要对字符串进行分隔，而如同`x, y = input(\"Enter two numbers: \")`是不行的"
   ]
  }
 ],
 "metadata": {
  "kernelspec": {
   "display_name": "Python 3",
   "language": "python",
   "name": "python3"
  },
  "language_info": {
   "codemirror_mode": {
    "name": "ipython",
    "version": 3
   },
   "file_extension": ".py",
   "mimetype": "text/x-python",
   "name": "python",
   "nbconvert_exporter": "python",
   "pygments_lexer": "ipython3",
   "version": "3.9.21"
  }
 },
 "nbformat": 4,
 "nbformat_minor": 2
}
