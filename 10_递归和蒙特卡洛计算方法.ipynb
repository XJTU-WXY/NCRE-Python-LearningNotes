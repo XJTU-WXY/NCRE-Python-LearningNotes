{
 "cells": [
  {
   "cell_type": "code",
   "execution_count": 1,
   "metadata": {},
   "outputs": [],
   "source": [
    "from IPython.core.interactiveshell import InteractiveShell\n",
    "InteractiveShell.ast_node_interactivity = \"all\""
   ]
  },
  {
   "attachments": {},
   "cell_type": "markdown",
   "metadata": {},
   "source": [
    "# 递归\n",
    "递归（Recursion）是一种在函数内部调用自身的编程技巧。它常用于解决可以分解为更小子问题的问题，比如数学计算、树结构遍历等。\n",
    "一个递归函数通常包含以下部分：\n",
    "1. **基准情况（Base Case）**：用于终止递归的条件，防止无限递归。\n",
    "2. **递归调用（Recursive Case）**：函数在适当的条件下调用自身，逐步缩小问题规模。"
   ]
  },
  {
   "attachments": {},
   "cell_type": "markdown",
   "metadata": {},
   "source": [
    "### 一、递归的基本结构\n",
    "```python\n",
    "def recursive_function(parameters):\n",
    "    if base_case_condition:  # 基准情况\n",
    "        return result\n",
    "    else:\n",
    "        return recursive_function(smaller_parameters)  # 递归调用\n",
    "```"
   ]
  },
  {
   "cell_type": "code",
   "execution_count": null,
   "metadata": {},
   "outputs": [
    {
     "name": "stdout",
     "output_type": "stream",
     "text": [
      "120\n"
     ]
    }
   ],
   "source": [
    "# 例子：计算阶乘\n",
    "def factorial(n):\n",
    "    if n == 0:  # 基准情况\n",
    "        return 1\n",
    "    else:\n",
    "        return n * factorial(n - 1)  # 递归调用\n",
    "\n",
    "print(factorial(5))  # 输出 120\n",
    "\n",
    "\"\"\"\n",
    "以 `factorial(5)` 为例，调用过程如下：\n",
    "```\n",
    "factorial(5) → 5 * factorial(4)\n",
    "factorial(4) → 4 * factorial(3)\n",
    "factorial(3) → 3 * factorial(2)\n",
    "factorial(2) → 2 * factorial(1)\n",
    "factorial(1) → 1 * factorial(0)\n",
    "factorial(0) → 1  (基准情况)\n",
    "```\n",
    "然后，计算结果依次返回，最终 `factorial(5) = 5 * 4 * 3 * 2 * 1 = 120`。\n",
    "\"\"\""
   ]
  },
  {
   "attachments": {},
   "cell_type": "markdown",
   "metadata": {},
   "source": [
    "### 二、经典递归问题\n",
    "#### 1. 斐波那契数列"
   ]
  },
  {
   "cell_type": "code",
   "execution_count": 2,
   "metadata": {},
   "outputs": [
    {
     "name": "stdout",
     "output_type": "stream",
     "text": [
      "8\n"
     ]
    }
   ],
   "source": [
    "def fibonacci(n):\n",
    "    if n <= 0:\n",
    "        return 0\n",
    "    elif n == 1:\n",
    "        return 1\n",
    "    else:\n",
    "        return fibonacci(n - 1) + fibonacci(n - 2)\n",
    "\n",
    "print(fibonacci(6))"
   ]
  },
  {
   "attachments": {},
   "cell_type": "markdown",
   "metadata": {},
   "source": [
    "### 三、递归与迭代的对比\n",
    "| **方式** | **优点** | **缺点** |\n",
    "|----------|---------|---------|\n",
    "| **递归** | 代码简洁，易于理解适用于递归结构问题（如树、分治算法） | 可能导致栈溢出，性能较低 |\n",
    "| **迭代** | 占用较少的栈空间，效率高 | 代码可能较复杂 |\n",
    "\n",
    "**示例：递归与迭代计算阶乘**"
   ]
  },
  {
   "cell_type": "code",
   "execution_count": 4,
   "metadata": {},
   "outputs": [
    {
     "name": "stdout",
     "output_type": "stream",
     "text": [
      "递归耗时：0.00126450s\n",
      "迭代耗时：0.00037700s\n"
     ]
    }
   ],
   "source": [
    "# 递归实现\n",
    "def factorial_recursive(n):\n",
    "    return 1 if n == 0 else n * factorial_recursive(n - 1)\n",
    "\n",
    "# 迭代实现\n",
    "def factorial_iterative(n):\n",
    "    result = 1\n",
    "    for i in range(1, n + 1):\n",
    "        result *= i\n",
    "    return result\n",
    "\n",
    "import time\n",
    "\n",
    "t1 = time.perf_counter()\n",
    "factorial_recursive(1000)\n",
    "t2 = time.perf_counter()\n",
    "print(\"递归耗时：{:.8f}s\".format(t2-t1))\n",
    "\n",
    "t1 = time.perf_counter()\n",
    "factorial_iterative(1000)\n",
    "t2 = time.perf_counter()\n",
    "print(\"迭代耗时：{:.8f}s\".format(t2-t1))"
   ]
  },
  {
   "attachments": {},
   "cell_type": "markdown",
   "metadata": {},
   "source": [
    "### 四、递归的常见错误及解决方法\n",
    "\n",
    "#### 1. 没有基准情况，导致无限递归\n",
    "\n"
   ]
  },
  {
   "cell_type": "code",
   "execution_count": null,
   "metadata": {},
   "outputs": [
    {
     "ename": "",
     "evalue": "",
     "output_type": "error",
     "traceback": [
      "\u001b[1;31m在当前单元格或上一个单元格中执行代码时 Kernel 崩溃。\n",
      "\u001b[1;31m请查看单元格中的代码，以确定故障的可能原因。\n",
      "\u001b[1;31m单击<a href='https://aka.ms/vscodeJupyterKernelCrash'>此处</a>了解详细信息。\n",
      "\u001b[1;31m有关更多详细信息，请查看 Jupyter <a href='command:jupyter.viewOutput'>log</a>。"
     ]
    }
   ],
   "source": [
    "def infinite_recursion(n):\n",
    "    return infinite_recursion(n - 1)  # 没有终止条件\n",
    "\n",
    "infinite_recursion(5)"
   ]
  },
  {
   "attachments": {},
   "cell_type": "markdown",
   "metadata": {},
   "source": [
    "#### 2. 递归深度过大，导致栈溢出（RecursionError）"
   ]
  },
  {
   "cell_type": "code",
   "execution_count": null,
   "metadata": {},
   "outputs": [
    {
     "ename": "",
     "evalue": "",
     "output_type": "error",
     "traceback": [
      "\u001b[1;31m在当前单元格或上一个单元格中执行代码时 Kernel 崩溃。\n",
      "\u001b[1;31m请查看单元格中的代码，以确定故障的可能原因。\n",
      "\u001b[1;31m单击<a href='https://aka.ms/vscodeJupyterKernelCrash'>此处</a>了解详细信息。\n",
      "\u001b[1;31m有关更多详细信息，请查看 Jupyter <a href='command:jupyter.viewOutput'>log</a>。"
     ]
    }
   ],
   "source": [
    "def deep_recursion(n):\n",
    "    if n == 0:\n",
    "        return 0\n",
    "    return 1 + deep_recursion(n - 1)\n",
    "\n",
    "deep_recursion(10000)  # 可能会超出最大递归深度"
   ]
  },
  {
   "attachments": {},
   "cell_type": "markdown",
   "metadata": {},
   "source": [
    "# 蒙特卡洛计算方法\n",
    "蒙特卡洛方法是一种利用随机数进行近似计算的方法，常用于模拟和数值计算。\n",
    "\n",
    "我们利用**单位圆**（半径为 1，圆心在 (0,0)）与**正方形**（边长 2）之间的面积关系来近似 π。  \n",
    "- 设一个边长为 **2** 的**正方形**，左下角为 (-1, -1)，右上角为 (1,1)。\n",
    "- 画一个**单位圆**，半径为 1，中心在 (0,0)。\n",
    "- 生成**随机点 (x, y)**，其中 \\(x, y\\) 在区间 [-1, 1] 之间均匀随机取值。\n",
    "- 计算该点是否落入圆内（即满足 \\(x^2 + y^2 \\leq 1\\)）。\n",
    "- 统计落入圆内的点数与总点数的比例，利用面积关系估算 π。\n",
    "\n",
    "于是有：\n",
    "- 正方形的面积：$A_{\\text{square}} = (2 \\times 2) = 4$\n",
    "- 单位圆的面积：$A_{\\text{circle}} = \\pi \\times (1^2) = \\pi$\n",
    "- 圆的面积与正方形面积的比例：$\\frac{A_{\\text{circle}}}{A_{\\text{square}}} = \\frac{\\pi}{4}$\n",
    "\n",
    "假设我们随机撒了 `n` 个点，其中 `inside` 个点落入圆内。\n",
    "- 圆内点的比例近似等于面积比例：$\\frac{\\text{inside}}{n} \\approx \\frac{\\pi}{4}$\n",
    "- 于是，我们可以通过变换公式来求 π：$\\pi \\approx \\frac{\\text{inside}}{n} \\times 4$"
   ]
  },
  {
   "cell_type": "code",
   "execution_count": 1,
   "metadata": {},
   "outputs": [
    {
     "name": "stdout",
     "output_type": "stream",
     "text": [
      "3.13988\n"
     ]
    }
   ],
   "source": [
    "# 计算圆周率\n",
    "import random\n",
    "\n",
    "def monte_carlo_pi(n):  \n",
    "    inside = 0\n",
    "    for _ in range(n):  # 进行n次随机采样\n",
    "        x, y = random.uniform(-1, 1), random.uniform(-1, 1)  # 生成n个点\n",
    "        if x**2 + y**2 <= 1:  # 当点落在圆内时\n",
    "            inside += 1  # 计数加一\n",
    "    return (inside / n) * 4  # \n",
    "\n",
    "print(monte_carlo_pi(100000))  # 近似 3.14"
   ]
  }
 ],
 "metadata": {
  "kernelspec": {
   "display_name": "Python 3",
   "language": "python",
   "name": "python3"
  },
  "language_info": {
   "codemirror_mode": {
    "name": "ipython",
    "version": 3
   },
   "file_extension": ".py",
   "mimetype": "text/x-python",
   "name": "python",
   "nbconvert_exporter": "python",
   "pygments_lexer": "ipython3",
   "version": "3.5.6"
  }
 },
 "nbformat": 4,
 "nbformat_minor": 2
}
