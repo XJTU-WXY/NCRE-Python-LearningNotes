{
 "cells": [
  {
   "cell_type": "code",
   "execution_count": 1,
   "metadata": {},
   "outputs": [],
   "source": [
    "from IPython.core.interactiveshell import InteractiveShell\n",
    "InteractiveShell.ast_node_interactivity = \"all\""
   ]
  },
  {
   "attachments": {},
   "cell_type": "markdown",
   "metadata": {},
   "source": [
    "# 字符串\n",
    "## 转义字符\n",
    "|转义字符|描述|\n",
    "|-------|----|\n",
    "|\\\\（在行尾）|续行符|\n",
    "|\\\\\\\\ |反斜杠自身|\n",
    "|\\\\'|单引号|\n",
    "|\\\\\"|双引号|\n",
    "|\\\\0|空格|\n",
    "|\\\\b|退格|\n",
    "|\\\\n|换行|\n",
    "|\\\\r|将光标移到行首，并将该行已经打印的字符逐一替换其后的字符|\n",
    "|\\\\t|横向制表符|\n",
    "|\\\\v|纵向制表符|\n",
    "|\\\\f|换页|\n",
    "|\\\\a|主板蜂鸣器|\n",
    "|\\\\0oo \\\\oo|两位八进制数所对应的ASCII表字符（o为0~7）|\n",
    "|\\\\ooo|三位八进制数所对应的ASCII表字符（o为0~7）|\n",
    "|\\\\xhh|两位八进制数所对应的ASCII表字符（h为0~f）|"
   ]
  },
  {
   "cell_type": "code",
   "execution_count": 11,
   "metadata": {},
   "outputs": [
    {
     "name": "stdout",
     "output_type": "stream",
     "text": [
      "line1 line2line3\n"
     ]
    }
   ],
   "source": [
    "print(\"line1 \\\n",
    "line2\\\n",
    "line3\")"
   ]
  },
  {
   "cell_type": "code",
   "execution_count": 12,
   "metadata": {},
   "outputs": [
    {
     "name": "stdout",
     "output_type": "stream",
     "text": [
      "\\\n",
      "'\n",
      "\"\n"
     ]
    }
   ],
   "source": [
    "print(\"\\\\\")\n",
    "print(\"\\'\")\n",
    "print(\"\\\"\")"
   ]
  },
  {
   "cell_type": "code",
   "execution_count": 21,
   "metadata": {},
   "outputs": [
    {
     "name": "stdout",
     "output_type": "stream",
     "text": [
      "Hello\u0000world\n",
      "Hello\u0000world\n",
      "Hello\u0000world\n",
      "Hello\u0000world\n"
     ]
    }
   ],
   "source": [
    "print(\"Hello\\0world\")\n",
    "print(\"Hello\\00world\")  # 两位八进制数\n",
    "print(\"Hello\\000world\")  # 三位八进制数\n",
    "print(\"Hello\\x00world\")  # 两位十六进制数"
   ]
  },
  {
   "cell_type": "code",
   "execution_count": null,
   "metadata": {},
   "outputs": [
    {
     "name": "stdout",
     "output_type": "stream",
     "text": [
      "Hello\n",
      "\n",
      "world\n"
     ]
    }
   ],
   "source": [
    "print(\"Hello\\n\")  # 本来print默认就会加上一个\\n\n",
    "print(\"world\")"
   ]
  },
  {
   "cell_type": "code",
   "execution_count": 16,
   "metadata": {},
   "outputs": [
    {
     "name": "stdout",
     "output_type": "stream",
     "text": [
      "Hello\tworld\n",
      "Hello\u000bworld\n",
      "Hello\fworld\n"
     ]
    }
   ],
   "source": [
    "print(\"Hello\\tworld\")\n",
    "print(\"Hello\\vworld\")\n",
    "print(\"Hello\\fworld\")"
   ]
  },
  {
   "cell_type": "code",
   "execution_count": 18,
   "metadata": {},
   "outputs": [
    {
     "name": "stdout",
     "output_type": "stream",
     "text": [
      "World!\n",
      "100% "
     ]
    }
   ],
   "source": [
    "print(\"Hello\\rWorld!\")\n",
    "import time\n",
    "\n",
    "for i in range(101):\n",
    "    print(\"\\r{:3}%\".format(i),end=' ')\n",
    "    time.sleep(0.05)"
   ]
  },
  {
   "cell_type": "code",
   "execution_count": 20,
   "metadata": {},
   "outputs": [
    {
     "name": "stdout",
     "output_type": "stream",
     "text": [
      "Hello World!\n"
     ]
    }
   ],
   "source": [
    "print(\"\\110\\145\\154\\154\\157\\40\\127\\157\\162\\154\\144\\041\")"
   ]
  },
  {
   "cell_type": "code",
   "execution_count": 22,
   "metadata": {},
   "outputs": [
    {
     "name": "stdout",
     "output_type": "stream",
     "text": [
      "Hello World!\n"
     ]
    }
   ],
   "source": [
    "print(\"\\x48\\x65\\x6c\\x6c\\x6f\\x20\\x57\\x6f\\x72\\x6c\\x64\\x21\")"
   ]
  },
  {
   "attachments": {},
   "cell_type": "markdown",
   "metadata": {},
   "source": [
    "## 字符串格式化（NCRE 使用的 Python 3.5 不支持 f-strings 格式化）"
   ]
  },
  {
   "attachments": {},
   "cell_type": "markdown",
   "metadata": {},
   "source": [
    "**{**`<空/顺序/关键字>`**:**`<填充字符><对齐方式><填充宽度><,><.精度><类型>`**}**\n",
    "\n",
    "其中：\n",
    "- 填充字符：默认为空格\n",
    "- 对齐方式：\n",
    "  - <：左对齐\n",
    "  - \\>：右对齐\n",
    "  - ^：居中\n",
    "- ,：是否显示数字千分位\n",
    "- 精度：在输出浮点数和科学计数法时为小数精度\n",
    "- 类型：\n",
    "  - b：整数二进制\n",
    "  - c：数字所对应的ASCII码\n",
    "  - d：整数十进制\n",
    "  - o：整数八进制\n",
    "  - x：整数小写十六进制\n",
    "  - \\#x：带x整数小写十六进制\n",
    "  - X：整数大写十六进制\n",
    "  - \\#X：带X整数大写十六进制\n",
    "  - e：科学计数法（小写e）\n",
    "  - E：科学计数法（大写E）\n",
    "  - f：浮点数\n",
    "  - %：浮点数对应的百分比"
   ]
  },
  {
   "cell_type": "code",
   "execution_count": 52,
   "metadata": {},
   "outputs": [
    {
     "data": {
      "text/plain": [
       "'My name is Alice and I am 25 years old.'"
      ]
     },
     "execution_count": 52,
     "metadata": {},
     "output_type": "execute_result"
    },
    {
     "data": {
      "text/plain": [
       "'Hello, Bob. My name is Alice.'"
      ]
     },
     "execution_count": 52,
     "metadata": {},
     "output_type": "execute_result"
    },
    {
     "data": {
      "text/plain": [
       "'Name: Alice, Age: 25'"
      ]
     },
     "execution_count": 52,
     "metadata": {},
     "output_type": "execute_result"
    },
    {
     "data": {
      "text/plain": [
       "'My name is Alice and I love Python.'"
      ]
     },
     "execution_count": 52,
     "metadata": {},
     "output_type": "execute_result"
    },
    {
     "data": {
      "text/plain": [
       "'Name: Alice, Age: 25'"
      ]
     },
     "execution_count": 52,
     "metadata": {},
     "output_type": "execute_result"
    },
    {
     "data": {
      "text/plain": [
       "'Name: Alice, Age: 25'"
      ]
     },
     "execution_count": 52,
     "metadata": {},
     "output_type": "execute_result"
    }
   ],
   "source": [
    "\"My name is {} and I am {} years old.\".format(\"Alice\", 25)  # 基本用法\n",
    "\"Hello, {1}. My name is {0}.\".format(\"Alice\", \"Bob\")  # 使用数字索引指定参数顺序\n",
    "\"Name: {name}, Age: {age}\".format(name=\"Alice\", age=25)  # 使用关键字参数指定\n",
    "\"My name is {0} and I love {thing}.\".format(\"Alice\", thing=\"Python\")  # 混合顺序参数和关键字参数\n",
    "\n",
    "d = {\"name\": \"Alice\", \"age\": 25}\n",
    "\"Name: {name}, Age: {age}\".format(**d)  # 使用**解包字典\n",
    "\n",
    "d = [\"Alice\", 25]\n",
    "\"Name: {0[0]}, Age: {0[1]}\".format(d)  # 使用列表索引设置参数"
   ]
  },
  {
   "cell_type": "code",
   "execution_count": 32,
   "metadata": {},
   "outputs": [
    {
     "data": {
      "text/plain": [
       "'***1,000,003.1416***'"
      ]
     },
     "execution_count": 32,
     "metadata": {},
     "output_type": "execute_result"
    }
   ],
   "source": [
    "\"{:*^20,.4f}\".format(1000003.14159265359)  # 显示数字千分位并保留4位小数，内容居中且用*号补到20长度"
   ]
  },
  {
   "cell_type": "code",
   "execution_count": 53,
   "metadata": {},
   "outputs": [
    {
     "data": {
      "text/plain": [
       "'***1,000,003.1416***'"
      ]
     },
     "execution_count": 53,
     "metadata": {},
     "output_type": "execute_result"
    }
   ],
   "source": [
    "\"{0:*^20,.{1}f}\".format(1000003.14159265359, 4)  # 大括号允许嵌套"
   ]
  },
  {
   "cell_type": "code",
   "execution_count": 54,
   "metadata": {},
   "outputs": [
    {
     "data": {
      "text/plain": [
       "'十进制：95'"
      ]
     },
     "execution_count": 54,
     "metadata": {},
     "output_type": "execute_result"
    },
    {
     "data": {
      "text/plain": [
       "'二进制：1011111'"
      ]
     },
     "execution_count": 54,
     "metadata": {},
     "output_type": "execute_result"
    },
    {
     "data": {
      "text/plain": [
       "'ASCII转换：_'"
      ]
     },
     "execution_count": 54,
     "metadata": {},
     "output_type": "execute_result"
    },
    {
     "data": {
      "text/plain": [
       "'八进制：137'"
      ]
     },
     "execution_count": 54,
     "metadata": {},
     "output_type": "execute_result"
    },
    {
     "data": {
      "text/plain": [
       "'十六进制小写：5f'"
      ]
     },
     "execution_count": 54,
     "metadata": {},
     "output_type": "execute_result"
    },
    {
     "data": {
      "text/plain": [
       "'十六进制大写：5F'"
      ]
     },
     "execution_count": 54,
     "metadata": {},
     "output_type": "execute_result"
    },
    {
     "data": {
      "text/plain": [
       "'十六进制带x小写：0x5f'"
      ]
     },
     "execution_count": 54,
     "metadata": {},
     "output_type": "execute_result"
    },
    {
     "data": {
      "text/plain": [
       "'十六进制带X大写：0X5F'"
      ]
     },
     "execution_count": 54,
     "metadata": {},
     "output_type": "execute_result"
    },
    {
     "data": {
      "text/plain": [
       "'科学计数法小写：9.500000e+01'"
      ]
     },
     "execution_count": 54,
     "metadata": {},
     "output_type": "execute_result"
    },
    {
     "data": {
      "text/plain": [
       "'科学计数法大写：9.500000E+01'"
      ]
     },
     "execution_count": 54,
     "metadata": {},
     "output_type": "execute_result"
    }
   ],
   "source": [
    "a = 95\n",
    "\"十进制：{:d}\".format(a)\n",
    "\"二进制：{:b}\".format(a)\n",
    "\"ASCII转换：{:c}\".format(a)\n",
    "\"八进制：{:o}\".format(a)\n",
    "\"十六进制小写：{:x}\".format(a)\n",
    "\"十六进制大写：{:X}\".format(a)\n",
    "\"十六进制带x小写：{:#x}\".format(a)\n",
    "\"十六进制带X大写：{:#X}\".format(a)\n",
    "\"科学计数法小写：{:e}\".format(a)\n",
    "\"科学计数法大写：{:E}\".format(a)"
   ]
  },
  {
   "cell_type": "code",
   "execution_count": 49,
   "metadata": {},
   "outputs": [
    {
     "data": {
      "text/plain": [
       "'浮点数：0.141593'"
      ]
     },
     "execution_count": 49,
     "metadata": {},
     "output_type": "execute_result"
    },
    {
     "data": {
      "text/plain": [
       "'浮点数保留8位小数：0.14159265'"
      ]
     },
     "execution_count": 49,
     "metadata": {},
     "output_type": "execute_result"
    },
    {
     "data": {
      "text/plain": [
       "'百分比格式：14.159265%'"
      ]
     },
     "execution_count": 49,
     "metadata": {},
     "output_type": "execute_result"
    }
   ],
   "source": [
    "a = 0.141592653\n",
    "\"浮点数：{:f}\".format(a)\n",
    "\"浮点数保留8位小数：{:.8f}\".format(a)\n",
    "\"百分比格式：{:%}\".format(a)"
   ]
  },
  {
   "cell_type": "code",
   "execution_count": 50,
   "metadata": {},
   "outputs": [
    {
     "data": {
      "text/plain": [
       "'大括号转义{}'"
      ]
     },
     "execution_count": 50,
     "metadata": {},
     "output_type": "execute_result"
    }
   ],
   "source": [
    "\"{}{{}}\".format(\"大括号转义\")  # 在字符串格式化时，若仍想输出大括号，用双层大括号"
   ]
  },
  {
   "attachments": {},
   "cell_type": "markdown",
   "metadata": {},
   "source": [
    "## 字符串类型自带方法\n",
    "因为字符串是不可变对象，所以以下所有方法都不会在原字符串上进行修改，而是返回一个新字符串对象。"
   ]
  },
  {
   "attachments": {},
   "cell_type": "markdown",
   "metadata": {},
   "source": [
    "### 大小写转换"
   ]
  },
  {
   "cell_type": "code",
   "execution_count": 4,
   "metadata": {},
   "outputs": [
    {
     "data": {
      "text/plain": [
       "'HELLO'"
      ]
     },
     "execution_count": 4,
     "metadata": {},
     "output_type": "execute_result"
    },
    {
     "data": {
      "text/plain": [
       "'hello'"
      ]
     },
     "execution_count": 4,
     "metadata": {},
     "output_type": "execute_result"
    },
    {
     "data": {
      "text/plain": [
       "'Hello world'"
      ]
     },
     "execution_count": 4,
     "metadata": {},
     "output_type": "execute_result"
    },
    {
     "data": {
      "text/plain": [
       "'Hello World'"
      ]
     },
     "execution_count": 4,
     "metadata": {},
     "output_type": "execute_result"
    },
    {
     "data": {
      "text/plain": [
       "'hELLO wORLD'"
      ]
     },
     "execution_count": 4,
     "metadata": {},
     "output_type": "execute_result"
    }
   ],
   "source": [
    "\"hello\".upper()  # 全部转大写\n",
    "\"HELLO\".lower()  # 全部转小写\n",
    "\"hello world\".capitalize()  # 首字母大写\n",
    "\"hello world\".title()  # 标题格式（每个单词首字母大写）\n",
    "\"Hello World\".swapcase()  # 大小写互换"
   ]
  },
  {
   "attachments": {},
   "cell_type": "markdown",
   "metadata": {},
   "source": [
    "### 判断类型"
   ]
  },
  {
   "cell_type": "code",
   "execution_count": 66,
   "metadata": {},
   "outputs": [
    {
     "data": {
      "text/plain": [
       "True"
      ]
     },
     "execution_count": 66,
     "metadata": {},
     "output_type": "execute_result"
    },
    {
     "data": {
      "text/plain": [
       "False"
      ]
     },
     "execution_count": 66,
     "metadata": {},
     "output_type": "execute_result"
    }
   ],
   "source": [
    "# 是否全为字母\n",
    "\"abc\".isalpha()\n",
    "\"abc \".isalpha()"
   ]
  },
  {
   "cell_type": "code",
   "execution_count": 69,
   "metadata": {},
   "outputs": [
    {
     "name": "stdout",
     "output_type": "stream",
     "text": [
      "True True True\n",
      "False True True\n",
      "False True True\n",
      "False False True\n",
      "False False True\n",
      "False False True\n"
     ]
    }
   ],
   "source": [
    "# 判断是否为数字\n",
    "# isdecimal()：仅限阿拉伯数字0~9\n",
    "# isdigit()：阿拉伯数字 0-9 + 上标/下标数字（²³¹⁰）+ 全角数字（１２３）\n",
    "# isnumeric()：isdigit() 的范围 + 分数（½⅓） + 罗马数字（ⅧⅩ） + 汉字数字（四、百）\n",
    "print(\"123\".isdecimal(), \"123\".isdigit(), \"123\".isnumeric())  # True  True  True\n",
    "\n",
    "print(\"①②③\".isdecimal(), \"①②③\".isdigit(), \"①②③\".isnumeric())  # False  True  True\n",
    "print(\"²³¹⁰\".isdecimal(), \"²³¹⁰\".isdigit(), \"²³¹⁰\".isnumeric())  # False  True  True\n",
    "\n",
    "print(\"ⅧⅩ\".isdecimal(), \"ⅧⅩ\".isdigit(), \"ⅧⅩ\".isnumeric())  # False  False  True\n",
    "print(\"四百\".isdecimal(), \"四百\".isdigit(), \"四百\".isnumeric())  # False  False  True\n",
    "print(\"½\".isdecimal(), \"½\".isdigit(), \"½\".isnumeric())  # False  False  True"
   ]
  },
  {
   "cell_type": "code",
   "execution_count": 68,
   "metadata": {},
   "outputs": [
    {
     "data": {
      "text/plain": [
       "True"
      ]
     },
     "execution_count": 68,
     "metadata": {},
     "output_type": "execute_result"
    },
    {
     "data": {
      "text/plain": [
       "True"
      ]
     },
     "execution_count": 68,
     "metadata": {},
     "output_type": "execute_result"
    },
    {
     "data": {
      "text/plain": [
       "False"
      ]
     },
     "execution_count": 68,
     "metadata": {},
     "output_type": "execute_result"
    }
   ],
   "source": [
    "# 是否全为字母或数字\n",
    "\"a123\".isalnum()\n",
    "\"123\".isalnum()\n",
    "\"a123 \".isalnum()"
   ]
  },
  {
   "cell_type": "code",
   "execution_count": 70,
   "metadata": {},
   "outputs": [
    {
     "data": {
      "text/plain": [
       "True"
      ]
     },
     "execution_count": 70,
     "metadata": {},
     "output_type": "execute_result"
    },
    {
     "data": {
      "text/plain": [
       "False"
      ]
     },
     "execution_count": 70,
     "metadata": {},
     "output_type": "execute_result"
    }
   ],
   "source": [
    "# 是否只有空格字符（且至少有一个空格）\n",
    "\" \".isspace()\n",
    "\"\".isspace()"
   ]
  },
  {
   "cell_type": "code",
   "execution_count": null,
   "metadata": {},
   "outputs": [],
   "source": [
    "# 检查大小写\n",
    "'hello'.islower()  # 是否全小写\n",
    "'HELLO'.isupper()  # 是否全大写\n",
    "'Hello World'.istitle()  # 是否符合标题格式"
   ]
  },
  {
   "attachments": {},
   "cell_type": "markdown",
   "metadata": {},
   "source": [
    "### 查找与匹配"
   ]
  },
  {
   "cell_type": "code",
   "execution_count": 21,
   "metadata": {},
   "outputs": [],
   "source": [
    "s = \"hello\""
   ]
  },
  {
   "cell_type": "code",
   "execution_count": 9,
   "metadata": {},
   "outputs": [
    {
     "data": {
      "text/plain": [
       "2"
      ]
     },
     "execution_count": 9,
     "metadata": {},
     "output_type": "execute_result"
    },
    {
     "data": {
      "text/plain": [
       "-1"
      ]
     },
     "execution_count": 9,
     "metadata": {},
     "output_type": "execute_result"
    }
   ],
   "source": [
    "s.find(\"l\")  # 查找子串，返回找到的第一个索引，未找到返回-1\n",
    "s.find(\"l\", 0, 2)  # 可指定查找范围（左闭右开），这里从0到1，即\"he\"，所以没找到"
   ]
  },
  {
   "cell_type": "code",
   "execution_count": 11,
   "metadata": {},
   "outputs": [
    {
     "data": {
      "text/plain": [
       "3"
      ]
     },
     "execution_count": 11,
     "metadata": {},
     "output_type": "execute_result"
    },
    {
     "data": {
      "text/plain": [
       "-1"
      ]
     },
     "execution_count": 11,
     "metadata": {},
     "output_type": "execute_result"
    }
   ],
   "source": [
    "s.rfind(\"l\")  # 从右侧开始查找子串，返回找到的第一个索引，索引依旧是从左侧开始数的\n",
    "s.rfind(\"l\", 0, 2)  # 指定的查找范围也是从左侧开始数的"
   ]
  },
  {
   "cell_type": "code",
   "execution_count": 10,
   "metadata": {},
   "outputs": [
    {
     "ename": "ValueError",
     "evalue": "substring not found",
     "output_type": "error",
     "traceback": [
      "\u001b[1;31m---------------------------------------------------------------------------\u001b[0m",
      "\u001b[1;31mValueError\u001b[0m                                Traceback (most recent call last)",
      "\u001b[1;32m<ipython-input-10-f77422fe0373>\u001b[0m in \u001b[0;36m<module>\u001b[1;34m\u001b[0m\n\u001b[1;32m----> 1\u001b[1;33m \u001b[0ms\u001b[0m\u001b[1;33m.\u001b[0m\u001b[0mindex\u001b[0m\u001b[1;33m(\u001b[0m\u001b[1;34m\"l\"\u001b[0m\u001b[1;33m,\u001b[0m \u001b[1;36m0\u001b[0m\u001b[1;33m,\u001b[0m \u001b[1;36m2\u001b[0m\u001b[1;33m)\u001b[0m\u001b[1;33m\u001b[0m\u001b[0m\n\u001b[0m",
      "\u001b[1;31mValueError\u001b[0m: substring not found"
     ]
    }
   ],
   "source": [
    "s.index(\"l\", 0, 2)  # 同find()，但未找到抛出ValueError"
   ]
  },
  {
   "cell_type": "code",
   "execution_count": 22,
   "metadata": {},
   "outputs": [
    {
     "data": {
      "text/plain": [
       "2"
      ]
     },
     "execution_count": 22,
     "metadata": {},
     "output_type": "execute_result"
    },
    {
     "data": {
      "text/plain": [
       "0"
      ]
     },
     "execution_count": 22,
     "metadata": {},
     "output_type": "execute_result"
    }
   ],
   "source": [
    "s.count(\"l\")  # 统计子串出现的次数\n",
    "s.count(\"l\", 0, 2)  # 也可以指定范围"
   ]
  },
  {
   "cell_type": "code",
   "execution_count": 14,
   "metadata": {},
   "outputs": [
    {
     "data": {
      "text/plain": [
       "True"
      ]
     },
     "execution_count": 14,
     "metadata": {},
     "output_type": "execute_result"
    },
    {
     "data": {
      "text/plain": [
       "False"
      ]
     },
     "execution_count": 14,
     "metadata": {},
     "output_type": "execute_result"
    }
   ],
   "source": [
    "s.startswith(\"he\")  # 判断是否以指定前缀开头\n",
    "s.startswith(\"he\", 1, 5)  # 也可以指定范围"
   ]
  },
  {
   "cell_type": "code",
   "execution_count": 15,
   "metadata": {},
   "outputs": [
    {
     "data": {
      "text/plain": [
       "True"
      ]
     },
     "execution_count": 15,
     "metadata": {},
     "output_type": "execute_result"
    },
    {
     "data": {
      "text/plain": [
       "False"
      ]
     },
     "execution_count": 15,
     "metadata": {},
     "output_type": "execute_result"
    }
   ],
   "source": [
    "s.endswith(\"lo\")  # 判断是否以指定后缀结尾\n",
    "s.endswith(\"lo\", 1, -1)  # 也可以指定范围"
   ]
  },
  {
   "attachments": {},
   "cell_type": "markdown",
   "metadata": {},
   "source": [
    "### 修改与替换"
   ]
  },
  {
   "cell_type": "code",
   "execution_count": 41,
   "metadata": {},
   "outputs": [
    {
     "data": {
      "text/plain": [
       "'he**o\\twor*d'"
      ]
     },
     "execution_count": 41,
     "metadata": {},
     "output_type": "execute_result"
    },
    {
     "data": {
      "text/plain": [
       "'he**o\\tworld'"
      ]
     },
     "execution_count": 41,
     "metadata": {},
     "output_type": "execute_result"
    }
   ],
   "source": [
    "s = 'hello\\tworld'\n",
    "s.replace('l', '*')  # 将某子字符串替换成另一个\n",
    "s.replace('l', '*', 2)  # 若指定了第3个参数count，则限制从左到右总共替换多少个"
   ]
  },
  {
   "cell_type": "code",
   "execution_count": 44,
   "metadata": {},
   "outputs": [
    {
     "data": {
      "text/plain": [
       "'he**!\\tw!r*d'"
      ]
     },
     "execution_count": 44,
     "metadata": {},
     "output_type": "execute_result"
    }
   ],
   "source": [
    "map_table = s.maketrans({'l': '*', 'o': '!'})  # maketrans将依照当前编码创建映射表\n",
    "s.translate(map_table)  # 按预先定义的映射表替换字符（键要为ASCII码）"
   ]
  },
  {
   "cell_type": "code",
   "execution_count": 25,
   "metadata": {},
   "outputs": [
    {
     "data": {
      "text/plain": [
       "'hello   world'"
      ]
     },
     "execution_count": 25,
     "metadata": {},
     "output_type": "execute_result"
    }
   ],
   "source": [
    "s.expandtabs(4)  # 将制表符替换为n个空格"
   ]
  },
  {
   "attachments": {},
   "cell_type": "markdown",
   "metadata": {},
   "source": [
    "### 分割与连接"
   ]
  },
  {
   "cell_type": "code",
   "execution_count": 58,
   "metadata": {},
   "outputs": [],
   "source": [
    "s = \"hello world! hello   python! yes.\\nline2\\n\\nline3\\n\""
   ]
  },
  {
   "cell_type": "code",
   "execution_count": 59,
   "metadata": {},
   "outputs": [
    {
     "data": {
      "text/plain": [
       "['hello', 'world!', 'hello', 'python!', 'yes.', 'line2', 'line3']"
      ]
     },
     "execution_count": 59,
     "metadata": {},
     "output_type": "execute_result"
    },
    {
     "data": {
      "text/plain": [
       "['hello', 'world!', 'hello', '', '', 'python!', 'yes.\\nline2\\n\\nline3\\n']"
      ]
     },
     "execution_count": 59,
     "metadata": {},
     "output_type": "execute_result"
    },
    {
     "data": {
      "text/plain": [
       "['hello world', ' hello   python', ' yes.\\nline2\\n\\nline3\\n']"
      ]
     },
     "execution_count": 59,
     "metadata": {},
     "output_type": "execute_result"
    },
    {
     "data": {
      "text/plain": [
       "['hello world', ' hello   python! yes.\\nline2\\n\\nline3\\n']"
      ]
     },
     "execution_count": 59,
     "metadata": {},
     "output_type": "execute_result"
    }
   ],
   "source": [
    "s.split()  # 从左拆分字符串为一个list，默认按空格和换行符拆（连续的空格或换行符视为一个）\n",
    "s.split(\" \")  # 若手动指定分隔符为空格，则不会将连续的空格视为一个\n",
    "s.split(\"!\")  # 可以指定其他用来拆分的字符\n",
    "s.split(\"!\", 1)  # 还可以指定从左拆分多少次"
   ]
  },
  {
   "cell_type": "code",
   "execution_count": 60,
   "metadata": {},
   "outputs": [
    {
     "data": {
      "text/plain": [
       "['hello', 'world!', 'hello', 'python!', 'yes.', 'line2', 'line3']"
      ]
     },
     "execution_count": 60,
     "metadata": {},
     "output_type": "execute_result"
    },
    {
     "data": {
      "text/plain": [
       "['hello world', ' hello   python', ' yes.\\nline2\\n\\nline3\\n']"
      ]
     },
     "execution_count": 60,
     "metadata": {},
     "output_type": "execute_result"
    },
    {
     "data": {
      "text/plain": [
       "['hello world! hello   python', ' yes.\\nline2\\n\\nline3\\n']"
      ]
     },
     "execution_count": 60,
     "metadata": {},
     "output_type": "execute_result"
    }
   ],
   "source": [
    "# rsplit是split从右向左拆的版本，list顺序仍保持从左向右，只在指定最大拆分数量时与split有区别\n",
    "s.rsplit()\n",
    "s.rsplit(\"!\")\n",
    "s.rsplit(\"!\", 1)"
   ]
  },
  {
   "cell_type": "code",
   "execution_count": 61,
   "metadata": {},
   "outputs": [
    {
     "data": {
      "text/plain": [
       "('hello world', '!', ' hello   python! yes.\\nline2\\n\\nline3\\n')"
      ]
     },
     "execution_count": 61,
     "metadata": {},
     "output_type": "execute_result"
    }
   ],
   "source": [
    "s.partition(\"!\")  # 按分隔符首次出现的位置将字符串拆成一个3元组，包含分隔符之前的部分、分隔符本身，以及分隔符之后的部分"
   ]
  },
  {
   "cell_type": "code",
   "execution_count": 62,
   "metadata": {},
   "outputs": [
    {
     "data": {
      "text/plain": [
       "('hello world! hello   python', '!', ' yes.\\nline2\\n\\nline3\\n')"
      ]
     },
     "execution_count": 62,
     "metadata": {},
     "output_type": "execute_result"
    }
   ],
   "source": [
    "s.rpartition(\"!\")  # partition的从右向左拆版本"
   ]
  },
  {
   "cell_type": "code",
   "execution_count": 63,
   "metadata": {},
   "outputs": [
    {
     "data": {
      "text/plain": [
       "['hello world! hello   python! yes.', 'line2', '', 'line3']"
      ]
     },
     "execution_count": 63,
     "metadata": {},
     "output_type": "execute_result"
    },
    {
     "data": {
      "text/plain": [
       "['hello world! hello   python! yes.\\n', 'line2\\n', '\\n', 'line3\\n']"
      ]
     },
     "execution_count": 63,
     "metadata": {},
     "output_type": "execute_result"
    }
   ],
   "source": [
    "s.splitlines()  # 按换行符来分割成一个list\n",
    "s.splitlines(keepends=True)  # 拆分结果保留换行符"
   ]
  },
  {
   "cell_type": "code",
   "execution_count": 65,
   "metadata": {},
   "outputs": [
    {
     "data": {
      "text/plain": [
       "'a-连接-b-连接-c'"
      ]
     },
     "execution_count": 65,
     "metadata": {},
     "output_type": "execute_result"
    }
   ],
   "source": [
    "# 以一个字符串来对一个可迭代对象进行首尾连接\n",
    "\"-连接-\".join([\"a\", \"b\", \"c\"])"
   ]
  },
  {
   "attachments": {},
   "cell_type": "markdown",
   "metadata": {},
   "source": [
    "### 字符串格式化"
   ]
  },
  {
   "cell_type": "code",
   "execution_count": 72,
   "metadata": {},
   "outputs": [
    {
     "data": {
      "text/plain": [
       "'00042'"
      ]
     },
     "execution_count": 72,
     "metadata": {},
     "output_type": "execute_result"
    }
   ],
   "source": [
    "\"42\".zfill(5)  # 左侧补零到指定长度"
   ]
  },
  {
   "cell_type": "code",
   "execution_count": 74,
   "metadata": {},
   "outputs": [
    {
     "data": {
      "text/plain": [
       "'       Hello        '"
      ]
     },
     "execution_count": 74,
     "metadata": {},
     "output_type": "execute_result"
    },
    {
     "data": {
      "text/plain": [
       "'*******Hello********'"
      ]
     },
     "execution_count": 74,
     "metadata": {},
     "output_type": "execute_result"
    }
   ],
   "source": [
    "\"Hello\".center(20)  # 将字符串居中且在两侧补空格到指定长度\n",
    "\"Hello\".center(20, \"*\")  # 可以指定补长所用字符"
   ]
  },
  {
   "cell_type": "code",
   "execution_count": 76,
   "metadata": {},
   "outputs": [
    {
     "data": {
      "text/plain": [
       "'Hello               '"
      ]
     },
     "execution_count": 76,
     "metadata": {},
     "output_type": "execute_result"
    },
    {
     "data": {
      "text/plain": [
       "'Hello***************'"
      ]
     },
     "execution_count": 76,
     "metadata": {},
     "output_type": "execute_result"
    }
   ],
   "source": [
    "\"Hello\".ljust(20)  # 将字符串左对齐且在右侧补空格到指定长度\n",
    "\"Hello\".ljust(20, \"*\")  # 可以指定补长所用字符"
   ]
  },
  {
   "cell_type": "code",
   "execution_count": 77,
   "metadata": {},
   "outputs": [
    {
     "data": {
      "text/plain": [
       "'               Hello'"
      ]
     },
     "execution_count": 77,
     "metadata": {},
     "output_type": "execute_result"
    },
    {
     "data": {
      "text/plain": [
       "'***************Hello'"
      ]
     },
     "execution_count": 77,
     "metadata": {},
     "output_type": "execute_result"
    }
   ],
   "source": [
    "\"Hello\".rjust(20)  # 将字符串右对齐且在左侧补空格到指定长度\n",
    "\"Hello\".rjust(20, \"*\")  # 可以指定补长所用字符"
   ]
  },
  {
   "attachments": {},
   "cell_type": "markdown",
   "metadata": {},
   "source": [
    "### 编码与解码"
   ]
  },
  {
   "cell_type": "code",
   "execution_count": 78,
   "metadata": {},
   "outputs": [
    {
     "data": {
      "text/plain": [
       "b'hello'"
      ]
     },
     "execution_count": 78,
     "metadata": {},
     "output_type": "execute_result"
    }
   ],
   "source": [
    "b = 'hello'.encode(encoding=\"utf-8\")  # 编码字符串为字节\n",
    "b"
   ]
  },
  {
   "cell_type": "code",
   "execution_count": 79,
   "metadata": {},
   "outputs": [
    {
     "data": {
      "text/plain": [
       "'hello'"
      ]
     },
     "execution_count": 79,
     "metadata": {},
     "output_type": "execute_result"
    }
   ],
   "source": [
    "s = b.decode(encoding=\"utf-8\")  # 解码字节为字符串\n",
    "s"
   ]
  }
 ],
 "metadata": {
  "kernelspec": {
   "display_name": "Python 3",
   "language": "python",
   "name": "python3"
  },
  "language_info": {
   "codemirror_mode": {
    "name": "ipython",
    "version": 3
   },
   "file_extension": ".py",
   "mimetype": "text/x-python",
   "name": "python",
   "nbconvert_exporter": "python",
   "pygments_lexer": "ipython3",
   "version": "3.5.6"
  }
 },
 "nbformat": 4,
 "nbformat_minor": 2
}
