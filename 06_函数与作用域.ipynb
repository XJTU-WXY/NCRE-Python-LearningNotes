{
 "cells": [
  {
   "cell_type": "code",
   "execution_count": 1,
   "metadata": {},
   "outputs": [],
   "source": [
    "from IPython.core.interactiveshell import InteractiveShell\n",
    "InteractiveShell.ast_node_interactivity = \"all\""
   ]
  },
  {
   "attachments": {},
   "cell_type": "markdown",
   "metadata": {},
   "source": [
    "# 函数"
   ]
  },
  {
   "attachments": {},
   "cell_type": "markdown",
   "metadata": {},
   "source": [
    "## 变量作用域\n",
    "函数内部定义的变量、函数的形参都是局部变量，只在函数**执行时**被创建，执行完毕后销毁。\n",
    "\n",
    "Python 解析变量时，遵循 **LEGB 规则** 来决定变量的作用域。这四个字母代表四种作用域，从 **局部（Local）** 到 **全局（Global）** 依次查找变量的定义。\n",
    "- **L（Local，局部作用域）：** 函数内部定义的变量或函数参数。\n",
    "- **E（Enclosing，嵌套作用域）：** 外层函数（闭包）中定义的变量。\n",
    "- **G（Global，全局作用域）：** 整个脚本或模块级别的变量（不在任何函数内部定义的变量）。\n",
    "- **B（Built-in，内置作用域）：** Python 语言内置的变量，比如 len()、print()、sum() 等。\n",
    "### 取变量值\n",
    "当 Python 解析一个变量时，会按照 LEGB 的顺序**依次查找**，找到匹配的变量**为止**，如果所有作用域都找不到该变量，就会抛出` NameError `异常。"
   ]
  },
  {
   "cell_type": "code",
   "execution_count": null,
   "metadata": {},
   "outputs": [
    {
     "name": "stdout",
     "output_type": "stream",
     "text": [
      "Local a Enclosing b Global c\n",
      "Enclosing a Enclosing b Global c\n",
      "Global a Global b Global c\n"
     ]
    }
   ],
   "source": [
    "a = \"Global a\"  # Global作用域的变量\n",
    "b = \"Global b\"  # Global作用域的变量\n",
    "c = \"Global c\"  # Global作用域的变量\n",
    "\n",
    "def func_outer():\n",
    "    a = \"Enclosing a\"  # Enclosing作用域的变量\n",
    "    b = \"Enclosing b\"  # Enclosing作用域的变量\n",
    "    def func_inner():\n",
    "        a = \"Local a\"  # Local作用域的变量\n",
    "\n",
    "        # 从func_inner调用a,b,c时，a直接在Local中找到；b在Local中未找到，向上层Enclosing找，找到了；c在Local和Enclosing中均未找到，继续向上找，在Global中找到了\n",
    "        print(a, b, c) \n",
    "    \n",
    "    func_inner()\n",
    "    print(a, b, c)\n",
    "\n",
    "func_outer()\n",
    "print(a, b, c)"
   ]
  },
  {
   "attachments": {},
   "cell_type": "markdown",
   "metadata": {},
   "source": [
    "### 修改变量\n",
    "Python 的赋值语句（=）默认不会在内层作用域中修改外层变量，而是创建新的内层局部变量："
   ]
  },
  {
   "cell_type": "code",
   "execution_count": null,
   "metadata": {},
   "outputs": [
    {
     "name": "stdout",
     "output_type": "stream",
     "text": [
      "函数内 x: 20\n",
      "函数外 x: 10\n"
     ]
    }
   ],
   "source": [
    "x = 10  # 全局变量\n",
    "\n",
    "def modify_x():\n",
    "    x = 20  # 创建了局部变量 x\n",
    "    print(\"函数内 x: {}\".format(x))  # ，由于局部作用域存在 x，Python 不会继续向全局作用域查找 x\n",
    "\n",
    "modify_x()\n",
    "print(\"函数外 x: {}\".format(x))  # 仍然是 10"
   ]
  },
  {
   "cell_type": "code",
   "execution_count": 8,
   "metadata": {},
   "outputs": [
    {
     "name": "stdout",
     "output_type": "stream",
     "text": [
      "内部 x: 20\n",
      "外部 x: 10\n"
     ]
    }
   ],
   "source": [
    "def outer():\n",
    "    x = 10  # 外层函数的局部变量\n",
    "\n",
    "    def inner():\n",
    "        x = 20  # 这里创建了一个新的局部变量（不会修改外层 x）\n",
    "        print(\"内部 x: {}\".format(x))\n",
    "\n",
    "    inner()\n",
    "    print(\"外部 x: {}\".format(x))  # 仍然是 10\n",
    "\n",
    "outer()"
   ]
  },
  {
   "attachments": {},
   "cell_type": "markdown",
   "metadata": {},
   "source": [
    "在没有`global`或`nonlocal`指定的情况下，内层作用域禁止修改外层变量。以下情况会被解释器认为是跨域修改变量，会报`UnboundLocalError`，而不是创建新的内层局部变量：\n",
    "- 赋值语句（`=`）左右两侧都有该变量名，如 `a = a + 1`\n",
    "- 对该变量名使用任何赋值运算符（如 `a += 1`），即使是list也不行。"
   ]
  },
  {
   "cell_type": "code",
   "execution_count": 3,
   "metadata": {},
   "outputs": [
    {
     "ename": "UnboundLocalError",
     "evalue": "local variable 'a' referenced before assignment",
     "output_type": "error",
     "traceback": [
      "\u001b[1;31m---------------------------------------------------------------------------\u001b[0m",
      "\u001b[1;31mUnboundLocalError\u001b[0m                         Traceback (most recent call last)",
      "\u001b[1;32m<ipython-input-3-e33f66d9078b>\u001b[0m in \u001b[0;36m<module>\u001b[1;34m\u001b[0m\n\u001b[0;32m      3\u001b[0m     \u001b[0mprint\u001b[0m\u001b[1;33m(\u001b[0m\u001b[0ma\u001b[0m\u001b[1;33m)\u001b[0m\u001b[1;33m\u001b[0m\u001b[0m\n\u001b[0;32m      4\u001b[0m     \u001b[0ma\u001b[0m \u001b[1;33m=\u001b[0m \u001b[0ma\u001b[0m \u001b[1;33m+\u001b[0m \u001b[1;36m1\u001b[0m\u001b[1;33m\u001b[0m\u001b[0m\n\u001b[1;32m----> 5\u001b[1;33m \u001b[0mfunc\u001b[0m\u001b[1;33m(\u001b[0m\u001b[1;33m)\u001b[0m\u001b[1;33m\u001b[0m\u001b[0m\n\u001b[0m",
      "\u001b[1;32m<ipython-input-3-e33f66d9078b>\u001b[0m in \u001b[0;36mfunc\u001b[1;34m()\u001b[0m\n\u001b[0;32m      1\u001b[0m \u001b[0ma\u001b[0m \u001b[1;33m=\u001b[0m \u001b[1;36m1\u001b[0m\u001b[1;33m\u001b[0m\u001b[0m\n\u001b[0;32m      2\u001b[0m \u001b[1;32mdef\u001b[0m \u001b[0mfunc\u001b[0m\u001b[1;33m(\u001b[0m\u001b[1;33m)\u001b[0m\u001b[1;33m:\u001b[0m\u001b[1;33m\u001b[0m\u001b[0m\n\u001b[1;32m----> 3\u001b[1;33m     \u001b[0mprint\u001b[0m\u001b[1;33m(\u001b[0m\u001b[0ma\u001b[0m\u001b[1;33m)\u001b[0m\u001b[1;33m\u001b[0m\u001b[0m\n\u001b[0m\u001b[0;32m      4\u001b[0m     \u001b[0ma\u001b[0m \u001b[1;33m=\u001b[0m \u001b[0ma\u001b[0m \u001b[1;33m+\u001b[0m \u001b[1;36m1\u001b[0m\u001b[1;33m\u001b[0m\u001b[0m\n\u001b[0;32m      5\u001b[0m \u001b[0mfunc\u001b[0m\u001b[1;33m(\u001b[0m\u001b[1;33m)\u001b[0m\u001b[1;33m\u001b[0m\u001b[0m\n",
      "\u001b[1;31mUnboundLocalError\u001b[0m: local variable 'a' referenced before assignment"
     ]
    }
   ],
   "source": [
    "a = 1\n",
    "def func():\n",
    "    print(a)\n",
    "    a = a + 1\n",
    "func()"
   ]
  },
  {
   "cell_type": "code",
   "execution_count": 4,
   "metadata": {},
   "outputs": [
    {
     "ename": "UnboundLocalError",
     "evalue": "local variable 'a' referenced before assignment",
     "output_type": "error",
     "traceback": [
      "\u001b[1;31m---------------------------------------------------------------------------\u001b[0m",
      "\u001b[1;31mUnboundLocalError\u001b[0m                         Traceback (most recent call last)",
      "\u001b[1;32m<ipython-input-4-3e5c3e92dc8c>\u001b[0m in \u001b[0;36m<module>\u001b[1;34m\u001b[0m\n\u001b[0;32m      2\u001b[0m \u001b[1;32mdef\u001b[0m \u001b[0mfunc\u001b[0m\u001b[1;33m(\u001b[0m\u001b[1;33m)\u001b[0m\u001b[1;33m:\u001b[0m\u001b[1;33m\u001b[0m\u001b[0m\n\u001b[0;32m      3\u001b[0m     \u001b[0ma\u001b[0m \u001b[1;33m+=\u001b[0m \u001b[1;33m[\u001b[0m\u001b[1;36m2\u001b[0m\u001b[1;33m]\u001b[0m\u001b[1;33m\u001b[0m\u001b[0m\n\u001b[1;32m----> 4\u001b[1;33m \u001b[0mfunc\u001b[0m\u001b[1;33m(\u001b[0m\u001b[1;33m)\u001b[0m\u001b[1;33m\u001b[0m\u001b[0m\n\u001b[0m",
      "\u001b[1;32m<ipython-input-4-3e5c3e92dc8c>\u001b[0m in \u001b[0;36mfunc\u001b[1;34m()\u001b[0m\n\u001b[0;32m      1\u001b[0m \u001b[0ma\u001b[0m \u001b[1;33m=\u001b[0m \u001b[1;33m[\u001b[0m\u001b[1;36m1\u001b[0m\u001b[1;33m]\u001b[0m\u001b[1;33m\u001b[0m\u001b[0m\n\u001b[0;32m      2\u001b[0m \u001b[1;32mdef\u001b[0m \u001b[0mfunc\u001b[0m\u001b[1;33m(\u001b[0m\u001b[1;33m)\u001b[0m\u001b[1;33m:\u001b[0m\u001b[1;33m\u001b[0m\u001b[0m\n\u001b[1;32m----> 3\u001b[1;33m     \u001b[0ma\u001b[0m \u001b[1;33m+=\u001b[0m \u001b[1;33m[\u001b[0m\u001b[1;36m2\u001b[0m\u001b[1;33m]\u001b[0m\u001b[1;33m\u001b[0m\u001b[0m\n\u001b[0m\u001b[0;32m      4\u001b[0m \u001b[0mfunc\u001b[0m\u001b[1;33m(\u001b[0m\u001b[1;33m)\u001b[0m\u001b[1;33m\u001b[0m\u001b[0m\n",
      "\u001b[1;31mUnboundLocalError\u001b[0m: local variable 'a' referenced before assignment"
     ]
    }
   ],
   "source": [
    "a = [1]\n",
    "def func():\n",
    "    a += [2]  # 即使list的 += 实际上会调用.extend()实现就地修改，也会被解释器认为是在跨域修改变量。\n",
    "func()"
   ]
  },
  {
   "attachments": {},
   "cell_type": "markdown",
   "metadata": {},
   "source": [
    "在没有`global`或`nonlocal`指定的情况下，只在调用可变对象自身的就地修改方法时，才可以修改外层变量"
   ]
  },
  {
   "cell_type": "code",
   "execution_count": 5,
   "metadata": {},
   "outputs": [
    {
     "data": {
      "text/plain": [
       "[1, 2]"
      ]
     },
     "execution_count": 5,
     "metadata": {},
     "output_type": "execute_result"
    }
   ],
   "source": [
    "a = [1]\n",
    "def func():\n",
    "    a.append(2)\n",
    "func()\n",
    "a"
   ]
  },
  {
   "attachments": {},
   "cell_type": "markdown",
   "metadata": {},
   "source": [
    "指定了`global`或`nonlocal`后，内层作用域中的该变量名等同于外层的变量，可以用赋值语句和赋值运算符直接对该外层变量进行修改。"
   ]
  },
  {
   "cell_type": "code",
   "execution_count": 8,
   "metadata": {},
   "outputs": [
    {
     "name": "stdout",
     "output_type": "stream",
     "text": [
      "global: 1\n",
      "func内: 100\n",
      "global: 100\n"
     ]
    }
   ],
   "source": [
    "num = 1\n",
    "def func():\n",
    "\tglobal num\n",
    "\tnum = 100\n",
    "\tprint(\"func内:\", num)\n",
    "print(\"global:\", num)\n",
    "func()\n",
    "print(\"global:\", num)"
   ]
  },
  {
   "cell_type": "code",
   "execution_count": 16,
   "metadata": {},
   "outputs": [
    {
     "name": "stdout",
     "output_type": "stream",
     "text": [
      "global: 1\n",
      "inner 100\n",
      "outer 100\n",
      "global: 1\n"
     ]
    }
   ],
   "source": [
    "num = 1\n",
    "def outer():\n",
    "    num = 10\n",
    "    def inner():\n",
    "        nonlocal num   # nonlocal关键字声明\n",
    "        num = 100\n",
    "        print(\"inner\", num)\n",
    "    inner()\n",
    "    print(\"outer\", num)\n",
    "\n",
    "print(\"global:\", num)\n",
    "outer()\n",
    "print(\"global:\", num)"
   ]
  },
  {
   "attachments": {},
   "cell_type": "markdown",
   "metadata": {},
   "source": [
    "## 参数传递\n",
    "Python 的形参实质上是一个在函数执行时被创建且**指向传递进来的实参对象**的**局部变量**。\n",
    "- 任何函数内对形参的**重新赋值**（可以是显式的`=`赋值语句，也可以是不可变对象的赋值运算符如`+=`）都会使该形参指向该赋值后的对象，从而与最开始的实参解绑。"
   ]
  },
  {
   "cell_type": "code",
   "execution_count": null,
   "metadata": {},
   "outputs": [
    {
     "name": "stdout",
     "output_type": "stream",
     "text": [
      "函数执行前全局变量a的值 Hello\n",
      "全局变量a的id 2435860184240\n",
      "函数接收到的a的id 2435860184240\n",
      "函数内修改后的a的id 2435860182768\n",
      "函数执行后全局变量的a的值 Hello\n"
     ]
    }
   ],
   "source": [
    "# 传不可变对象\n",
    "def func(a):\n",
    "    print(\"函数接收到的a的id\", id(a))\n",
    "    a += \"World\"  # str是不可变类型，没有实现__iadd__魔术方法，+=运算符实际上等同于a = a + \"World\"\n",
    "    print(\"函数内修改后的a的id\", id(a))  # 因为a + \"World\"创建了一个新对象，赋引用给a后使a与实参解绑并重新绑定。\n",
    "\n",
    "a = \"Hello\"\n",
    "print(\"函数执行前全局变量a的值\", a)\n",
    "print(\"全局变量a的id\", id(a))\n",
    "func(a)\n",
    "print(\"函数执行后全局变量的a的值\", a)"
   ]
  },
  {
   "cell_type": "code",
   "execution_count": null,
   "metadata": {},
   "outputs": [
    {
     "name": "stdout",
     "output_type": "stream",
     "text": [
      "函数执行前全局变量a的值 ['Hello']\n",
      "全局变量a的id 2435860190912\n",
      "函数接收到的a的id 2435860190912\n",
      "函数内修改后的a的id 2435860379968\n",
      "函数执行后全局变量的a的值 ['Hello']\n"
     ]
    }
   ],
   "source": [
    "# 传可变对象\n",
    "def func(a):\n",
    "    print(\"函数接收到的a的id\", id(a))\n",
    "    a = a + [\"World\"]  # 虽然list是可变类型，但这里没有使用就地修改方法而是创建了新对象后赋引用，a依然与实参解绑并重新绑定。\n",
    "    print(\"函数内修改后的a的id\", id(a))\n",
    "\n",
    "a = [\"Hello\"]\n",
    "print(\"函数执行前全局变量a的值\", a)\n",
    "print(\"全局变量a的id\", id(a))\n",
    "func(a)\n",
    "print(\"函数执行后全局变量的a的值\", a)"
   ]
  },
  {
   "attachments": {},
   "cell_type": "markdown",
   "metadata": {},
   "source": [
    "- 如果实参是一个可变对象，那么就可以通过形参调用其内部方法实现**就地修改**，修改会反映到实参原本的对象上。"
   ]
  },
  {
   "cell_type": "code",
   "execution_count": null,
   "metadata": {},
   "outputs": [
    {
     "name": "stdout",
     "output_type": "stream",
     "text": [
      "函数执行前全局变量a的值 ['Hello']\n",
      "全局变量a的id 2435860376448\n",
      "函数接收到的a的id 2435860376448\n",
      "函数内修改后的a的id 2435860376448\n",
      "函数执行后全局变量的a的值 ['Hello', 'World']\n"
     ]
    }
   ],
   "source": [
    "# 传可变对象\n",
    "def func(a):\n",
    "    print(\"函数接收到的a的id\", id(a))\n",
    "    a.append(\"World\")  # 使用了可变对象的就地修改方法，没有进行重新赋值\n",
    "    print(\"函数内修改后的a的id\", id(a))\n",
    "\n",
    "a = [\"Hello\"]\n",
    "print(\"函数执行前全局变量a的值\", a)\n",
    "print(\"全局变量a的id\", id(a))\n",
    "func(a)\n",
    "print(\"函数执行后全局变量的a的值\", a)"
   ]
  }
 ],
 "metadata": {
  "kernelspec": {
   "display_name": "Python 3",
   "language": "python",
   "name": "python3"
  },
  "language_info": {
   "codemirror_mode": {
    "name": "ipython",
    "version": 3
   },
   "file_extension": ".py",
   "mimetype": "text/x-python",
   "name": "python",
   "nbconvert_exporter": "python",
   "pygments_lexer": "ipython3",
   "version": "3.5.6"
  },
  "orig_nbformat": 4
 },
 "nbformat": 4,
 "nbformat_minor": 2
}
