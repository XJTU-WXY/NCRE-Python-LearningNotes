{
 "cells": [
  {
   "cell_type": "markdown",
   "metadata": {},
   "source": [
    "# jieba"
   ]
  },
  {
   "cell_type": "code",
   "execution_count": 2,
   "metadata": {},
   "outputs": [],
   "source": [
    "import jieba\n",
    "txt = \"我来到北京清华大学\""
   ]
  },
  {
   "cell_type": "markdown",
   "metadata": {},
   "source": [
    "### 一、分词"
   ]
  },
  {
   "cell_type": "code",
   "execution_count": 10,
   "metadata": {},
   "outputs": [
    {
     "data": {
      "text/plain": [
       "['我', '来到', '北京', '清华大学']"
      ]
     },
     "execution_count": 10,
     "metadata": {},
     "output_type": "execute_result"
    }
   ],
   "source": [
    "jieba.lcut(txt)  # 精确模式"
   ]
  },
  {
   "cell_type": "code",
   "execution_count": 11,
   "metadata": {},
   "outputs": [
    {
     "data": {
      "text/plain": [
       "['我', '来到', '北京', '清华', '清华大学', '华大', '大学']"
      ]
     },
     "execution_count": 11,
     "metadata": {},
     "output_type": "execute_result"
    }
   ],
   "source": [
    "jieba.lcut(txt, cut_all=True)  # 全模式"
   ]
  },
  {
   "cell_type": "code",
   "execution_count": 12,
   "metadata": {},
   "outputs": [
    {
     "data": {
      "text/plain": [
       "['我', '来到', '北京', '清华', '华大', '大学', '清华大学']"
      ]
     },
     "execution_count": 12,
     "metadata": {},
     "output_type": "execute_result"
    }
   ],
   "source": [
    "jieba.lcut_for_search(txt)  # 搜索引擎模式"
   ]
  },
  {
   "cell_type": "markdown",
   "metadata": {},
   "source": [
    "### 二、调整词典"
   ]
  },
  {
   "cell_type": "code",
   "execution_count": 13,
   "metadata": {},
   "outputs": [
    {
     "data": {
      "text/plain": [
       "['我来', '来到', '北京', '清华', '清华大学', '华大', '大学']"
      ]
     },
     "execution_count": 13,
     "metadata": {},
     "output_type": "execute_result"
    }
   ],
   "source": [
    "jieba.add_word(\"我来\")\n",
    "jieba.lcut(txt, cut_all=True)"
   ]
  },
  {
   "cell_type": "code",
   "execution_count": 14,
   "metadata": {},
   "outputs": [
    {
     "data": {
      "text/plain": [
       "['我来', '来到', '北京', '清华大学', '华大', '大学']"
      ]
     },
     "execution_count": 14,
     "metadata": {},
     "output_type": "execute_result"
    }
   ],
   "source": [
    "jieba.del_word(\"清华\")\n",
    "jieba.lcut(txt, cut_all=True)"
   ]
  },
  {
   "cell_type": "markdown",
   "metadata": {},
   "source": [
    "### 三、计算词频"
   ]
  },
  {
   "cell_type": "code",
   "execution_count": 5,
   "metadata": {},
   "outputs": [],
   "source": [
    "txt = \"\"\"\n",
    "全国计算机等级考试于2018年9月首次增设Python语言考试科目。\n",
    "相信大家选择了Python，对于Python的强大和强有力的发展趋势不用我在这里赘述。 \n",
    "想提醒大家的是，Python二级作为一门新设的科目，到目前为止考试难度并不是很高，只要用心准备还是很容易通过并且取得一个好成绩的。\"\n",
    "\"\"\""
   ]
  },
  {
   "cell_type": "code",
   "execution_count": 6,
   "metadata": {},
   "outputs": [
    {
     "data": {
      "text/plain": [
       "{'\\n': 4,\n",
       " '全国': 1,\n",
       " '计算机': 1,\n",
       " '等级': 1,\n",
       " '考试': 3,\n",
       " '于': 1,\n",
       " '2018': 1,\n",
       " '年': 1,\n",
       " '9': 1,\n",
       " '月': 1,\n",
       " '首次': 1,\n",
       " '增设': 1,\n",
       " 'Python': 4,\n",
       " '语言': 1,\n",
       " '科目': 2,\n",
       " '。': 3,\n",
       " '相信': 1,\n",
       " '大家': 2,\n",
       " '选择': 1,\n",
       " '了': 1,\n",
       " '，': 4,\n",
       " '对于': 1,\n",
       " '的': 5,\n",
       " '强大': 1,\n",
       " '和': 1,\n",
       " '强有力': 1,\n",
       " '发展趋势': 1,\n",
       " '不用': 1,\n",
       " '我': 1,\n",
       " '在': 1,\n",
       " '这里': 1,\n",
       " '赘述': 1,\n",
       " ' ': 1,\n",
       " '想': 1,\n",
       " '提醒': 1,\n",
       " '是': 1,\n",
       " '二级': 1,\n",
       " '作为': 1,\n",
       " '一门': 1,\n",
       " '新设': 1,\n",
       " '到': 1,\n",
       " '目前为止': 1,\n",
       " '难度': 1,\n",
       " '并': 1,\n",
       " '不是': 1,\n",
       " '很': 2,\n",
       " '高': 1,\n",
       " '只要': 1,\n",
       " '用心': 1,\n",
       " '准备': 1,\n",
       " '还是': 1,\n",
       " '容易': 1,\n",
       " '通过': 1,\n",
       " '并且': 1,\n",
       " '取得': 1,\n",
       " '一个': 1,\n",
       " '好': 1,\n",
       " '成绩': 1,\n",
       " '\"': 1}"
      ]
     },
     "execution_count": 6,
     "metadata": {},
     "output_type": "execute_result"
    }
   ],
   "source": [
    "def count_words(words):\n",
    "    result = {}\n",
    "    for word in words:\n",
    "        result[word] = result.get(word, 0) + 1\n",
    "    return result\n",
    "\n",
    "count_words(jieba.lcut(txt))"
   ]
  },
  {
   "cell_type": "code",
   "execution_count": 7,
   "metadata": {},
   "outputs": [
    {
     "data": {
      "text/plain": [
       "{'\\n': 4,\n",
       " '全国': 1,\n",
       " '计算机': 1,\n",
       " '等级': 1,\n",
       " '考试': 3,\n",
       " '于': 1,\n",
       " '2018': 1,\n",
       " '年': 1,\n",
       " '9': 1,\n",
       " '月': 1,\n",
       " '首次': 1,\n",
       " '增设': 1,\n",
       " 'Python': 4,\n",
       " '语言': 1,\n",
       " '科目': 2,\n",
       " '。': 3,\n",
       " '相信': 1,\n",
       " '大家': 2,\n",
       " '选择': 1,\n",
       " '了': 1,\n",
       " '，': 4,\n",
       " '对于': 1,\n",
       " '的': 5,\n",
       " '强大': 1,\n",
       " '和': 1,\n",
       " '强有力': 1,\n",
       " '发展趋势': 1,\n",
       " '不用': 1,\n",
       " '我': 1,\n",
       " '在': 1,\n",
       " '这里': 1,\n",
       " '赘述': 1,\n",
       " ' ': 1,\n",
       " '想': 1,\n",
       " '提醒': 1,\n",
       " '是': 1,\n",
       " '二级': 1,\n",
       " '作为': 1,\n",
       " '一门': 1,\n",
       " '新设': 1,\n",
       " '到': 1,\n",
       " '目前为止': 1,\n",
       " '难度': 1,\n",
       " '并': 1,\n",
       " '不是': 1,\n",
       " '很': 2,\n",
       " '高': 1,\n",
       " '只要': 1,\n",
       " '用心': 1,\n",
       " '准备': 1,\n",
       " '还是': 1,\n",
       " '容易': 1,\n",
       " '通过': 1,\n",
       " '并且': 1,\n",
       " '取得': 1,\n",
       " '一个': 1,\n",
       " '好': 1,\n",
       " '成绩': 1,\n",
       " '\"': 1}"
      ]
     },
     "execution_count": 7,
     "metadata": {},
     "output_type": "execute_result"
    }
   ],
   "source": [
    "from collections import Counter\n",
    "\n",
    "dict(Counter(jieba.lcut(txt)))"
   ]
  }
 ],
 "metadata": {
  "kernelspec": {
   "display_name": "Python 3",
   "language": "python",
   "name": "python3"
  },
  "language_info": {
   "codemirror_mode": {
    "name": "ipython",
    "version": 3
   },
   "file_extension": ".py",
   "mimetype": "text/x-python",
   "name": "python",
   "nbconvert_exporter": "python",
   "pygments_lexer": "ipython3",
   "version": "3.9.21"
  }
 },
 "nbformat": 4,
 "nbformat_minor": 2
}
