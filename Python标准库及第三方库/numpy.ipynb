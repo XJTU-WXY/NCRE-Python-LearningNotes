{
 "cells": [
  {
   "attachments": {},
   "cell_type": "markdown",
   "metadata": {},
   "source": [
    "# NumPy\n",
    "NumPy 对象是一个 **同类型** 多维数组（ndarray），其维度称为 **轴（axes）** ，每轴有多少个元素称为 **该轴的长度** 为多少。\n",
    "- **ndarray.ndim：** 轴数。\n",
    "- **ndarray.shape：** 一个元组，表示 ndarray 在每个轴上的长度。\n",
    "- **ndarray.size：** 该 ndarray 里总共有多少个元素，等于 shape 中所有轴长度的乘积。\n",
    "- **ndarray.dtype：** 一个 ndarray 的所有元素必须是同类型的，可以指定标准 Python 类型或 NumPy 自己的类型。"
   ]
  },
  {
   "cell_type": "code",
   "execution_count": 3,
   "metadata": {},
   "outputs": [],
   "source": [
    "from IPython.core.interactiveshell import InteractiveShell\n",
    "InteractiveShell.ast_node_interactivity = \"all\"\n",
    "import numpy as np"
   ]
  },
  {
   "attachments": {},
   "cell_type": "markdown",
   "metadata": {},
   "source": [
    "### 一、ndarray 的创建"
   ]
  },
  {
   "attachments": {},
   "cell_type": "markdown",
   "metadata": {},
   "source": [
    "#### 1. 将 Python 序列转换为 NumPy ndarray"
   ]
  },
  {
   "cell_type": "code",
   "execution_count": 28,
   "metadata": {},
   "outputs": [
    {
     "name": "stdout",
     "output_type": "stream",
     "text": [
      "[1 2 3 4]\n",
      "Shape: (4,) \n",
      "\n",
      "[[1 2]\n",
      " [3 4]]\n",
      "Shape: (2, 2) \n",
      "\n",
      "[[[1 2]\n",
      "  [3 4]]\n",
      "\n",
      " [[5 6]\n",
      "  [7 8]]]\n",
      "Shape: (2, 2, 2) \n",
      "\n"
     ]
    }
   ],
   "source": [
    "array1d = np.array([1, 2, 3, 4])\n",
    "print(array1d)\n",
    "print(\"Shape:\", array1d.shape, \"\\n\")\n",
    "\n",
    "array2d = np.array([[1, 2], [3, 4]])\n",
    "print(array2d)\n",
    "print(\"Shape:\", array2d.shape, \"\\n\")\n",
    "\n",
    "array3d = np.array([[[1, 2], [3, 4]], [[5, 6], [7, 8]]])\n",
    "print(array3d)\n",
    "print(\"Shape:\", array3d.shape, \"\\n\")"
   ]
  },
  {
   "cell_type": "code",
   "execution_count": null,
   "metadata": {},
   "outputs": [
    {
     "data": {
      "text/plain": [
       "array([[1.+0.j, 2.+0.j],\n",
       "       [3.+0.j, 4.+0.j]])"
      ]
     },
     "execution_count": 27,
     "metadata": {},
     "output_type": "execute_result"
    }
   ],
   "source": [
    "np.array([[1, 2], [3, 4]], dtype=complex)  # array 类型可以在创建期间明确指定"
   ]
  },
  {
   "attachments": {},
   "cell_type": "markdown",
   "metadata": {},
   "source": [
    "#### 2. 使用 NumPy ndarray 创建函数"
   ]
  },
  {
   "attachments": {},
   "cell_type": "markdown",
   "metadata": {},
   "source": [
    "##### 一维 ndarray 创建函数"
   ]
  },
  {
   "cell_type": "code",
   "execution_count": 68,
   "metadata": {},
   "outputs": [
    {
     "data": {
      "text/plain": [
       "array([0, 1, 2, 3, 4, 5, 6, 7, 8, 9])"
      ]
     },
     "execution_count": 68,
     "metadata": {},
     "output_type": "execute_result"
    },
    {
     "data": {
      "text/plain": [
       "array([2, 3, 4, 5, 6, 7, 8, 9])"
      ]
     },
     "execution_count": 68,
     "metadata": {},
     "output_type": "execute_result"
    },
    {
     "data": {
      "text/plain": [
       "array([2. , 2.1, 2.2, 2.3, 2.4, 2.5, 2.6, 2.7, 2.8, 2.9, 3. , 3.1, 3.2,\n",
       "       3.3, 3.4, 3.5, 3.6, 3.7, 3.8, 3.9, 4. , 4.1, 4.2, 4.3, 4.4, 4.5,\n",
       "       4.6, 4.7, 4.8, 4.9, 5. , 5.1, 5.2, 5.3, 5.4, 5.5, 5.6, 5.7, 5.8,\n",
       "       5.9, 6. , 6.1, 6.2, 6.3, 6.4, 6.5, 6.6, 6.7, 6.8, 6.9, 7. , 7.1,\n",
       "       7.2, 7.3, 7.4, 7.5, 7.6, 7.7, 7.8, 7.9, 8. , 8.1, 8.2, 8.3, 8.4,\n",
       "       8.5, 8.6, 8.7, 8.8, 8.9, 9. , 9.1, 9.2, 9.3, 9.4, 9.5, 9.6, 9.7,\n",
       "       9.8, 9.9])"
      ]
     },
     "execution_count": 68,
     "metadata": {},
     "output_type": "execute_result"
    }
   ],
   "source": [
    "start, stop, step = 2, 10, 0.1\n",
    "\n",
    "np.arange(stop)\n",
    "np.arange(start, stop)\n",
    "np.arange(start, stop, step)  # 类似于 Python range()"
   ]
  },
  {
   "cell_type": "code",
   "execution_count": null,
   "metadata": {},
   "outputs": [
    {
     "data": {
      "text/plain": [
       "array([1. , 1.6, 2.2, 2.8, 3.4, 4. ])"
      ]
     },
     "execution_count": 19,
     "metadata": {},
     "output_type": "execute_result"
    }
   ],
   "source": [
    "start, stop, count = 1, 4, 6\n",
    "\n",
    "np.linspace(start, stop, count)  # 在指定的起始值和结束值之间等距分布，最终元素数量为 count"
   ]
  },
  {
   "cell_type": "code",
   "execution_count": null,
   "metadata": {},
   "outputs": [
    {
     "data": {
      "text/plain": [
       "array([[1, 2, 3],\n",
       "       [4, 5, 6],\n",
       "       [7, 8, 9]])"
      ]
     },
     "execution_count": 23,
     "metadata": {},
     "output_type": "execute_result"
    },
    {
     "data": {
      "text/plain": [
       "array([1, 5, 9])"
      ]
     },
     "execution_count": 23,
     "metadata": {},
     "output_type": "execute_result"
    }
   ],
   "source": [
    "a = np.array([[1,2,3],[4,5,6],[7,8,9]])\n",
    "a\n",
    "\n",
    "np.diag(a)  # 当 np.diag() 作用于二维 ndarray 时， 返回其对角线上的值作为一个一维 ndarray"
   ]
  },
  {
   "attachments": {},
   "cell_type": "markdown",
   "metadata": {},
   "source": [
    "##### 二维 ndarray 创建函数"
   ]
  },
  {
   "cell_type": "code",
   "execution_count": 20,
   "metadata": {},
   "outputs": [
    {
     "data": {
      "text/plain": [
       "array([[1., 0., 0.],\n",
       "       [0., 1., 0.],\n",
       "       [0., 0., 1.]])"
      ]
     },
     "execution_count": 20,
     "metadata": {},
     "output_type": "execute_result"
    },
    {
     "data": {
      "text/plain": [
       "array([[1., 0., 0., 0., 0.],\n",
       "       [0., 1., 0., 0., 0.],\n",
       "       [0., 0., 1., 0., 0.]])"
      ]
     },
     "execution_count": 20,
     "metadata": {},
     "output_type": "execute_result"
    }
   ],
   "source": [
    "np.eye(3)\n",
    "np.eye(3, 5)  # 行索引和列索引相等的位置为1， 其余为0"
   ]
  },
  {
   "cell_type": "code",
   "execution_count": null,
   "metadata": {},
   "outputs": [
    {
     "data": {
      "text/plain": [
       "array([[1, 0, 0],\n",
       "       [0, 2, 0],\n",
       "       [0, 0, 3]])"
      ]
     },
     "execution_count": 21,
     "metadata": {},
     "output_type": "execute_result"
    }
   ],
   "source": [
    "np.diag([1,2,3])  # 当 np.diag() 作用于一维 ndarray 时，返回沿对角线具有给定值的方形二维 ndarray"
   ]
  },
  {
   "attachments": {},
   "cell_type": "markdown",
   "metadata": {},
   "source": [
    "##### 通用n维 ndarray 创建函数"
   ]
  },
  {
   "cell_type": "code",
   "execution_count": 10,
   "metadata": {},
   "outputs": [
    {
     "data": {
      "text/plain": [
       "array([[0., 0., 0., 0.],\n",
       "       [0., 0., 0., 0.],\n",
       "       [0., 0., 0., 0.]])"
      ]
     },
     "execution_count": 10,
     "metadata": {},
     "output_type": "execute_result"
    }
   ],
   "source": [
    "np.zeros((3,4))  # 按形状创建一个全0的ndarray"
   ]
  },
  {
   "cell_type": "code",
   "execution_count": 11,
   "metadata": {},
   "outputs": [
    {
     "data": {
      "text/plain": [
       "array([[1., 1., 1., 1.],\n",
       "       [1., 1., 1., 1.],\n",
       "       [1., 1., 1., 1.]])"
      ]
     },
     "execution_count": 11,
     "metadata": {},
     "output_type": "execute_result"
    }
   ],
   "source": [
    "np.ones((3,4))  # 按形状创建一个全1的ndarray"
   ]
  },
  {
   "cell_type": "code",
   "execution_count": 12,
   "metadata": {},
   "outputs": [
    {
     "data": {
      "text/plain": [
       "array([[1., 1., 1., 1.],\n",
       "       [1., 1., 1., 1.],\n",
       "       [1., 1., 1., 1.]])"
      ]
     },
     "execution_count": 12,
     "metadata": {},
     "output_type": "execute_result"
    }
   ],
   "source": [
    "np.empty((3,4))  # 按形状创建一个ndarray，不对数值做初始化（提高速度），其内容取决于内存状态"
   ]
  },
  {
   "cell_type": "code",
   "execution_count": null,
   "metadata": {},
   "outputs": [
    {
     "data": {
      "text/plain": [
       "array([[0.39901419, 0.15543947, 0.09395769, 0.37918101],\n",
       "       [0.56049969, 0.01665194, 0.40070915, 0.75820648],\n",
       "       [0.28309414, 0.52280029, 0.52519451, 0.61502749]])"
      ]
     },
     "execution_count": 25,
     "metadata": {},
     "output_type": "execute_result"
    }
   ],
   "source": [
    "np.random.random((3,4))  # 按形状创建一个填充(0,1)随机数的ndarray"
   ]
  },
  {
   "attachments": {},
   "cell_type": "markdown",
   "metadata": {},
   "source": [
    "### 二、ndarray 的基本运算\n",
    "对于不同类型的 ndarray 进行运算时，类型会向上转换（upcasting）"
   ]
  },
  {
   "cell_type": "code",
   "execution_count": null,
   "metadata": {},
   "outputs": [
    {
     "data": {
      "text/plain": [
       "array([[0, 1, 2, 3],\n",
       "       [4, 5, 6, 7]])"
      ]
     },
     "execution_count": 6,
     "metadata": {},
     "output_type": "execute_result"
    },
    {
     "data": {
      "text/plain": [
       "array([[24, 34, 44, 54],\n",
       "       [64, 74, 84, 94]])"
      ]
     },
     "execution_count": 6,
     "metadata": {},
     "output_type": "execute_result"
    },
    {
     "data": {
      "text/plain": [
       "array([[20, 29, 38, 47],\n",
       "       [56, 65, 74, 83]])"
      ]
     },
     "execution_count": 6,
     "metadata": {},
     "output_type": "execute_result"
    },
    {
     "data": {
      "text/plain": [
       "array([[ 0,  1,  4,  9],\n",
       "       [16, 25, 36, 49]])"
      ]
     },
     "execution_count": 6,
     "metadata": {},
     "output_type": "execute_result"
    },
    {
     "data": {
      "text/plain": [
       "array([[0, 0, 1, 1],\n",
       "       [2, 2, 3, 3]])"
      ]
     },
     "execution_count": 6,
     "metadata": {},
     "output_type": "execute_result"
    },
    {
     "data": {
      "text/plain": [
       "array([[ 0.91294525, -0.98803162,  0.74511316, -0.26237485],\n",
       "       [-0.30481062,  0.77389068, -0.99388865,  0.89399666]])"
      ]
     },
     "execution_count": 6,
     "metadata": {},
     "output_type": "execute_result"
    },
    {
     "data": {
      "text/plain": [
       "array([[ True,  True,  True, False],\n",
       "       [False, False, False, False]])"
      ]
     },
     "execution_count": 6,
     "metadata": {},
     "output_type": "execute_result"
    }
   ],
   "source": [
    "a = np.array([[20, 30, 40, 50], [60, 70, 80, 90]])\n",
    "b = 4\n",
    "c = np.arange(8).reshape(2, 4)\n",
    "c\n",
    "\n",
    "a + b  # 加/减一个标量（广播机制）\n",
    "a - c  # 加/减一个相同形状的 ndarray （逐元素应用）\n",
    "c ** 2\n",
    "c // 2 \n",
    "np.sin(a)  # 通过 NumPy 通用函数计算\n",
    "a < 45  # 逻辑运算"
   ]
  },
  {
   "cell_type": "code",
   "execution_count": 7,
   "metadata": {},
   "outputs": [
    {
     "data": {
      "text/plain": [
       "array([[2, 0],\n",
       "       [0, 4]])"
      ]
     },
     "execution_count": 7,
     "metadata": {},
     "output_type": "execute_result"
    },
    {
     "data": {
      "text/plain": [
       "array([[5, 4],\n",
       "       [3, 4]])"
      ]
     },
     "execution_count": 7,
     "metadata": {},
     "output_type": "execute_result"
    },
    {
     "data": {
      "text/plain": [
       "array([[5, 4],\n",
       "       [3, 4]])"
      ]
     },
     "execution_count": 7,
     "metadata": {},
     "output_type": "execute_result"
    }
   ],
   "source": [
    "A = np.array([[1, 1],\n",
    "              [0, 1]])\n",
    "B = np.array([[2, 0],\n",
    "              [3, 4]])\n",
    "\n",
    "A * B  # 逐元素相乘\n",
    "A.dot(B)  # 矩阵乘法\n",
    "A @ B  # 矩阵乘法（Python >=3.5）"
   ]
  },
  {
   "cell_type": "code",
   "execution_count": 13,
   "metadata": {},
   "outputs": [
    {
     "data": {
      "text/plain": [
       "array([0, 1, 2])"
      ]
     },
     "execution_count": 13,
     "metadata": {},
     "output_type": "execute_result"
    },
    {
     "data": {
      "text/plain": [
       "array([0.        , 0.84147098, 0.90929743])"
      ]
     },
     "execution_count": 13,
     "metadata": {},
     "output_type": "execute_result"
    },
    {
     "data": {
      "text/plain": [
       "array([ 1.        ,  0.54030231, -0.41614684])"
      ]
     },
     "execution_count": 13,
     "metadata": {},
     "output_type": "execute_result"
    },
    {
     "data": {
      "text/plain": [
       "array([1.        , 2.71828183, 7.3890561 ])"
      ]
     },
     "execution_count": 13,
     "metadata": {},
     "output_type": "execute_result"
    }
   ],
   "source": [
    "# 一些常见的数学函数\n",
    "a = np.arange(3)\n",
    "a\n",
    "\n",
    "np.sin(a)\n",
    "np.cos(a)\n",
    "np.exp(a)"
   ]
  },
  {
   "cell_type": "code",
   "execution_count": null,
   "metadata": {},
   "outputs": [
    {
     "data": {
      "text/plain": [
       "array([[ 0,  1,  2,  3],\n",
       "       [ 4,  5,  6,  7],\n",
       "       [ 8,  9, 10, 11]])"
      ]
     },
     "execution_count": 12,
     "metadata": {},
     "output_type": "execute_result"
    },
    {
     "data": {
      "text/plain": [
       "np.int64(66)"
      ]
     },
     "execution_count": 12,
     "metadata": {},
     "output_type": "execute_result"
    },
    {
     "data": {
      "text/plain": [
       "np.int64(0)"
      ]
     },
     "execution_count": 12,
     "metadata": {},
     "output_type": "execute_result"
    },
    {
     "data": {
      "text/plain": [
       "np.int64(11)"
      ]
     },
     "execution_count": 12,
     "metadata": {},
     "output_type": "execute_result"
    },
    {
     "data": {
      "text/plain": [
       "np.float64(5.5)"
      ]
     },
     "execution_count": 12,
     "metadata": {},
     "output_type": "execute_result"
    },
    {
     "data": {
      "text/plain": [
       "array([12, 15, 18, 21])"
      ]
     },
     "execution_count": 12,
     "metadata": {},
     "output_type": "execute_result"
    },
    {
     "data": {
      "text/plain": [
       "array([0, 4, 8])"
      ]
     },
     "execution_count": 12,
     "metadata": {},
     "output_type": "execute_result"
    },
    {
     "data": {
      "text/plain": [
       "array([[ 0,  1,  3,  6],\n",
       "       [ 4,  9, 15, 22],\n",
       "       [ 8, 17, 27, 38]])"
      ]
     },
     "execution_count": 12,
     "metadata": {},
     "output_type": "execute_result"
    }
   ],
   "source": [
    "a = np.arange(12).reshape(3, 4)\n",
    "a\n",
    "# 不指定参数时，对整个 ndarray 来求\n",
    "a.sum()\n",
    "a.min()\n",
    "a.max()\n",
    "a.mean()\n",
    "\n",
    "# 指定 axis 时，会对指定的轴来求\n",
    "a.sum(axis=0)\n",
    "a.min(axis=1)\n",
    "a.cumsum(axis=1)  # 每行累计和"
   ]
  },
  {
   "cell_type": "code",
   "execution_count": 49,
   "metadata": {},
   "outputs": [
    {
     "data": {
      "text/plain": [
       "array([1, 2, 3, 4, 5, 6, 7, 8])"
      ]
     },
     "execution_count": 49,
     "metadata": {},
     "output_type": "execute_result"
    }
   ],
   "source": [
    "# 矩阵的排序\n",
    "a = np.array([2, 1, 5, 3, 7, 4, 6, 8])\n",
    "np.sort(a)"
   ]
  },
  {
   "attachments": {},
   "cell_type": "markdown",
   "metadata": {},
   "source": [
    "### 三、ndarray 的索引、切片和迭代\n",
    "> 注意：在 Python中，x[(1, 2, 3, ..., n)] 等同于 x[1, 2, 3, ..., n]，后者只是前者的语法糖。\n",
    "#### 1. 基本索引\n",
    "##### 单元素索引"
   ]
  },
  {
   "cell_type": "code",
   "execution_count": 17,
   "metadata": {},
   "outputs": [
    {
     "data": {
      "text/plain": [
       "array([0, 1, 2, 3, 4, 5, 6, 7, 8, 9])"
      ]
     },
     "execution_count": 17,
     "metadata": {},
     "output_type": "execute_result"
    },
    {
     "data": {
      "text/plain": [
       "np.int64(2)"
      ]
     },
     "execution_count": 17,
     "metadata": {},
     "output_type": "execute_result"
    }
   ],
   "source": [
    "# 一维 ndarray 索引方式和 Python 其他序列类型一致\n",
    "x = np.arange(10)\n",
    "x\n",
    "x[2]"
   ]
  },
  {
   "cell_type": "code",
   "execution_count": 18,
   "metadata": {},
   "outputs": [
    {
     "data": {
      "text/plain": [
       "array([[[ 0,  1,  2,  3],\n",
       "        [ 4,  5,  6,  7],\n",
       "        [ 8,  9, 10, 11]],\n",
       "\n",
       "       [[12, 13, 14, 15],\n",
       "        [16, 17, 18, 19],\n",
       "        [20, 21, 22, 23]]])"
      ]
     },
     "execution_count": 18,
     "metadata": {},
     "output_type": "execute_result"
    },
    {
     "data": {
      "text/plain": [
       "np.int64(23)"
      ]
     },
     "execution_count": 18,
     "metadata": {},
     "output_type": "execute_result"
    }
   ],
   "source": [
    "# 多维 ndarray 每个轴都可以有一个索引\n",
    "x = np.arange(24).reshape(2, 3, 4)\n",
    "x\n",
    "x[1, 2, 3]"
   ]
  },
  {
   "cell_type": "code",
   "execution_count": 19,
   "metadata": {},
   "outputs": [
    {
     "data": {
      "text/plain": [
       "array([20, 21, 22, 23])"
      ]
     },
     "execution_count": 19,
     "metadata": {},
     "output_type": "execute_result"
    },
    {
     "data": {
      "text/plain": [
       "array([[12, 13, 14, 15],\n",
       "       [16, 17, 18, 19],\n",
       "       [20, 21, 22, 23]])"
      ]
     },
     "execution_count": 19,
     "metadata": {},
     "output_type": "execute_result"
    }
   ],
   "source": [
    "# 若对多维 ndarray 进行索引，但给出的索引数少于维数时，会得到子维 ndarray\n",
    "x[1, 2]\n",
    "x[1]"
   ]
  },
  {
   "attachments": {},
   "cell_type": "markdown",
   "metadata": {},
   "source": [
    "##### 切片索引\n",
    "当每个轴给出的是切片对象（形如 start:stop:step 的符号构造），就会由索引单个值变成切片。\n",
    "> 注意：NumPy切片总是创建一个 view，而不是像 Python 序列那样创建副本。"
   ]
  },
  {
   "cell_type": "code",
   "execution_count": null,
   "metadata": {},
   "outputs": [
    {
     "data": {
      "text/plain": [
       "array([[[  0,   1,   2,   3,   4,   5],\n",
       "        [  6,   7,   8,   9,  10,  11],\n",
       "        [ 12,  13,  14,  15,  16,  17],\n",
       "        [ 18,  19,  20,  21,  22,  23],\n",
       "        [ 24,  25,  26,  27,  28,  29]],\n",
       "\n",
       "       [[ 30,  31,  32,  33,  34,  35],\n",
       "        [ 36,  37,  38,  39,  40,  41],\n",
       "        [ 42,  43,  44,  45,  46,  47],\n",
       "        [ 48,  49,  50,  51,  52,  53],\n",
       "        [ 54,  55,  56,  57,  58,  59]],\n",
       "\n",
       "       [[ 60,  61,  62,  63,  64,  65],\n",
       "        [ 66,  67,  68,  69,  70,  71],\n",
       "        [ 72,  73,  74,  75,  76,  77],\n",
       "        [ 78,  79,  80,  81,  82,  83],\n",
       "        [ 84,  85,  86,  87,  88,  89]],\n",
       "\n",
       "       [[ 90,  91,  92,  93,  94,  95],\n",
       "        [ 96,  97,  98,  99, 100, 101],\n",
       "        [102, 103, 104, 105, 106, 107],\n",
       "        [108, 109, 110, 111, 112, 113],\n",
       "        [114, 115, 116, 117, 118, 119]]])"
      ]
     },
     "execution_count": 26,
     "metadata": {},
     "output_type": "execute_result"
    },
    {
     "data": {
      "text/plain": [
       "array([[[ 0,  1,  2,  3],\n",
       "        [ 6,  7,  8,  9],\n",
       "        [12, 13, 14, 15]],\n",
       "\n",
       "       [[30, 31, 32, 33],\n",
       "        [36, 37, 38, 39],\n",
       "        [42, 43, 44, 45]]])"
      ]
     },
     "execution_count": 26,
     "metadata": {},
     "output_type": "execute_result"
    },
    {
     "data": {
      "text/plain": [
       "array([[[ 0,  1,  2,  3,  4,  5],\n",
       "        [ 6,  7,  8,  9, 10, 11],\n",
       "        [12, 13, 14, 15, 16, 17]],\n",
       "\n",
       "       [[30, 31, 32, 33, 34, 35],\n",
       "        [36, 37, 38, 39, 40, 41],\n",
       "        [42, 43, 44, 45, 46, 47]]])"
      ]
     },
     "execution_count": 26,
     "metadata": {},
     "output_type": "execute_result"
    },
    {
     "data": {
      "text/plain": [
       "array([[60, 61, 62, 63],\n",
       "       [66, 67, 68, 69],\n",
       "       [72, 73, 74, 75]])"
      ]
     },
     "execution_count": 26,
     "metadata": {},
     "output_type": "execute_result"
    },
    {
     "data": {
      "text/plain": [
       "array([[[  0,   1,   2,   3],\n",
       "        [  6,   7,   8,   9],\n",
       "        [ 12,  13,  14,  15],\n",
       "        [ 18,  19,  20,  21],\n",
       "        [ 24,  25,  26,  27]],\n",
       "\n",
       "       [[ 30,  31,  32,  33],\n",
       "        [ 36,  37,  38,  39],\n",
       "        [ 42,  43,  44,  45],\n",
       "        [ 48,  49,  50,  51],\n",
       "        [ 54,  55,  56,  57]],\n",
       "\n",
       "       [[ 60,  61,  62,  63],\n",
       "        [ 66,  67,  68,  69],\n",
       "        [ 72,  73,  74,  75],\n",
       "        [ 78,  79,  80,  81],\n",
       "        [ 84,  85,  86,  87]],\n",
       "\n",
       "       [[ 90,  91,  92,  93],\n",
       "        [ 96,  97,  98,  99],\n",
       "        [102, 103, 104, 105],\n",
       "        [108, 109, 110, 111],\n",
       "        [114, 115, 116, 117]]])"
      ]
     },
     "execution_count": 26,
     "metadata": {},
     "output_type": "execute_result"
    }
   ],
   "source": [
    "a = np.arange(120).reshape(4,5,6)\n",
    "a\n",
    "\n",
    "a[:2,:3,:4]  # 每个轴都可以应用切片对象\n",
    "a[:2,:3]  # 当给出的切片对象数量少于轴数时，相当于剩余的轴不应用切片\n",
    "a[2,:3,:4]  # 可以混用单值索引和切片对象\n",
    "a[..., :4]  # 等同于a[:,:,:4]"
   ]
  },
  {
   "attachments": {},
   "cell_type": "markdown",
   "metadata": {},
   "source": [
    "#### 2. 高级索引\n",
    "当[]中至少包括非元组Python序列（因为元组会被认为是单元素索引， x[(1, 2, 3),] 与 x[(1, 2, 3)] 有根本区别。后者相当于 x[1, 2, 3] ，会触发基本选择，而前者会触发高级索引）或为整型/布尔型的ndarray时，会触发高级索引。\n",
    "> 注意：高级索引总是创建一份数据的 copy\n",
    "##### 整数数组索引"
   ]
  },
  {
   "cell_type": "code",
   "execution_count": 69,
   "metadata": {},
   "outputs": [
    {
     "data": {
      "text/plain": [
       "array([[[  0,   1,   2,   3,   4,   5],\n",
       "        [  6,   7,   8,   9,  10,  11],\n",
       "        [ 12,  13,  14,  15,  16,  17],\n",
       "        [ 18,  19,  20,  21,  22,  23],\n",
       "        [ 24,  25,  26,  27,  28,  29]],\n",
       "\n",
       "       [[ 30,  31,  32,  33,  34,  35],\n",
       "        [ 36,  37,  38,  39,  40,  41],\n",
       "        [ 42,  43,  44,  45,  46,  47],\n",
       "        [ 48,  49,  50,  51,  52,  53],\n",
       "        [ 54,  55,  56,  57,  58,  59]],\n",
       "\n",
       "       [[ 60,  61,  62,  63,  64,  65],\n",
       "        [ 66,  67,  68,  69,  70,  71],\n",
       "        [ 72,  73,  74,  75,  76,  77],\n",
       "        [ 78,  79,  80,  81,  82,  83],\n",
       "        [ 84,  85,  86,  87,  88,  89]],\n",
       "\n",
       "       [[ 90,  91,  92,  93,  94,  95],\n",
       "        [ 96,  97,  98,  99, 100, 101],\n",
       "        [102, 103, 104, 105, 106, 107],\n",
       "        [108, 109, 110, 111, 112, 113],\n",
       "        [114, 115, 116, 117, 118, 119]]])"
      ]
     },
     "execution_count": 69,
     "metadata": {},
     "output_type": "execute_result"
    },
    {
     "data": {
      "text/plain": [
       "array([[[ 30,  31,  32,  33,  34,  35],\n",
       "        [ 36,  37,  38,  39,  40,  41],\n",
       "        [ 42,  43,  44,  45,  46,  47],\n",
       "        [ 48,  49,  50,  51,  52,  53],\n",
       "        [ 54,  55,  56,  57,  58,  59]],\n",
       "\n",
       "       [[ 90,  91,  92,  93,  94,  95],\n",
       "        [ 96,  97,  98,  99, 100, 101],\n",
       "        [102, 103, 104, 105, 106, 107],\n",
       "        [108, 109, 110, 111, 112, 113],\n",
       "        [114, 115, 116, 117, 118, 119]]])"
      ]
     },
     "execution_count": 69,
     "metadata": {},
     "output_type": "execute_result"
    },
    {
     "data": {
      "text/plain": [
       "array([[ 36,  37,  38,  39,  40,  41],\n",
       "       [108, 109, 110, 111, 112, 113]])"
      ]
     },
     "execution_count": 69,
     "metadata": {},
     "output_type": "execute_result"
    }
   ],
   "source": [
    "a = np.arange(120).reshape(4,5,6)\n",
    "a\n",
    "\n",
    "# 整数数组索引允许根据 N 维索引选择 ndarray 中的任意项。每个整数数组代表该维度的要选取哪些位置的对象，允许使用负数\n",
    "a[[1,3]]\n",
    "a[[1,3],[1,3]]"
   ]
  },
  {
   "attachments": {},
   "cell_type": "markdown",
   "metadata": {},
   "source": [
    "##### 布尔数组索引\n",
    "常用于过滤符合条件的元素"
   ]
  },
  {
   "cell_type": "code",
   "execution_count": 9,
   "metadata": {},
   "outputs": [
    {
     "data": {
      "text/plain": [
       "array([[ 1.,  2.],\n",
       "       [nan,  3.],\n",
       "       [nan, nan]])"
      ]
     },
     "execution_count": 9,
     "metadata": {},
     "output_type": "execute_result"
    },
    {
     "data": {
      "text/plain": [
       "array([[ True,  True],\n",
       "       [False,  True],\n",
       "       [False, False]])"
      ]
     },
     "execution_count": 9,
     "metadata": {},
     "output_type": "execute_result"
    },
    {
     "data": {
      "text/plain": [
       "array([1., 2., 3.])"
      ]
     },
     "execution_count": 9,
     "metadata": {},
     "output_type": "execute_result"
    }
   ],
   "source": [
    "# 例：从 ndarray 中选出所有不为nan的项目\n",
    "x = np.array([[1., 2.], [np.nan, 3.], [np.nan, np.nan]])\n",
    "x\n",
    "~np.isnan(x)\n",
    "x[~np.isnan(x)]"
   ]
  },
  {
   "cell_type": "code",
   "execution_count": 10,
   "metadata": {},
   "outputs": [
    {
     "data": {
      "text/plain": [
       "array([ 1., -1., -2.,  3.])"
      ]
     },
     "execution_count": 10,
     "metadata": {},
     "output_type": "execute_result"
    },
    {
     "data": {
      "text/plain": [
       "array([False,  True,  True, False])"
      ]
     },
     "execution_count": 10,
     "metadata": {},
     "output_type": "execute_result"
    },
    {
     "data": {
      "text/plain": [
       "array([ 1., 19., 18.,  3.])"
      ]
     },
     "execution_count": 10,
     "metadata": {},
     "output_type": "execute_result"
    }
   ],
   "source": [
    "# 例：给所有负元素添加一个常数\n",
    "x = np.array([1., -1., -2., 3])\n",
    "x\n",
    "x < 0\n",
    "x[x < 0] += 20\n",
    "x"
   ]
  },
  {
   "cell_type": "code",
   "execution_count": 56,
   "metadata": {},
   "outputs": [
    {
     "data": {
      "text/plain": [
       "array([[ 0,  1,  2,  3],\n",
       "       [ 4,  5,  6,  7],\n",
       "       [ 8,  9, 10, 11]])"
      ]
     },
     "execution_count": 56,
     "metadata": {},
     "output_type": "execute_result"
    },
    {
     "data": {
      "text/plain": [
       "(array([0, 0, 0, 0, 1], dtype=int64), array([0, 1, 2, 3, 0], dtype=int64))"
      ]
     },
     "execution_count": 56,
     "metadata": {},
     "output_type": "execute_result"
    },
    {
     "data": {
      "text/plain": [
       "[(0, 0), (0, 1), (0, 2), (0, 3), (1, 0)]"
      ]
     },
     "execution_count": 56,
     "metadata": {},
     "output_type": "execute_result"
    },
    {
     "data": {
      "text/plain": [
       "array([0, 1, 2, 3, 4])"
      ]
     },
     "execution_count": 56,
     "metadata": {},
     "output_type": "execute_result"
    }
   ],
   "source": [
    "# 应用：获取满足条件的元素的索引——用np.nonzero获取布尔数组中不为False的元素的索引\n",
    "a = np.arange(12).reshape(3,4)\n",
    "a\n",
    "\n",
    "x = np.nonzero(a < 5)\n",
    "x\n",
    "list(zip(x[0], x[1]))  # 获取坐标\n",
    "\n",
    "a[x]  # 可以直接用这些索引提取出对应的元素"
   ]
  },
  {
   "attachments": {},
   "cell_type": "markdown",
   "metadata": {},
   "source": [
    "#### 3. 迭代"
   ]
  },
  {
   "cell_type": "code",
   "execution_count": 11,
   "metadata": {},
   "outputs": [
    {
     "name": "stdout",
     "output_type": "stream",
     "text": [
      "0\n",
      "1\n",
      "2\n",
      "3\n",
      "4\n",
      "5\n",
      "6\n",
      "7\n",
      "8\n",
      "9\n"
     ]
    }
   ],
   "source": [
    "# 一维 ndarray 的迭代如同 Python 序列一样\n",
    "a = np.arange(10)\n",
    "for _ in a:\n",
    "    print(_)"
   ]
  },
  {
   "cell_type": "code",
   "execution_count": 13,
   "metadata": {},
   "outputs": [
    {
     "data": {
      "text/plain": [
       "array([[[ 0,  1],\n",
       "        [ 2,  3],\n",
       "        [ 4,  5],\n",
       "        [ 6,  7]],\n",
       "\n",
       "       [[ 8,  9],\n",
       "        [10, 11],\n",
       "        [12, 13],\n",
       "        [14, 15]],\n",
       "\n",
       "       [[16, 17],\n",
       "        [18, 19],\n",
       "        [20, 21],\n",
       "        [22, 23]],\n",
       "\n",
       "       [[24, 25],\n",
       "        [26, 27],\n",
       "        [28, 29],\n",
       "        [30, 31]],\n",
       "\n",
       "       [[32, 33],\n",
       "        [34, 35],\n",
       "        [36, 37],\n",
       "        [38, 39]]])"
      ]
     },
     "execution_count": 13,
     "metadata": {},
     "output_type": "execute_result"
    },
    {
     "name": "stdout",
     "output_type": "stream",
     "text": [
      "[[0 1]\n",
      " [2 3]\n",
      " [4 5]\n",
      " [6 7]]\n",
      "[[ 8  9]\n",
      " [10 11]\n",
      " [12 13]\n",
      " [14 15]]\n",
      "[[16 17]\n",
      " [18 19]\n",
      " [20 21]\n",
      " [22 23]]\n",
      "[[24 25]\n",
      " [26 27]\n",
      " [28 29]\n",
      " [30 31]]\n",
      "[[32 33]\n",
      " [34 35]\n",
      " [36 37]\n",
      " [38 39]]\n"
     ]
    }
   ],
   "source": [
    "# 多维 ndarray 的迭代是针对第一个轴进行的\n",
    "a = np.arange(40).reshape(5,4,2)\n",
    "a\n",
    "for _ in a:\n",
    "    print(_)"
   ]
  },
  {
   "cell_type": "code",
   "execution_count": 14,
   "metadata": {},
   "outputs": [
    {
     "name": "stdout",
     "output_type": "stream",
     "text": [
      "0\n",
      "1\n",
      "2\n",
      "3\n",
      "4\n",
      "5\n",
      "6\n",
      "7\n",
      "8\n",
      "9\n",
      "10\n",
      "11\n",
      "12\n",
      "13\n",
      "14\n",
      "15\n",
      "16\n",
      "17\n",
      "18\n",
      "19\n",
      "20\n",
      "21\n",
      "22\n",
      "23\n",
      "24\n",
      "25\n",
      "26\n",
      "27\n",
      "28\n",
      "29\n",
      "30\n",
      "31\n",
      "32\n",
      "33\n",
      "34\n",
      "35\n",
      "36\n",
      "37\n",
      "38\n",
      "39\n"
     ]
    }
   ],
   "source": [
    "# 若想遍历 ndarray 的每一个元素，则用.flat属性调用 ndarray 所有元素的迭代器\n",
    "for _ in a.flat:\n",
    "    print(_)"
   ]
  },
  {
   "attachments": {},
   "cell_type": "markdown",
   "metadata": {},
   "source": [
    "### 四、形状操作\n",
    "#### 1. 重塑 ndarray 的形状"
   ]
  },
  {
   "cell_type": "code",
   "execution_count": 65,
   "metadata": {},
   "outputs": [
    {
     "data": {
      "text/plain": [
       "array([[ 0,  1,  2,  3,  4],\n",
       "       [ 5,  6,  7,  8,  9],\n",
       "       [10, 11, 12, 13, 14],\n",
       "       [15, 16, 17, 18, 19]])"
      ]
     },
     "execution_count": 65,
     "metadata": {},
     "output_type": "execute_result"
    },
    {
     "data": {
      "text/plain": [
       "(4, 5)"
      ]
     },
     "execution_count": 65,
     "metadata": {},
     "output_type": "execute_result"
    },
    {
     "data": {
      "text/plain": [
       "array([ 0,  1,  2,  3,  4,  5,  6,  7,  8,  9, 10, 11, 12, 13, 14, 15, 16,\n",
       "       17, 18, 19])"
      ]
     },
     "execution_count": 65,
     "metadata": {},
     "output_type": "execute_result"
    },
    {
     "data": {
      "text/plain": [
       "array([[[ 0,  1,  2,  3,  4],\n",
       "        [ 5,  6,  7,  8,  9]],\n",
       "\n",
       "       [[10, 11, 12, 13, 14],\n",
       "        [15, 16, 17, 18, 19]]])"
      ]
     },
     "execution_count": 65,
     "metadata": {},
     "output_type": "execute_result"
    },
    {
     "data": {
      "text/plain": [
       "array([[[ 0,  1,  2,  3,  4],\n",
       "        [ 5,  6,  7,  8,  9]],\n",
       "\n",
       "       [[10, 11, 12, 13, 14],\n",
       "        [15, 16, 17, 18, 19]]])"
      ]
     },
     "execution_count": 65,
     "metadata": {},
     "output_type": "execute_result"
    },
    {
     "data": {
      "text/plain": [
       "array([[ 0,  5, 10, 15],\n",
       "       [ 1,  6, 11, 16],\n",
       "       [ 2,  7, 12, 17],\n",
       "       [ 3,  8, 13, 18],\n",
       "       [ 4,  9, 14, 19]])"
      ]
     },
     "execution_count": 65,
     "metadata": {},
     "output_type": "execute_result"
    }
   ],
   "source": [
    "# 以下的命令返回修改后的 ndarray，但不更改原始的 ndarray\n",
    "a = np.arange(20).reshape(4,5)\n",
    "a\n",
    "a.shape\n",
    "\n",
    "a.ravel()  # 1.展平数组\n",
    "a.reshape(2,2,5)  # 2.改变形状\n",
    "a.reshape(2,-1,5)  # reshape 可以自动推断剩下一个为-1的轴的长度\n",
    "a.T  # 3.转置"
   ]
  },
  {
   "cell_type": "code",
   "execution_count": 66,
   "metadata": {},
   "outputs": [
    {
     "data": {
      "text/plain": [
       "array([[[ 0,  1,  2,  3,  4],\n",
       "        [ 5,  6,  7,  8,  9]],\n",
       "\n",
       "       [[10, 11, 12, 13, 14],\n",
       "        [15, 16, 17, 18, 19]]])"
      ]
     },
     "execution_count": 66,
     "metadata": {},
     "output_type": "execute_result"
    },
    {
     "data": {
      "text/plain": [
       "array([ 0,  1,  2,  3,  4,  5,  6,  7,  8,  9, 10, 11, 12, 13, 14, 15, 16,\n",
       "       17, 18, 19])"
      ]
     },
     "execution_count": 66,
     "metadata": {},
     "output_type": "execute_result"
    },
    {
     "data": {
      "text/plain": [
       "array([[[ 0,  1,  2,  3,  4],\n",
       "        [ 5,  6,  7,  8,  9]],\n",
       "\n",
       "       [[10, 11, 12, 13, 14],\n",
       "        [15, 16, 17, 18, 19]]])"
      ]
     },
     "execution_count": 66,
     "metadata": {},
     "output_type": "execute_result"
    }
   ],
   "source": [
    "# 以下命令修改 ndarray 自身\n",
    "a.resize(2,2,5)\n",
    "a"
   ]
  },
  {
   "cell_type": "code",
   "execution_count": 67,
   "metadata": {},
   "outputs": [
    {
     "data": {
      "text/plain": [
       "True"
      ]
     },
     "execution_count": 67,
     "metadata": {},
     "output_type": "execute_result"
    },
    {
     "data": {
      "text/plain": [
       "False"
      ]
     },
     "execution_count": 67,
     "metadata": {},
     "output_type": "execute_result"
    }
   ],
   "source": [
    "# ravel()和flatten()都用于展平，但ravel生成一个view，而flatten生成一个copy\n",
    "b = a.ravel()\n",
    "b.base is a.base\n",
    "c = a.flatten()\n",
    "c.base is a.base"
   ]
  },
  {
   "attachments": {},
   "cell_type": "markdown",
   "metadata": {},
   "source": [
    "#### 2. 向 ndarray 添加新轴"
   ]
  },
  {
   "cell_type": "code",
   "execution_count": 51,
   "metadata": {},
   "outputs": [
    {
     "data": {
      "text/plain": [
       "array([0, 1, 2, 3, 4, 5, 6])"
      ]
     },
     "execution_count": 51,
     "metadata": {},
     "output_type": "execute_result"
    },
    {
     "data": {
      "text/plain": [
       "(7,)"
      ]
     },
     "execution_count": 51,
     "metadata": {},
     "output_type": "execute_result"
    },
    {
     "data": {
      "text/plain": [
       "array([[0, 1, 2, 3, 4, 5, 6]])"
      ]
     },
     "execution_count": 51,
     "metadata": {},
     "output_type": "execute_result"
    },
    {
     "data": {
      "text/plain": [
       "(1, 7)"
      ]
     },
     "execution_count": 51,
     "metadata": {},
     "output_type": "execute_result"
    },
    {
     "data": {
      "text/plain": [
       "array([[[0],\n",
       "        [1],\n",
       "        [2],\n",
       "        [3],\n",
       "        [4],\n",
       "        [5],\n",
       "        [6]]])"
      ]
     },
     "execution_count": 51,
     "metadata": {},
     "output_type": "execute_result"
    },
    {
     "data": {
      "text/plain": [
       "(1, 7, 1)"
      ]
     },
     "execution_count": 51,
     "metadata": {},
     "output_type": "execute_result"
    }
   ],
   "source": [
    "a = np.arange(7)\n",
    "a\n",
    "a.shape\n",
    "\n",
    "# 通过 np.newaxis 利用切片方式在指定位置添加新轴\n",
    "b = a[np.newaxis, :]\n",
    "b\n",
    "b.shape\n",
    "\n",
    "b = a[np.newaxis, :, np.newaxis]\n",
    "b\n",
    "b.shape\n"
   ]
  },
  {
   "cell_type": "code",
   "execution_count": 52,
   "metadata": {},
   "outputs": [
    {
     "data": {
      "text/plain": [
       "array([[0, 1, 2, 3, 4, 5, 6]])"
      ]
     },
     "execution_count": 52,
     "metadata": {},
     "output_type": "execute_result"
    },
    {
     "data": {
      "text/plain": [
       "(1, 7)"
      ]
     },
     "execution_count": 52,
     "metadata": {},
     "output_type": "execute_result"
    }
   ],
   "source": [
    "# 通过 np.expand_dims 在指定位置添加新轴\n",
    "c = np.expand_dims(a, axis=0)\n",
    "c\n",
    "c.shape"
   ]
  },
  {
   "attachments": {},
   "cell_type": "markdown",
   "metadata": {},
   "source": [
    "#### 2. 将不同的 ndarray 堆叠在一起"
   ]
  },
  {
   "cell_type": "code",
   "execution_count": 48,
   "metadata": {},
   "outputs": [
    {
     "data": {
      "text/plain": [
       "array([[1, 2],\n",
       "       [3, 4]])"
      ]
     },
     "execution_count": 48,
     "metadata": {},
     "output_type": "execute_result"
    },
    {
     "data": {
      "text/plain": [
       "array([[5, 6],\n",
       "       [7, 8]])"
      ]
     },
     "execution_count": 48,
     "metadata": {},
     "output_type": "execute_result"
    },
    {
     "data": {
      "text/plain": [
       "array([[1, 2],\n",
       "       [3, 4],\n",
       "       [5, 6],\n",
       "       [7, 8]])"
      ]
     },
     "execution_count": 48,
     "metadata": {},
     "output_type": "execute_result"
    },
    {
     "data": {
      "text/plain": [
       "array([[1, 2, 5, 6],\n",
       "       [3, 4, 7, 8]])"
      ]
     },
     "execution_count": 48,
     "metadata": {},
     "output_type": "execute_result"
    },
    {
     "data": {
      "text/plain": [
       "array([[1, 2],\n",
       "       [3, 4],\n",
       "       [5, 6],\n",
       "       [7, 8]])"
      ]
     },
     "execution_count": 48,
     "metadata": {},
     "output_type": "execute_result"
    },
    {
     "data": {
      "text/plain": [
       "array([[1, 2],\n",
       "       [3, 4],\n",
       "       [5, 6],\n",
       "       [7, 8]])"
      ]
     },
     "execution_count": 48,
     "metadata": {},
     "output_type": "execute_result"
    }
   ],
   "source": [
    "a = np.arange(1,5).reshape(2,2)\n",
    "a\n",
    "b = np.arange(5,9).reshape(2,2)\n",
    "b\n",
    "\n",
    "# 需要传入一个元组\n",
    "np.vstack((a,b))  # 纵向堆叠/沿第1个轴堆叠\n",
    "np.hstack((a,b))  # 横向堆叠/沿第2个轴堆叠\n",
    "np.concatenate((a,b), axis=0)  # 指定按第几轴堆叠\n"
   ]
  },
  {
   "attachments": {},
   "cell_type": "markdown",
   "metadata": {},
   "source": [
    "#### 3. 将一个 ndarray 拆分成数个小 ndarray"
   ]
  },
  {
   "cell_type": "code",
   "execution_count": 30,
   "metadata": {},
   "outputs": [
    {
     "data": {
      "text/plain": [
       "array([[ 0,  1,  2,  3,  4,  5,  6,  7,  8,  9, 10, 11],\n",
       "       [12, 13, 14, 15, 16, 17, 18, 19, 20, 21, 22, 23]])"
      ]
     },
     "execution_count": 30,
     "metadata": {},
     "output_type": "execute_result"
    },
    {
     "data": {
      "text/plain": [
       "[array([[ 0,  1,  2,  3],\n",
       "        [12, 13, 14, 15]]), array([[ 4,  5,  6,  7],\n",
       "        [16, 17, 18, 19]]), array([[ 8,  9, 10, 11],\n",
       "        [20, 21, 22, 23]])]"
      ]
     },
     "execution_count": 30,
     "metadata": {},
     "output_type": "execute_result"
    },
    {
     "data": {
      "text/plain": [
       "[array([[ 0,  1,  2],\n",
       "        [12, 13, 14]]), array([[ 3,  4],\n",
       "        [15, 16]]), array([[ 5,  6,  7,  8,  9, 10, 11],\n",
       "        [17, 18, 19, 20, 21, 22, 23]])]"
      ]
     },
     "execution_count": 30,
     "metadata": {},
     "output_type": "execute_result"
    },
    {
     "data": {
      "text/plain": [
       "[array([[ 0,  1,  2,  3,  4,  5,  6,  7,  8,  9, 10, 11]]),\n",
       " array([[12, 13, 14, 15, 16, 17, 18, 19, 20, 21, 22, 23]])]"
      ]
     },
     "execution_count": 30,
     "metadata": {},
     "output_type": "execute_result"
    },
    {
     "data": {
      "text/plain": [
       "[array([[ 0,  1,  2,  3,  4,  5,  6,  7,  8,  9, 10, 11]]),\n",
       " array([[12, 13, 14, 15, 16, 17, 18, 19, 20, 21, 22, 23]])]"
      ]
     },
     "execution_count": 30,
     "metadata": {},
     "output_type": "execute_result"
    }
   ],
   "source": [
    "a = np.arange(24).reshape(2,12)\n",
    "a\n",
    "\n",
    "np.hsplit(a, 3)  # 将a横向拆分成3个相同形状的ndarray\n",
    "np.hsplit(a, (3,5))  # 将a在第3列和第5列处断开\n",
    "np.vsplit(a, 2)  # 将a纵向拆分成2个相同形状的ndarray\n",
    "np.array_split(a, 2, axis=0)  # 将a沿第0轴拆分成2个相同形状的ndarray"
   ]
  },
  {
   "attachments": {},
   "cell_type": "markdown",
   "metadata": {},
   "source": [
    "### 五、视图（view）和副本（copy）\n",
    "#### 1. 视图"
   ]
  },
  {
   "cell_type": "code",
   "execution_count": 41,
   "metadata": {},
   "outputs": [
    {
     "data": {
      "text/plain": [
       "True"
      ]
     },
     "execution_count": 41,
     "metadata": {},
     "output_type": "execute_result"
    }
   ],
   "source": [
    "# 单纯的赋值是由 Python 将可变对象作为引用传递，两个变量名指向同一对象\n",
    "a = np.arange(12).reshape(3,4)\n",
    "\n",
    "b = a\n",
    "b is a"
   ]
  },
  {
   "cell_type": "code",
   "execution_count": 42,
   "metadata": {},
   "outputs": [
    {
     "data": {
      "text/plain": [
       "array([[ 0,  1,  2,  3],\n",
       "       [ 4,  5,  6,  7],\n",
       "       [ 8,  9, 10, 11]])"
      ]
     },
     "execution_count": 42,
     "metadata": {},
     "output_type": "execute_result"
    },
    {
     "data": {
      "text/plain": [
       "False"
      ]
     },
     "execution_count": 42,
     "metadata": {},
     "output_type": "execute_result"
    },
    {
     "data": {
      "text/plain": [
       "True"
      ]
     },
     "execution_count": 42,
     "metadata": {},
     "output_type": "execute_result"
    },
    {
     "data": {
      "text/plain": [
       "False"
      ]
     },
     "execution_count": 42,
     "metadata": {},
     "output_type": "execute_result"
    }
   ],
   "source": [
    "# 视图是一个新对象，但指向相同的 NumPy 数据。不同的ndarray对象可以共享相同的数据\n",
    "c = a.view()\n",
    "c\n",
    "\n",
    "c is a\n",
    "c.base is a.base\n",
    "c.flags.owndata"
   ]
  },
  {
   "cell_type": "code",
   "execution_count": 43,
   "metadata": {},
   "outputs": [
    {
     "data": {
      "text/plain": [
       "(2, 6)"
      ]
     },
     "execution_count": 43,
     "metadata": {},
     "output_type": "execute_result"
    },
    {
     "data": {
      "text/plain": [
       "(3, 4)"
      ]
     },
     "execution_count": 43,
     "metadata": {},
     "output_type": "execute_result"
    },
    {
     "data": {
      "text/plain": [
       "array([[   0,    1,    2,    3, 1234,    5],\n",
       "       [   6,    7,    8,    9,   10,   11]])"
      ]
     },
     "execution_count": 43,
     "metadata": {},
     "output_type": "execute_result"
    },
    {
     "data": {
      "text/plain": [
       "array([[   0,    1,    2,    3],\n",
       "       [1234,    5,    6,    7],\n",
       "       [   8,    9,   10,   11]])"
      ]
     },
     "execution_count": 43,
     "metadata": {},
     "output_type": "execute_result"
    }
   ],
   "source": [
    "c = c.reshape(2,6)  # 对视图c做的形状变化不会传递给a\n",
    "c.shape\n",
    "a.shape\n",
    "\n",
    "c[0, 4] = 1234  # 但元素值的变化会被传递\n",
    "c\n",
    "a"
   ]
  },
  {
   "cell_type": "code",
   "execution_count": 44,
   "metadata": {},
   "outputs": [
    {
     "data": {
      "text/plain": [
       "array([[   0, 1001, 1002,    3],\n",
       "       [1234, 1005, 1006,    7],\n",
       "       [   8, 1009, 1010,   11]])"
      ]
     },
     "execution_count": 44,
     "metadata": {},
     "output_type": "execute_result"
    }
   ],
   "source": [
    "# 对ndarray进行切片会返回视图\n",
    "s = a[:, 1:3]\n",
    "s += 1000\n",
    "a"
   ]
  },
  {
   "attachments": {},
   "cell_type": "markdown",
   "metadata": {},
   "source": [
    "#### 2. 副本"
   ]
  },
  {
   "cell_type": "code",
   "execution_count": 47,
   "metadata": {},
   "outputs": [
    {
     "data": {
      "text/plain": [
       "array([[   0, 1001, 1002,    3],\n",
       "       [1234, 1005, 1006,    7],\n",
       "       [   8, 1009, 1010,   11]])"
      ]
     },
     "execution_count": 47,
     "metadata": {},
     "output_type": "execute_result"
    },
    {
     "data": {
      "text/plain": [
       "False"
      ]
     },
     "execution_count": 47,
     "metadata": {},
     "output_type": "execute_result"
    }
   ],
   "source": [
    "# copy 方法对ndarray及数据进行完整复制\n",
    "d = a.copy()\n",
    "d\n",
    "\n",
    "d.base is a.base"
   ]
  },
  {
   "attachments": {},
   "cell_type": "markdown",
   "metadata": {},
   "source": [
    "### 六、其他操作\n",
    "#### 1. np.unique()"
   ]
  },
  {
   "cell_type": "code",
   "execution_count": 62,
   "metadata": {},
   "outputs": [
    {
     "data": {
      "text/plain": [
       "array([[11, 11, 12, 13, 14, 15, 16],\n",
       "       [17, 12, 13, 11, 14, 18, 19]])"
      ]
     },
     "execution_count": 62,
     "metadata": {},
     "output_type": "execute_result"
    },
    {
     "data": {
      "text/plain": [
       "array([11, 12, 13, 14, 15, 16, 17, 18, 19])"
      ]
     },
     "execution_count": 62,
     "metadata": {},
     "output_type": "execute_result"
    },
    {
     "data": {
      "text/plain": [
       "(array([11, 12, 13, 14, 15, 16, 17, 18, 19]),\n",
       " array([ 0,  2,  3,  4,  5,  6,  7, 12, 13], dtype=int64))"
      ]
     },
     "execution_count": 62,
     "metadata": {},
     "output_type": "execute_result"
    },
    {
     "data": {
      "text/plain": [
       "(array([11, 12, 13, 14, 15, 16, 17, 18, 19]),\n",
       " array([3, 2, 2, 2, 1, 1, 1, 1, 1], dtype=int64))"
      ]
     },
     "execution_count": 62,
     "metadata": {},
     "output_type": "execute_result"
    }
   ],
   "source": [
    "a = np.array([11, 11, 12, 13, 14, 15, 16, 17, 12, 13, 11, 14, 18, 19]).reshape(2,-1)\n",
    "a\n",
    "\n",
    "# 注：调用np.unique时，如果多维ndarray没有指定axis，则会先展平\n",
    "np.unique(a)  # 获取所有唯一值\n",
    "np.unique(a, return_index=True)  # 获取所有唯一值及其索引\n",
    "np.unique(a, return_counts=True)  # 获取所有唯一值及其重复的次数\n"
   ]
  },
  {
   "attachments": {},
   "cell_type": "markdown",
   "metadata": {},
   "source": [
    "#### 2. np.flip()"
   ]
  },
  {
   "cell_type": "code",
   "execution_count": 64,
   "metadata": {},
   "outputs": [
    {
     "data": {
      "text/plain": [
       "array([1, 2, 3, 4, 5, 6, 7, 8])"
      ]
     },
     "execution_count": 64,
     "metadata": {},
     "output_type": "execute_result"
    },
    {
     "data": {
      "text/plain": [
       "array([8, 7, 6, 5, 4, 3, 2, 1])"
      ]
     },
     "execution_count": 64,
     "metadata": {},
     "output_type": "execute_result"
    },
    {
     "data": {
      "text/plain": [
       "array([[ 0,  1,  2,  3],\n",
       "       [ 4,  5,  6,  7],\n",
       "       [ 8,  9, 10, 11]])"
      ]
     },
     "execution_count": 64,
     "metadata": {},
     "output_type": "execute_result"
    },
    {
     "data": {
      "text/plain": [
       "array([[11, 10,  9,  8],\n",
       "       [ 7,  6,  5,  4],\n",
       "       [ 3,  2,  1,  0]])"
      ]
     },
     "execution_count": 64,
     "metadata": {},
     "output_type": "execute_result"
    },
    {
     "data": {
      "text/plain": [
       "array([[ 3,  2,  1,  0],\n",
       "       [ 7,  6,  5,  4],\n",
       "       [11, 10,  9,  8]])"
      ]
     },
     "execution_count": 64,
     "metadata": {},
     "output_type": "execute_result"
    },
    {
     "data": {
      "text/plain": [
       "array([[ 8,  9, 10, 11],\n",
       "       [ 4,  5,  6,  7],\n",
       "       [ 0,  1,  2,  3]])"
      ]
     },
     "execution_count": 64,
     "metadata": {},
     "output_type": "execute_result"
    }
   ],
   "source": [
    "a = np.array([1, 2, 3, 4, 5, 6, 7, 8])\n",
    "a\n",
    "np.flip(a)  # 反转一维ndarray\n",
    "\n",
    "a = np.arange(12).reshape(3,4)\n",
    "a\n",
    "np.flip(a)  # 对二维ndarray，默认同时反转行和列\n",
    "np.flip(a, axis=1)  # 也可以指定只反转行或列\n",
    "np.flip(a, axis=0)"
   ]
  },
  {
   "attachments": {},
   "cell_type": "markdown",
   "metadata": {},
   "source": [
    "### 七、保存和加载 ndarray 对象"
   ]
  },
  {
   "cell_type": "code",
   "execution_count": 70,
   "metadata": {},
   "outputs": [],
   "source": [
    "a = np.array([1, 2, 3, 4, 5, 6])\n",
    "np.save('filename', a)  # 保存为filename.npy文件\n",
    "b = np.load('filename.npy')  # 加载"
   ]
  }
 ],
 "metadata": {
  "kernelspec": {
   "display_name": "Python 3",
   "language": "python",
   "name": "python3"
  },
  "language_info": {
   "codemirror_mode": {
    "name": "ipython",
    "version": 3
   },
   "file_extension": ".py",
   "mimetype": "text/x-python",
   "name": "python",
   "nbconvert_exporter": "python",
   "pygments_lexer": "ipython3",
   "version": "3.11.10"
  }
 },
 "nbformat": 4,
 "nbformat_minor": 2
}
