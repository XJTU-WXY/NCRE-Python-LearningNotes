{
 "cells": [
  {
   "cell_type": "markdown",
   "metadata": {},
   "source": [
    "# time — 时间的访问和转换"
   ]
  },
  {
   "cell_type": "code",
   "execution_count": 1,
   "metadata": {},
   "outputs": [],
   "source": [
    "from IPython.core.interactiveshell import InteractiveShell\n",
    "InteractiveShell.ast_node_interactivity = \"all\"\n",
    "import time"
   ]
  },
  {
   "cell_type": "markdown",
   "metadata": {},
   "source": [
    "### 一、时间戳\n",
    "time 的时间间隔是以**秒**为单位的浮点数，时间戳是以自1970年1月1日0时后经历了多长时间来表示的"
   ]
  },
  {
   "cell_type": "code",
   "execution_count": 2,
   "metadata": {},
   "outputs": [
    {
     "data": {
      "text/plain": [
       "1741767983.3971162"
      ]
     },
     "execution_count": 2,
     "metadata": {},
     "output_type": "execute_result"
    }
   ],
   "source": [
    "time.time()"
   ]
  },
  {
   "cell_type": "markdown",
   "metadata": {},
   "source": [
    "### 二、结构化时间（struct_time）\n",
    "|属性|解释|值|\n",
    "|----|----|--|\n",
    "|tm_year|年（4位）|2025|\n",
    "|tm_mon|月|1~12|\n",
    "|tm_mday|日|1~31|\n",
    "|tm_hour|时|0~23|\n",
    "|tm_min|分|0~59|\n",
    "|tm_sec|秒|0~61（60和61为闰秒）|\n",
    "|tm_wday|周几|0~6（0为周一）|\n",
    "|tm_yday|一年的第几日|1~366|\n",
    "|tm_isdst|是否为夏令时|1(夏令时)、0(不是夏令时)、-1(未知)|\n"
   ]
  },
  {
   "cell_type": "code",
   "execution_count": null,
   "metadata": {},
   "outputs": [
    {
     "data": {
      "text/plain": [
       "time.struct_time(tm_year=2025, tm_mon=3, tm_mday=12, tm_hour=13, tm_min=50, tm_sec=8, tm_wday=2, tm_yday=71, tm_isdst=0)"
      ]
     },
     "execution_count": 2,
     "metadata": {},
     "output_type": "execute_result"
    },
    {
     "data": {
      "text/plain": [
       "time.struct_time(tm_year=2025, tm_mon=3, tm_mday=12, tm_hour=13, tm_min=50, tm_sec=8, tm_wday=2, tm_yday=71, tm_isdst=0)"
      ]
     },
     "execution_count": 2,
     "metadata": {},
     "output_type": "execute_result"
    }
   ],
   "source": [
    "time.localtime(time.time())  # 获取当前时间（将时间戳转换为结构化时间）\n",
    "time.localtime()  # 不指定参数是默认获取当前时间"
   ]
  },
  {
   "cell_type": "code",
   "execution_count": null,
   "metadata": {},
   "outputs": [
    {
     "data": {
      "text/plain": [
       "time.struct_time(tm_year=2025, tm_mon=3, tm_mday=12, tm_hour=8, tm_min=31, tm_sec=4, tm_wday=2, tm_yday=71, tm_isdst=0)"
      ]
     },
     "execution_count": 4,
     "metadata": {},
     "output_type": "execute_result"
    }
   ],
   "source": [
    "time.gmtime()  # 获取当前UTC时间"
   ]
  },
  {
   "cell_type": "code",
   "execution_count": 3,
   "metadata": {},
   "outputs": [
    {
     "data": {
      "text/plain": [
       "'Wed Mar 12 16:30:17 2025'"
      ]
     },
     "execution_count": 3,
     "metadata": {},
     "output_type": "execute_result"
    },
    {
     "data": {
      "text/plain": [
       "'Wed Mar 12 16:30:17 2025'"
      ]
     },
     "execution_count": 3,
     "metadata": {},
     "output_type": "execute_result"
    },
    {
     "data": {
      "text/plain": [
       "'Wed Mar 12 16:30:17 2025'"
      ]
     },
     "execution_count": 3,
     "metadata": {},
     "output_type": "execute_result"
    }
   ],
   "source": [
    "time.asctime(time.localtime(time.time()))  # 默认的可读时间格式\n",
    "time.asctime()  # 在不指定参数的情况下，默认获取当前时间\n",
    "time.ctime()  # 上面函数的等效函数"
   ]
  },
  {
   "cell_type": "code",
   "execution_count": 5,
   "metadata": {},
   "outputs": [
    {
     "data": {
      "text/plain": [
       "1741768333.0"
      ]
     },
     "execution_count": 5,
     "metadata": {},
     "output_type": "execute_result"
    }
   ],
   "source": [
    "t = time.localtime()\n",
    "time.mktime(t)  # 将结构化时间转回时间戳"
   ]
  },
  {
   "cell_type": "markdown",
   "metadata": {},
   "source": [
    "### 三、转换为格式化的时间字符串"
   ]
  },
  {
   "cell_type": "markdown",
   "metadata": {},
   "source": [
    "Python中的时间日期格式化符号：\n",
    "- 总体\n",
    "  - %c：本地时间日期\n",
    "  - %x：本地日期\n",
    "  - %X：本地时间\n",
    "  - %Z：当前时区\n",
    "  - %j：一年内的第几天\n",
    "  - %W：一年中的第几周（周一为星期的开始）\n",
    "- 年\n",
    "  - %y：两位数年份\n",
    "  - %Y：四位数年份\n",
    "- 月\n",
    "  - %m：两位数月份\n",
    "  - %b：本地简化月份名称\n",
    "  - %B：本体完整月份名称\n",
    "- 日\n",
    "  - %d：两位数日期\n",
    "- 时\n",
    "  - %H：两位数24小时制\n",
    "  - %I：两位数12小时制\n",
    "  - %p：上午/下午\n",
    "- 分\n",
    "  - %M：两位数分钟\n",
    "- 秒\n",
    "  - %S：两位数秒\n",
    "- 星期\n",
    "  - %a：本地简化星期名称\n",
    "  - %A：本地完整星期名称\n",
    "  - %w：星期几（0~6，0为星期天）"
   ]
  },
  {
   "cell_type": "code",
   "execution_count": 5,
   "metadata": {},
   "outputs": [
    {
     "data": {
      "text/plain": [
       "'Wed Mar 12 13:51:54 2025 中国标准时间'"
      ]
     },
     "execution_count": 5,
     "metadata": {},
     "output_type": "execute_result"
    },
    {
     "data": {
      "text/plain": [
       "'2025年03月12日 13时51分54秒'"
      ]
     },
     "execution_count": 5,
     "metadata": {},
     "output_type": "execute_result"
    }
   ],
   "source": [
    "time.strftime(\"%c %Z\")\n",
    "time.strftime(\"%Y年%m月%d日 %H时%M分%S秒\")"
   ]
  },
  {
   "cell_type": "markdown",
   "metadata": {},
   "source": [
    "### 四、解析时间字符串"
   ]
  },
  {
   "cell_type": "code",
   "execution_count": 11,
   "metadata": {},
   "outputs": [
    {
     "name": "stdout",
     "output_type": "stream",
     "text": [
      "time.struct_time(tm_year=2025, tm_mon=3, tm_mday=12, tm_hour=13, tm_min=51, tm_sec=54, tm_wday=2, tm_yday=71, tm_isdst=-1)\n"
     ]
    },
    {
     "data": {
      "text/plain": [
       "'Wed Mar 12 13:51:54 2025'"
      ]
     },
     "execution_count": 11,
     "metadata": {},
     "output_type": "execute_result"
    }
   ],
   "source": [
    "t = time.strptime(\"2025年03月12日 13时51分54秒\", \"%Y年%m月%d日 %H时%M分%S秒\")\n",
    "print(t)\n",
    "time.asctime(t)"
   ]
  },
  {
   "cell_type": "markdown",
   "metadata": {},
   "source": [
    "### 五、程序延时"
   ]
  },
  {
   "cell_type": "code",
   "execution_count": null,
   "metadata": {},
   "outputs": [],
   "source": [
    "time.sleep(2)  # 以秒为单位"
   ]
  },
  {
   "cell_type": "markdown",
   "metadata": {},
   "source": [
    "### 六、程序计时"
   ]
  },
  {
   "cell_type": "markdown",
   "metadata": {},
   "source": [
    "**高精度计时**，适用于 **代码执行时间测量（包含sleep时间）**"
   ]
  },
  {
   "cell_type": "code",
   "execution_count": 6,
   "metadata": {},
   "outputs": [
    {
     "name": "stdout",
     "output_type": "stream",
     "text": [
      "耗时: 1.014602 秒\n"
     ]
    }
   ],
   "source": [
    "start = time.perf_counter()\n",
    "time.sleep(1)  # 模拟耗时操作\n",
    "end = time.perf_counter()\n",
    "\n",
    "print(f\"耗时: {end - start:.6f} 秒\")"
   ]
  },
  {
   "cell_type": "markdown",
   "metadata": {},
   "source": [
    "**进程运行时间**（不包括sleep时间），适用于 **计算 CPU 执行时间**。"
   ]
  },
  {
   "cell_type": "code",
   "execution_count": 7,
   "metadata": {},
   "outputs": [
    {
     "name": "stdout",
     "output_type": "stream",
     "text": [
      "CPU 运行时间: 0.031250 秒\n"
     ]
    }
   ],
   "source": [
    "start = time.process_time()\n",
    "for _ in range(10**6):  # 模拟 CPU 计算\n",
    "    pass\n",
    "end = time.process_time()\n",
    "\n",
    "print(f\"CPU 运行时间: {end - start:.6f} 秒\")"
   ]
  },
  {
   "cell_type": "code",
   "execution_count": 8,
   "metadata": {},
   "outputs": [
    {
     "name": "stdout",
     "output_type": "stream",
     "text": [
      "耗时: 0.000000 秒\n"
     ]
    }
   ],
   "source": [
    "start = time.process_time()\n",
    "time.sleep(1)  # 模拟耗时操作\n",
    "end = time.process_time()\n",
    "\n",
    "print(f\"耗时: {end - start:.6f} 秒\")"
   ]
  }
 ],
 "metadata": {
  "kernelspec": {
   "display_name": "Python 3",
   "language": "python",
   "name": "python3"
  },
  "language_info": {
   "codemirror_mode": {
    "name": "ipython",
    "version": 3
   },
   "file_extension": ".py",
   "mimetype": "text/x-python",
   "name": "python",
   "nbconvert_exporter": "python",
   "pygments_lexer": "ipython3",
   "version": "3.9.21"
  }
 },
 "nbformat": 4,
 "nbformat_minor": 2
}
