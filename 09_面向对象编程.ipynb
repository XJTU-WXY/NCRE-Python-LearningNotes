{
 "cells": [
  {
   "attachments": {},
   "cell_type": "markdown",
   "metadata": {},
   "source": [
    "# 面向对象编程"
   ]
  },
  {
   "attachments": {},
   "cell_type": "markdown",
   "metadata": {},
   "source": [
    "```python\n",
    "class 类名(*父类):\n",
    "    类属性1 = ……\n",
    "    类属性2 = ……\n",
    "    ……\n",
    "    def __init__(self, *args, **kwargs):  # 初始化方法（不是构造方法）\n",
    "        super().__init__()  # 调用直接父类的构造方法\n",
    "        self.实例属性1 = ……\n",
    "        self.实例属性2 = ……\n",
    "    \n",
    "    def 实例方法(self):\n",
    "        ……\n",
    "\n",
    "    @classmethod\n",
    "    def 类方法(cls):\n",
    "        ……\n",
    "    \n",
    "    @staticmethod\n",
    "    def 静态方法():\n",
    "        ……\n",
    "```"
   ]
  },
  {
   "attachments": {},
   "cell_type": "markdown",
   "metadata": {},
   "source": [
    "## 实例方法 vs 类方法 vs 静态方法"
   ]
  },
  {
   "attachments": {},
   "cell_type": "markdown",
   "metadata": {},
   "source": [
    "- **实例方法：** 绑定到实例，可以通过self形参访问和修改实例属性。\n",
    "- **类方法** (`@classmethod`)：绑定到类，可以通过cls形参访问和修改类属性。不需要实例化即可使用。\n",
    "- **静态方法** (`@staticmethod`)：独立的方法，不需要访问实例或类的属性，通常用于独立的工具方法。"
   ]
  },
  {
   "cell_type": "code",
   "execution_count": 9,
   "metadata": {},
   "outputs": [
    {
     "name": "stdout",
     "output_type": "stream",
     "text": [
      "==实例方法==\n",
      "实例属性\n",
      "类属性\n",
      "==类方法==\n",
      "类属性\n",
      "==静态方法==\n",
      "==类方法==\n",
      "类属性\n",
      "==静态方法==\n"
     ]
    },
    {
     "ename": "TypeError",
     "evalue": "instance_method() missing 1 required positional argument: 'self'",
     "output_type": "error",
     "traceback": [
      "\u001b[1;31m---------------------------------------------------------------------------\u001b[0m",
      "\u001b[1;31mTypeError\u001b[0m                                 Traceback (most recent call last)",
      "\u001b[1;32m<ipython-input-9-55fa522cd1db>\u001b[0m in \u001b[0;36m<module>\u001b[1;34m\u001b[0m\n\u001b[0;32m     29\u001b[0m \u001b[1;33m\u001b[0m\u001b[0m\n\u001b[0;32m     30\u001b[0m \u001b[1;31m# 类在未实例化之前，不可以调用实例方法\u001b[0m\u001b[1;33m\u001b[0m\u001b[1;33m\u001b[0m\u001b[0m\n\u001b[1;32m---> 31\u001b[1;33m \u001b[0mExample\u001b[0m\u001b[1;33m.\u001b[0m\u001b[0minstance_method\u001b[0m\u001b[1;33m(\u001b[0m\u001b[1;33m)\u001b[0m\u001b[1;33m\u001b[0m\u001b[0m\n\u001b[0m",
      "\u001b[1;31mTypeError\u001b[0m: instance_method() missing 1 required positional argument: 'self'"
     ]
    }
   ],
   "source": [
    "class Example:\n",
    "    class_var = \"类属性\"  # 类属性\n",
    "\n",
    "    def __init__(self, a):\n",
    "        self.instance_var = a  # 实例属性\n",
    "    \n",
    "    def instance_method(self):\n",
    "        print(\"==实例方法==\")\n",
    "        print(self.instance_var)\n",
    "        print(self.class_var)\n",
    "    \n",
    "    @classmethod\n",
    "    def class_method(cls):\n",
    "        print(\"==类方法==\")\n",
    "        print(cls.class_var)\n",
    "    \n",
    "    @staticmethod\n",
    "    def static_method():\n",
    "        print(\"==静态方法==\")\n",
    "\n",
    "e = Example(\"实例属性\")\n",
    "e.instance_method()\n",
    "Example.class_method()  # 调用类方法（无需实例化）\n",
    "Example.static_method()  # 调用静态方法（无需实例化）\n",
    "\n",
    "# 实例也可以访问类方法和静态方法\n",
    "e.class_method()\n",
    "e.static_method() \n",
    "\n",
    "# 类在未实例化之前，不可以调用实例方法\n",
    "Example.instance_method()"
   ]
  },
  {
   "cell_type": "code",
   "execution_count": 5,
   "metadata": {},
   "outputs": [
    {
     "name": "stdout",
     "output_type": "stream",
     "text": [
      "Alice 25\n"
     ]
    }
   ],
   "source": [
    "# 类方法的实际应用：工厂方法\n",
    "class Person:\n",
    "    def __init__(self, name, age):\n",
    "        self.name = name\n",
    "        self.age = age\n",
    "    \n",
    "    @classmethod\n",
    "    def from_birth_year(cls, name, birth_year):\n",
    "        \"\"\"通过出生年份创建对象\"\"\"\n",
    "        return cls(name, 2025 - birth_year)\n",
    "\n",
    "# 直接使用类方法创建实例\n",
    "p = Person.from_birth_year(\"Alice\", 2000)\n",
    "print(p.name, p.age)  # 输出：Alice 25"
   ]
  },
  {
   "attachments": {},
   "cell_type": "markdown",
   "metadata": {},
   "source": [
    "## 实例属性 vs 类属性\n",
    "| **对比项** | **类属性（Class Attribute）** | **实例属性（Instance Attribute）** |\n",
    "|---|---|---|\n",
    "| **定义位置** | 类内部，`__init__()` 方法外 | `__init__()` 方法中，使用 `self` |\n",
    "| **存储位置** | 存储在**类**的 `__dict__` 中（所有实例共享） | 存储在**实例**的 `__dict__` 中（各实例独立） |\n",
    "| **访问方式** | `类名.属性` 或 `实例.属性` | 只能通过 `实例.属性` 访问 |\n",
    "| **作用范围** | 作用于整个类（共享） | 仅作用于单个实例 |\n",
    "| **是否可变** | 直接修改类属性影响所有实例 | 修改实例属性不会影响其他实例 |\n",
    "### 类属性\n",
    "**定义在类内部，但在 `__init__()` 方法之外**，属于整个类。所有实例共享同一个类属性，**修改类属性会影响所有实例**。\n",
    "- 由**整个类**共享，所有实例访问的是**同一份数据**。\n",
    "- 通过 `类名.属性名` 或 `实例.属性名` 访问。\n",
    "- 任何实例**修改类属性时，实际上会创建一个新的实例属性，并不会影响类本身**。"
   ]
  },
  {
   "cell_type": "code",
   "execution_count": 6,
   "metadata": {},
   "outputs": [
    {
     "name": "stdout",
     "output_type": "stream",
     "text": [
      "我是类属性\n",
      "我是类属性\n",
      "类属性被修改\n",
      "类属性被修改\n",
      "实例属性\n",
      "类属性被修改\n"
     ]
    }
   ],
   "source": [
    "class Example:\n",
    "    class_attr = \"我是类属性\"  # 类属性\n",
    "\n",
    "# 创建两个实例\n",
    "obj1 = Example()\n",
    "obj2 = Example()\n",
    "\n",
    "# 访问类属性（所有实例共享）\n",
    "print(obj1.class_attr)  # 输出: 我是类属性\n",
    "print(obj2.class_attr)  # 输出: 我是类属性\n",
    "\n",
    "# 通过类名修改类属性（影响所有实例）\n",
    "Example.class_attr = \"类属性被修改\"\n",
    "print(obj1.class_attr)  # 输出: 类属性被修改\n",
    "print(obj2.class_attr)  # 输出: 类属性被修改\n",
    "\n",
    "# 通过实例修改类属性（只会为该实例创建新的实例属性）\n",
    "obj1.class_attr = \"实例属性\"\n",
    "print(obj1.class_attr)  # 输出: 实例属性\n",
    "print(obj2.class_attr)  # 仍然访问的是类属性，输出: 类属性被修改"
   ]
  },
  {
   "attachments": {},
   "cell_type": "markdown",
   "metadata": {},
   "source": [
    "**注意**\n",
    "- **当 `obj1.class_attr = \"实例属性\"` 之后，它创建了一个新的**`实例属性`**，而不是修改原来的 `class_attr`**。\n",
    "- **`obj2` 仍然访问的是类属性，因为它没有 `class_attr` 实例属性。**"
   ]
  },
  {
   "attachments": {},
   "cell_type": "markdown",
   "metadata": {},
   "source": [
    "### 实例属性\n",
    "**定义在 `__init__()` 方法中**，属于**实例对象**，每个实例都有自己独立的一份数据，**互不影响**。\n",
    "- 只能通过**实例**访问，不影响其他实例。\n",
    "- 通过 `self.属性名` 进行定义，每个实例拥有**自己的独立数据**。\n",
    "- **修改实例属性不会影响其他实例或类属性**。"
   ]
  },
  {
   "cell_type": "code",
   "execution_count": 7,
   "metadata": {},
   "outputs": [
    {
     "name": "stdout",
     "output_type": "stream",
     "text": [
      "我是 obj1 的实例属性\n",
      "我是 obj2 的实例属性\n",
      "obj1 修改了实例属性\n",
      "我是 obj2 的实例属性\n"
     ]
    }
   ],
   "source": [
    "class Example:\n",
    "    def __init__(self, value):\n",
    "        self.instance_attr = value  # 实例属性\n",
    "\n",
    "# 创建两个实例，分别赋值不同的实例属性\n",
    "obj1 = Example(\"我是 obj1 的实例属性\")\n",
    "obj2 = Example(\"我是 obj2 的实例属性\")\n",
    "\n",
    "print(obj1.instance_attr)  # 输出: 我是 obj1 的实例属性\n",
    "print(obj2.instance_attr)  # 输出: 我是 obj2 的实例属性\n",
    "\n",
    "# 修改 obj1 的实例属性，不影响 obj2\n",
    "obj1.instance_attr = \"obj1 修改了实例属性\"\n",
    "print(obj1.instance_attr)  # 输出: obj1 修改了实例属性\n",
    "print(obj2.instance_attr)  # 仍然是原来的: 我是 obj2 的实例属性"
   ]
  },
  {
   "attachments": {},
   "cell_type": "markdown",
   "metadata": {},
   "source": [
    "## 封装\n",
    "双下划线`__`声明私有属性或私有方法，只能在类的内部调用，不能在外部调用"
   ]
  },
  {
   "cell_type": "code",
   "execution_count": 11,
   "metadata": {},
   "outputs": [],
   "source": [
    "class Example:\n",
    "    def __init__(self, a):\n",
    "        self.__private_attr = a  # 定义一个私有实例属性\n",
    "    \n",
    "    def __private_method(self):  # 定义一个私有实例方法\n",
    "        print(self.__private_attr)\n",
    "    \n",
    "    def public_method(self):  # 定义一个公开实例方法\n",
    "        # 类的内部可以方法私有属性和私有方法\n",
    "        print(self.__private_attr)\n",
    "        self.__private_method()\n",
    "\n",
    "e = Example(\"私有属性\")"
   ]
  },
  {
   "cell_type": "code",
   "execution_count": 12,
   "metadata": {},
   "outputs": [
    {
     "name": "stdout",
     "output_type": "stream",
     "text": [
      "私有属性\n",
      "私有属性\n"
     ]
    }
   ],
   "source": [
    "e.public_method()  # 可正常调用公开方法"
   ]
  },
  {
   "cell_type": "code",
   "execution_count": 13,
   "metadata": {},
   "outputs": [
    {
     "ename": "AttributeError",
     "evalue": "'Example' object has no attribute '__private_method'",
     "output_type": "error",
     "traceback": [
      "\u001b[1;31m---------------------------------------------------------------------------\u001b[0m",
      "\u001b[1;31mAttributeError\u001b[0m                            Traceback (most recent call last)",
      "\u001b[1;32m<ipython-input-13-d5207b090aad>\u001b[0m in \u001b[0;36m<module>\u001b[1;34m\u001b[0m\n\u001b[1;32m----> 1\u001b[1;33m \u001b[0me\u001b[0m\u001b[1;33m.\u001b[0m\u001b[0m__private_method\u001b[0m\u001b[1;33m(\u001b[0m\u001b[1;33m)\u001b[0m\u001b[1;33m\u001b[0m\u001b[0m\n\u001b[0m",
      "\u001b[1;31mAttributeError\u001b[0m: 'Example' object has no attribute '__private_method'"
     ]
    }
   ],
   "source": [
    "e.__private_method()  # 不能调用私有方法"
   ]
  },
  {
   "cell_type": "code",
   "execution_count": 14,
   "metadata": {},
   "outputs": [
    {
     "ename": "AttributeError",
     "evalue": "'Example' object has no attribute '__private_attr'",
     "output_type": "error",
     "traceback": [
      "\u001b[1;31m---------------------------------------------------------------------------\u001b[0m",
      "\u001b[1;31mAttributeError\u001b[0m                            Traceback (most recent call last)",
      "\u001b[1;32m<ipython-input-14-5670f973d8ae>\u001b[0m in \u001b[0;36m<module>\u001b[1;34m\u001b[0m\n\u001b[1;32m----> 1\u001b[1;33m \u001b[0me\u001b[0m\u001b[1;33m.\u001b[0m\u001b[0m__private_attr\u001b[0m\u001b[1;33m\u001b[0m\u001b[0m\n\u001b[0m",
      "\u001b[1;31mAttributeError\u001b[0m: 'Example' object has no attribute '__private_attr'"
     ]
    }
   ],
   "source": [
    "e.__private_attr  # 不能调用私有属性"
   ]
  },
  {
   "cell_type": "code",
   "execution_count": 15,
   "metadata": {},
   "outputs": [
    {
     "data": {
      "text/plain": [
       "'私有属性'"
      ]
     },
     "execution_count": 15,
     "metadata": {},
     "output_type": "execute_result"
    }
   ],
   "source": [
    "e._Example__private_attr  # 仍可通过 _ClassName__属性 访问（不推荐）"
   ]
  },
  {
   "attachments": {},
   "cell_type": "markdown",
   "metadata": {},
   "source": [
    "## 继承\n",
    "### 单继承"
   ]
  },
  {
   "cell_type": "code",
   "execution_count": 16,
   "metadata": {},
   "outputs": [],
   "source": [
    "class People:  # 定义父类\n",
    "    def __init__(self, name, age):\n",
    "        self.name = name\n",
    "        self.age = age\n",
    "    def speak(self):\n",
    "        print(\"{}说：我{}岁\".format(self.name, self.age))\n",
    "\n",
    "class Student(People):  # Student子类继承People父类\n",
    "    def __init__(self, name, age, grade):\n",
    "        super().__init__(name, age)  # 调用父类构造函数\n",
    "        self.grade = grade\n",
    "    def speak(self):  # 重写父类的方法\n",
    "        print(\"{}说：我{}岁，现在读{}年级\".format(self.name, self.age, self.grade))"
   ]
  },
  {
   "cell_type": "code",
   "execution_count": 17,
   "metadata": {},
   "outputs": [
    {
     "name": "stdout",
     "output_type": "stream",
     "text": [
      "Alice说：我50岁\n",
      "Bob说：我12岁，现在读6年级\n"
     ]
    }
   ],
   "source": [
    "p = People(\"Alice\", 50)\n",
    "p.speak()\n",
    "s = Student(\"Bob\", 12, 6)\n",
    "s.speak()"
   ]
  },
  {
   "attachments": {},
   "cell_type": "markdown",
   "metadata": {},
   "source": [
    "### 多继承"
   ]
  },
  {
   "attachments": {},
   "cell_type": "markdown",
   "metadata": {},
   "source": [
    "## 多态\n",
    "不同类可以调用相同名称方法，但实现不同"
   ]
  },
  {
   "cell_type": "code",
   "execution_count": 18,
   "metadata": {},
   "outputs": [
    {
     "name": "stdout",
     "output_type": "stream",
     "text": [
      "Meow!\n",
      "Woof!\n"
     ]
    }
   ],
   "source": [
    "class Cat:\n",
    "    def speak(self):\n",
    "        return \"Meow!\"\n",
    "\n",
    "class Dog:\n",
    "    def speak(self):\n",
    "        return \"Woof!\"\n",
    "\n",
    "def animal_speak(animal):\n",
    "    print(animal.speak())  # 调用的同样名称的方法\n",
    "\n",
    "cat = Cat()  # 实例化一个Cat对象\n",
    "dog = Dog()  # 实例化一个Dog对象\n",
    "\n",
    "animal_speak(cat)  # Meow!\n",
    "animal_speak(dog)  # Woof!"
   ]
  }
 ],
 "metadata": {
  "kernelspec": {
   "display_name": "ncre",
   "language": "python",
   "name": "python3"
  },
  "language_info": {
   "codemirror_mode": {
    "name": "ipython",
    "version": 3
   },
   "file_extension": ".py",
   "mimetype": "text/x-python",
   "name": "python",
   "nbconvert_exporter": "python",
   "pygments_lexer": "ipython3",
   "version": "3.5.6"
  },
  "orig_nbformat": 4
 },
 "nbformat": 4,
 "nbformat_minor": 2
}
